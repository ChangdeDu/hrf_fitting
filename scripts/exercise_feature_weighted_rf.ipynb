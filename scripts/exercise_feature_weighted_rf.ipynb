{
 "cells": [
  {
   "cell_type": "markdown",
   "metadata": {},
   "source": [
    "### Theano code for the three basic operations of the fwrf model"
   ]
  },
  {
   "cell_type": "code",
   "execution_count": 2,
   "metadata": {
    "collapsed": false
   },
   "outputs": [
    {
     "name": "stdout",
     "output_type": "stream",
     "text": [
      "Populating the interactive namespace from numpy and matplotlib\n",
      "The autoreload extension is already loaded. To reload it, use:\n",
      "  %reload_ext autoreload\n"
     ]
    }
   ],
   "source": [
    "%pylab inline\n",
    "%load_ext autoreload\n",
    "%autoreload 2\n",
    "import numpy as np\n",
    "from hrf_fitting.src.feature_weighted_rf_models import apply_rf_to_feature_maps, bigmult, compute_grad"
   ]
  },
  {
   "cell_type": "markdown",
   "metadata": {},
   "source": [
    "#### data and model dimensions"
   ]
  },
  {
   "cell_type": "code",
   "execution_count": 3,
   "metadata": {
    "collapsed": true
   },
   "outputs": [],
   "source": [
    "Df, Do, Db = 2,2,1 ##number of sp. freq. bands, number of orientations, and 1 dimension for bias feature (=1)\n",
    "D = Df*Do+Db  ##number of feature maps\n",
    "T = 100  ##number of data samples\n",
    "Gx,Gy,Gw = 4,4,Df   ##coarse grid of r.f. params (centers/widths)\n",
    "G = Gx*Gy*Gw   ##total number of r.f. grid points. defines dimensions of prediction menu\n",
    "V = 30   ##voxels (chunksize)\n",
    "stim_size = 8 ##number of pixels in stimuli (on a side)\n",
    "n_image_channels = 1 ##could be 3 for color images.\n",
    "\n",
    "\n",
    "\n"
   ]
  },
  {
   "cell_type": "markdown",
   "metadata": {},
   "source": [
    "#### create a model_space ndarray from a stack of feature maps and a stack of r.f.'s"
   ]
  },
  {
   "cell_type": "code",
   "execution_count": 4,
   "metadata": {
    "collapsed": false
   },
   "outputs": [
    {
     "name": "stdout",
     "output_type": "stream",
     "text": [
      "(32, 100, 5)\n"
     ]
    }
   ],
   "source": [
    "rf_stack = np.random.rand(G,stim_size,stim_size).astype('float32')\n",
    "feature_maps = np.random.rand(T,D,stim_size,stim_size).astype('float32')\n",
    "model_space = apply_rf_to_feature_maps(rf_stack, feature_maps)\n",
    "print model_space.shape  ##<<should be G x T x D"
   ]
  },
  {
   "cell_type": "markdown",
   "metadata": {},
   "source": [
    "#### generate prediction menu by applying feature weights to the model space"
   ]
  },
  {
   "cell_type": "code",
   "execution_count": 5,
   "metadata": {
    "collapsed": false
   },
   "outputs": [
    {
     "data": {
      "text/plain": [
       "(32, 100, 30)"
      ]
     },
     "execution_count": 5,
     "metadata": {},
     "output_type": "execute_result"
    }
   ],
   "source": [
    "feature_weights = np.random.rand(G,D,V).astype('float32')\n",
    "prediction_menu = bigmult(model_space,feature_weights)  ##G x T x V\n",
    "prediction_menu.shape"
   ]
  },
  {
   "cell_type": "markdown",
   "metadata": {},
   "source": [
    "#### calculate gradient of sum of squared-difference error function w.r.t. to feature weights"
   ]
  },
  {
   "cell_type": "code",
   "execution_count": 8,
   "metadata": {
    "collapsed": false
   },
   "outputs": [],
   "source": [
    "voxel_data = np.random.rand(T,V).astype('float32')\n",
    "d_err_wrt_feature_weights = compute_grad(voxel_data, model_space, feature_weights)"
   ]
  },
  {
   "cell_type": "code",
   "execution_count": 9,
   "metadata": {
    "collapsed": false
   },
   "outputs": [
    {
     "data": {
      "text/plain": [
       "(100, 30)"
      ]
     },
     "execution_count": 9,
     "metadata": {},
     "output_type": "execute_result"
    }
   ],
   "source": [
    "voxel_data.shape"
   ]
  }
 ],
 "metadata": {
  "kernelspec": {
   "display_name": "Python 2",
   "language": "python",
   "name": "python2"
  },
  "language_info": {
   "codemirror_mode": {
    "name": "ipython",
    "version": 2
   },
   "file_extension": ".py",
   "mimetype": "text/x-python",
   "name": "python",
   "nbconvert_exporter": "python",
   "pygments_lexer": "ipython2",
   "version": "2.7.11"
  }
 },
 "nbformat": 4,
 "nbformat_minor": 0
}
