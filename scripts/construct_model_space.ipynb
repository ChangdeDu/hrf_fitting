{
 "cells": [
  {
   "cell_type": "markdown",
   "metadata": {},
   "source": [
    "### Exercise rf table, model space, and prediction menu code"
   ]
  },
  {
   "cell_type": "code",
   "execution_count": 1,
   "metadata": {
    "collapsed": false
   },
   "outputs": [
    {
     "name": "stderr",
     "output_type": "stream",
     "text": [
      "Using gpu device 0: GeForce GTX TITAN X\n"
     ]
    }
   ],
   "source": [
    "import matplotlib.pyplot as plt\n",
    "import numpy as np\n",
    "from hrf_fitting.src.feature_weighted_rf_models import make_rf_table,receptive_fields, model_space, prediction_menu\n",
    "\n",
    "%matplotlib inline  \n",
    "%load_ext autoreload\n",
    "%autoreload 2\n"
   ]
  },
  {
   "cell_type": "markdown",
   "metadata": {},
   "source": [
    "#### create an rf table"
   ]
  },
  {
   "cell_type": "code",
   "execution_count": 2,
   "metadata": {
    "collapsed": false
   },
   "outputs": [
    {
     "data": {
      "text/plain": [
       "(500, 6)"
      ]
     },
     "execution_count": 2,
     "metadata": {},
     "output_type": "execute_result"
    }
   ],
   "source": [
    "rf_table = make_rf_table(20, (.5, 2, 5), 2., pix_per_stim=3)\n",
    "rf_table.shape"
   ]
  },
  {
   "cell_type": "code",
   "execution_count": 3,
   "metadata": {
    "collapsed": false
   },
   "outputs": [
    {
     "data": {
      "text/html": [
       "<div>\n",
       "<table border=\"1\" class=\"dataframe\">\n",
       "  <thead>\n",
       "    <tr style=\"text-align: right;\">\n",
       "      <th></th>\n",
       "      <th>deg_per_radius</th>\n",
       "      <th>x_deg</th>\n",
       "      <th>y_deg</th>\n",
       "      <th>pix_per_radius</th>\n",
       "      <th>x_pix</th>\n",
       "      <th>y_pix</th>\n",
       "    </tr>\n",
       "  </thead>\n",
       "  <tbody>\n",
       "    <tr>\n",
       "      <th>0</th>\n",
       "      <td>0.5</td>\n",
       "      <td>-10.000000</td>\n",
       "      <td>-10</td>\n",
       "      <td>0.075</td>\n",
       "      <td>-1.500000</td>\n",
       "      <td>-1.5</td>\n",
       "    </tr>\n",
       "    <tr>\n",
       "      <th>1</th>\n",
       "      <td>0.5</td>\n",
       "      <td>-7.777778</td>\n",
       "      <td>-10</td>\n",
       "      <td>0.075</td>\n",
       "      <td>-1.166667</td>\n",
       "      <td>-1.5</td>\n",
       "    </tr>\n",
       "    <tr>\n",
       "      <th>2</th>\n",
       "      <td>0.5</td>\n",
       "      <td>-5.555556</td>\n",
       "      <td>-10</td>\n",
       "      <td>0.075</td>\n",
       "      <td>-0.833333</td>\n",
       "      <td>-1.5</td>\n",
       "    </tr>\n",
       "    <tr>\n",
       "      <th>3</th>\n",
       "      <td>0.5</td>\n",
       "      <td>-3.333333</td>\n",
       "      <td>-10</td>\n",
       "      <td>0.075</td>\n",
       "      <td>-0.500000</td>\n",
       "      <td>-1.5</td>\n",
       "    </tr>\n",
       "    <tr>\n",
       "      <th>4</th>\n",
       "      <td>0.5</td>\n",
       "      <td>-1.111111</td>\n",
       "      <td>-10</td>\n",
       "      <td>0.075</td>\n",
       "      <td>-0.166667</td>\n",
       "      <td>-1.5</td>\n",
       "    </tr>\n",
       "  </tbody>\n",
       "</table>\n",
       "</div>"
      ],
      "text/plain": [
       "   deg_per_radius      x_deg  y_deg  pix_per_radius     x_pix  y_pix\n",
       "0             0.5 -10.000000    -10           0.075 -1.500000   -1.5\n",
       "1             0.5  -7.777778    -10           0.075 -1.166667   -1.5\n",
       "2             0.5  -5.555556    -10           0.075 -0.833333   -1.5\n",
       "3             0.5  -3.333333    -10           0.075 -0.500000   -1.5\n",
       "4             0.5  -1.111111    -10           0.075 -0.166667   -1.5"
      ]
     },
     "execution_count": 3,
     "metadata": {},
     "output_type": "execute_result"
    }
   ],
   "source": [
    "rf_table.head()"
   ]
  },
  {
   "cell_type": "code",
   "execution_count": 4,
   "metadata": {
    "collapsed": false
   },
   "outputs": [
    {
     "data": {
      "text/html": [
       "<div>\n",
       "<table border=\"1\" class=\"dataframe\">\n",
       "  <thead>\n",
       "    <tr style=\"text-align: right;\">\n",
       "      <th></th>\n",
       "      <th>deg_per_radius</th>\n",
       "      <th>x_deg</th>\n",
       "      <th>y_deg</th>\n",
       "      <th>pix_per_radius</th>\n",
       "      <th>x_pix</th>\n",
       "      <th>y_pix</th>\n",
       "    </tr>\n",
       "  </thead>\n",
       "  <tbody>\n",
       "    <tr>\n",
       "      <th>495</th>\n",
       "      <td>2</td>\n",
       "      <td>1.111111</td>\n",
       "      <td>10</td>\n",
       "      <td>0.3</td>\n",
       "      <td>0.166667</td>\n",
       "      <td>1.5</td>\n",
       "    </tr>\n",
       "    <tr>\n",
       "      <th>496</th>\n",
       "      <td>2</td>\n",
       "      <td>3.333333</td>\n",
       "      <td>10</td>\n",
       "      <td>0.3</td>\n",
       "      <td>0.500000</td>\n",
       "      <td>1.5</td>\n",
       "    </tr>\n",
       "    <tr>\n",
       "      <th>497</th>\n",
       "      <td>2</td>\n",
       "      <td>5.555556</td>\n",
       "      <td>10</td>\n",
       "      <td>0.3</td>\n",
       "      <td>0.833333</td>\n",
       "      <td>1.5</td>\n",
       "    </tr>\n",
       "    <tr>\n",
       "      <th>498</th>\n",
       "      <td>2</td>\n",
       "      <td>7.777778</td>\n",
       "      <td>10</td>\n",
       "      <td>0.3</td>\n",
       "      <td>1.166667</td>\n",
       "      <td>1.5</td>\n",
       "    </tr>\n",
       "    <tr>\n",
       "      <th>499</th>\n",
       "      <td>2</td>\n",
       "      <td>10.000000</td>\n",
       "      <td>10</td>\n",
       "      <td>0.3</td>\n",
       "      <td>1.500000</td>\n",
       "      <td>1.5</td>\n",
       "    </tr>\n",
       "  </tbody>\n",
       "</table>\n",
       "</div>"
      ],
      "text/plain": [
       "     deg_per_radius      x_deg  y_deg  pix_per_radius     x_pix  y_pix\n",
       "495               2   1.111111     10             0.3  0.166667    1.5\n",
       "496               2   3.333333     10             0.3  0.500000    1.5\n",
       "497               2   5.555556     10             0.3  0.833333    1.5\n",
       "498               2   7.777778     10             0.3  1.166667    1.5\n",
       "499               2  10.000000     10             0.3  1.500000    1.5"
      ]
     },
     "execution_count": 4,
     "metadata": {},
     "output_type": "execute_result"
    }
   ],
   "source": [
    "rf_table.tail()"
   ]
  },
  {
   "cell_type": "code",
   "execution_count": 5,
   "metadata": {
    "collapsed": false
   },
   "outputs": [
    {
     "name": "stderr",
     "output_type": "stream",
     "text": [
      "/home/tnaselar/anaconda/lib/python2.7/site-packages/matplotlib/collections.py:590: FutureWarning: elementwise comparison failed; returning scalar instead, but in the future will perform elementwise comparison\n",
      "  if self._edgecolors == str('face'):\n"
     ]
    },
    {
     "data": {
      "image/png": "[encoded data removed]",
      "text/plain": [
       "<matplotlib.figure.Figure at 0x7f00d4ea8b10>"
      ]
     },
     "metadata": {},
     "output_type": "display_data"
    }
   ],
   "source": [
    "ax = rf_table.plot(x='x_deg',y='y_deg',kind='scatter',)\n",
    "ax.set_aspect('equal')"
   ]
  },
  {
   "cell_type": "markdown",
   "metadata": {},
   "source": [
    "#### instantiate a receptive_fields object"
   ]
  },
  {
   "cell_type": "code",
   "execution_count": 6,
   "metadata": {
    "collapsed": true
   },
   "outputs": [],
   "source": [
    "rf = receptive_fields(20,(.5, 7,8),.5)"
   ]
  },
  {
   "cell_type": "code",
   "execution_count": 7,
   "metadata": {
    "collapsed": false
   },
   "outputs": [
    {
     "data": {
      "text/plain": [
       "12800"
      ]
     },
     "execution_count": 7,
     "metadata": {},
     "output_type": "execute_result"
    }
   ],
   "source": [
    "rf.rf_table.shape[0]"
   ]
  },
  {
   "cell_type": "code",
   "execution_count": 8,
   "metadata": {
    "collapsed": false
   },
   "outputs": [
    {
     "data": {
      "text/plain": [
       "12800"
      ]
     },
     "execution_count": 8,
     "metadata": {},
     "output_type": "execute_result"
    }
   ],
   "source": [
    "##the total number of rf models (# sizes x # locations)\n",
    "rf.G"
   ]
  },
  {
   "cell_type": "code",
   "execution_count": 9,
   "metadata": {
    "collapsed": false
   },
   "outputs": [
    {
     "name": "stdout",
     "output_type": "stream",
     "text": [
      "at pixel resolution 8 the following rfs will default to 0: (array([ 0.5       ,  1.42857143,  2.35714286]),)\n"
     ]
    }
   ],
   "source": [
    "##generate rf model filters (pictures of gaussian blobs) at desired resolution.\n",
    "##note that not all rf's will survive at all resolutions. we print a message in this case and return 0's\n",
    "rf_stack = rf.make_rf_stack(8,min_pix_per_radius=1)"
   ]
  },
  {
   "cell_type": "code",
   "execution_count": 10,
   "metadata": {
    "collapsed": false
   },
   "outputs": [
    {
     "data": {
      "text/plain": [
       "<matplotlib.image.AxesImage at 0x7f008295d9d0>"
      ]
     },
     "execution_count": 10,
     "metadata": {},
     "output_type": "execute_result"
    },
    {
     "data": {
      "image/png": "[encoded data removed]",
      "text/plain": [
       "<matplotlib.figure.Figure at 0x7f00795c5890>"
      ]
     },
     "metadata": {},
     "output_type": "display_data"
    }
   ],
   "source": [
    "plt.imshow(rf_stack[-1,:,:])"
   ]
  },
  {
   "cell_type": "markdown",
   "metadata": {},
   "source": [
    "#### construct a model space"
   ]
  },
  {
   "cell_type": "code",
   "execution_count": 11,
   "metadata": {
    "collapsed": false
   },
   "outputs": [],
   "source": [
    "T = 14\n",
    "fd = {}\n",
    "D = [1,2,3,4]\n",
    "S = [10,20,30,40]\n",
    "names = ['a','b','c','d']\n",
    "for i,n in enumerate(names):\n",
    "    fd[n] = np.random.rand(T,D[i],S[i],S[i]).astype('float32')\n",
    "ms = model_space(fd,rf,add_bias=True)"
   ]
  },
  {
   "cell_type": "code",
   "execution_count": 12,
   "metadata": {
    "collapsed": false
   },
   "outputs": [
    {
     "name": "stdout",
     "output_type": "stream",
     "text": [
      "11\n",
      "{'a': 1, 'c': 3, 'b': 2, 'bias': 1, 'd': 4}\n",
      "{'a': array([0]), 'c': array([1, 2, 3]), 'b': array([4, 5]), 'bias': -1, 'd': array([6, 7, 8, 9])}\n",
      "['a', 'c', 'b', 'bias', 'd']\n"
     ]
    }
   ],
   "source": [
    "print ms.D\n",
    "print ms.feature_depth\n",
    "print ms.feature_indices\n",
    "print ms.feature_depth.keys()"
   ]
  },
  {
   "cell_type": "markdown",
   "metadata": {},
   "source": [
    "##### the logic of normalization.\n",
    "By default, we normalize all model_space_tensors. However, the model_space object will complain until you \n",
    "have explicitly saved a set of normalization constants. So, you have identify what you consider to be the\n",
    "\"training data\", generate a model_space_tensor from this data with \"normalize=False\", then \n",
    "normalize the resulting mst with \"save=True\".\n",
    "\n",
    "After that, any additional mst's generated by by the model_space object will be normalized using the saved\n",
    "means and standard deviations."
   ]
  },
  {
   "cell_type": "code",
   "execution_count": 13,
   "metadata": {
    "collapsed": false
   },
   "outputs": [
    {
     "name": "stdout",
     "output_type": "stream",
     "text": [
      "at pixel resolution 10 the following rfs will default to 0: (array([ 0.5       ,  1.42857143]),)\n",
      "at pixel resolution 30 the following rfs will default to 0: (array([ 0.5]),)\n",
      "at pixel resolution 20 the following rfs will default to 0: (array([ 0.5]),)\n"
     ]
    },
    {
     "ename": "Exception",
     "evalue": "if you want to compute the mean and stdev from the current data, you have to commit to saving it as an attribute",
     "output_type": "error",
     "traceback": [
      "\u001b[1;31m---------------------------------------------------------------------------\u001b[0m",
      "\u001b[1;31mException\u001b[0m                                 Traceback (most recent call last)",
      "\u001b[1;32m<ipython-input-13-606e94684099>\u001b[0m in \u001b[0;36m<module>\u001b[1;34m()\u001b[0m\n\u001b[0;32m      1\u001b[0m \u001b[1;31m##this will fail because it will try to apply normalization by default, but we haven't\u001b[0m\u001b[1;33m\u001b[0m\u001b[1;33m\u001b[0m\u001b[0m\n\u001b[0;32m      2\u001b[0m \u001b[1;31m##saved any normalization constants yet\u001b[0m\u001b[1;33m\u001b[0m\u001b[1;33m\u001b[0m\u001b[0m\n\u001b[1;32m----> 3\u001b[1;33m \u001b[0mmst\u001b[0m \u001b[1;33m=\u001b[0m \u001b[0mms\u001b[0m\u001b[1;33m.\u001b[0m\u001b[0mconstruct_model_space_tensor\u001b[0m\u001b[1;33m(\u001b[0m\u001b[0mfd\u001b[0m\u001b[1;33m)\u001b[0m\u001b[1;33m\u001b[0m\u001b[0m\n\u001b[0m",
      "\u001b[1;32m/musc.repo/Docs/tnaselar/code/Python/hrf_fitting/src/feature_weighted_rf_models.pyc\u001b[0m in \u001b[0;36mconstruct_model_space_tensor\u001b[1;34m(self, feature_dict, normalize)\u001b[0m\n\u001b[0;32m    301\u001b[0m         \u001b[1;31m##\u001b[0m\u001b[1;33m\u001b[0m\u001b[1;33m\u001b[0m\u001b[0m\n\u001b[0;32m    302\u001b[0m         \u001b[1;32mif\u001b[0m \u001b[0mnormalize\u001b[0m\u001b[1;33m:\u001b[0m\u001b[1;33m\u001b[0m\u001b[0m\n\u001b[1;32m--> 303\u001b[1;33m             \u001b[0mmst\u001b[0m \u001b[1;33m=\u001b[0m \u001b[0mself\u001b[0m\u001b[1;33m.\u001b[0m\u001b[0mnormalize_model_space_tensor\u001b[0m\u001b[1;33m(\u001b[0m\u001b[0mmst\u001b[0m\u001b[1;33m,\u001b[0m\u001b[0msave\u001b[0m\u001b[1;33m=\u001b[0m\u001b[0mFalse\u001b[0m\u001b[1;33m)\u001b[0m  \u001b[1;31m##save = false so won't work unless\u001b[0m\u001b[1;33m\u001b[0m\u001b[0m\n\u001b[0m\u001b[0;32m    304\u001b[0m                                                                      \u001b[1;31m##you've already stored normalization_constants\u001b[0m\u001b[1;33m\u001b[0m\u001b[1;33m\u001b[0m\u001b[0m\n\u001b[0;32m    305\u001b[0m \u001b[1;33m\u001b[0m\u001b[0m\n",
      "\u001b[1;32m/musc.repo/Docs/tnaselar/code/Python/hrf_fitting/src/feature_weighted_rf_models.pyc\u001b[0m in \u001b[0;36mnormalize_model_space_tensor\u001b[1;34m(self, mst, save)\u001b[0m\n\u001b[0;32m    235\u001b[0m             \u001b[1;32mprint\u001b[0m \u001b[1;34m'normalization constants have been saved'\u001b[0m\u001b[1;33m\u001b[0m\u001b[0m\n\u001b[0;32m    236\u001b[0m         \u001b[1;32melse\u001b[0m\u001b[1;33m:\u001b[0m\u001b[1;33m\u001b[0m\u001b[0m\n\u001b[1;32m--> 237\u001b[1;33m             \u001b[1;32mraise\u001b[0m \u001b[0mException\u001b[0m\u001b[1;33m(\u001b[0m\u001b[1;34m'if you want to compute the mean and stdev from the current data, you have to commit to saving it as an attribute'\u001b[0m\u001b[1;33m)\u001b[0m\u001b[1;33m\u001b[0m\u001b[0m\n\u001b[0m\u001b[0;32m    238\u001b[0m \u001b[1;33m\u001b[0m\u001b[0m\n\u001b[0;32m    239\u001b[0m         \u001b[1;31m##z-score\u001b[0m\u001b[1;33m\u001b[0m\u001b[1;33m\u001b[0m\u001b[0m\n",
      "\u001b[1;31mException\u001b[0m: if you want to compute the mean and stdev from the current data, you have to commit to saving it as an attribute"
     ]
    }
   ],
   "source": [
    "##this will fail because it will try to apply normalization by default, but we haven't \n",
    "##saved any normalization constants yet\n",
    "mst = ms.construct_model_space_tensor(fd)\n"
   ]
  },
  {
   "cell_type": "code",
   "execution_count": 14,
   "metadata": {
    "collapsed": false
   },
   "outputs": [
    {
     "name": "stdout",
     "output_type": "stream",
     "text": [
      "at pixel resolution 10 the following rfs will default to 0: (array([ 0.5       ,  1.42857143]),)\n",
      "at pixel resolution 30 the following rfs will default to 0: (array([ 0.5]),)\n",
      "at pixel resolution 20 the following rfs will default to 0: (array([ 0.5]),)\n",
      "normalization constants have been saved\n",
      "model_space_tensor has been z-scored\n"
     ]
    }
   ],
   "source": [
    "##so we first generate an unormalized model_space_tensor\n",
    "mst = ms.construct_model_space_tensor(fd,normalize=False)\n",
    "\n",
    "##then we explicitly normalize it and save the normalization constants (i.e., the mean and stdev.)\n",
    "mst = ms.normalize_model_space_tensor(mst,save=True)\n"
   ]
  },
  {
   "cell_type": "code",
   "execution_count": 15,
   "metadata": {
    "collapsed": false
   },
   "outputs": [
    {
     "name": "stdout",
     "output_type": "stream",
     "text": [
      "at pixel resolution 10 the following rfs will default to 0: (array([ 0.5       ,  1.42857143]),)\n",
      "at pixel resolution 30 the following rfs will default to 0: (array([ 0.5]),)\n",
      "at pixel resolution 20 the following rfs will default to 0: (array([ 0.5]),)\n",
      "model_space_tensor has been z-scored\n"
     ]
    }
   ],
   "source": [
    "##now we pass feature maps of a different set of stimuli and the saved normlztn. constants\n",
    "##will be applied by default when we construct a new model_space_tensor\n",
    "T = 14\n",
    "new_fd = {}\n",
    "for i,n in enumerate(names):\n",
    "    new_fd[n] = np.random.rand(T,D[i],S[i],S[i]).astype('float32')\n",
    "\n",
    "new_mst = ms.construct_model_space_tensor(new_fd)"
   ]
  },
  {
   "cell_type": "markdown",
   "metadata": {},
   "source": [
    "#### create prediction menus given the model space and some feature weights"
   ]
  },
  {
   "cell_type": "code",
   "execution_count": 16,
   "metadata": {
    "collapsed": true
   },
   "outputs": [],
   "source": [
    "V = 50 ##number of voxels\n",
    "feature_weights = np.random.rand(ms.receptive_fields.G, ms.D, V).astype('float32')"
   ]
  },
  {
   "cell_type": "code",
   "execution_count": 17,
   "metadata": {
    "collapsed": false
   },
   "outputs": [
    {
     "name": "stdout",
     "output_type": "stream",
     "text": [
      "(12800, 14, 11)\n",
      "(12800, 11, 50)\n"
     ]
    }
   ],
   "source": [
    "print mst.shape\n",
    "print feature_weights.shape"
   ]
  },
  {
   "cell_type": "code",
   "execution_count": 18,
   "metadata": {
    "collapsed": false,
    "scrolled": true
   },
   "outputs": [
    {
     "name": "stdout",
     "output_type": "stream",
     "text": [
      "(12800, 14, 50)\n"
     ]
    }
   ],
   "source": [
    "##initially we have feature weights for each voxel for each potential rf model\n",
    "pmt = prediction_menu(mst.astype('float32'), feature_weights)\n",
    "print pmt.shape"
   ]
  },
  {
   "cell_type": "code",
   "execution_count": 19,
   "metadata": {
    "collapsed": true
   },
   "outputs": [],
   "source": [
    "##after some traning, we've identified the best rf model for each voxel and stored the corresponding feature_weights\n",
    "best_feature_weights = np.zeros((ms.D,V))\n",
    "best_rfs = np.random.randint(0,high=ms.receptive_fields.G,size=V)\n",
    "for v in range(V):\n",
    "    best_feature_weights[:,v] = feature_weights[best_rfs[v],:,v]\n",
    "best_feature_weights = best_feature_weights.astype('float32')"
   ]
  },
  {
   "cell_type": "code",
   "execution_count": 20,
   "metadata": {
    "collapsed": false,
    "scrolled": true
   },
   "outputs": [
    {
     "name": "stderr",
     "output_type": "stream",
     "text": [
      "/musc.repo/Docs/tnaselar/code/Python/hrf_fitting/src/feature_weighted_rf_models.py:332: FutureWarning: comparison to `None` will result in an elementwise object comparison in the future.\n",
      "  if rf_indices != None:\n"
     ]
    }
   ],
   "source": [
    "##we can then pass only the best feature weights and the indices for the best rfs\n",
    "best_pmt = prediction_menu(mst, best_feature_weights[np.newaxis,:,:], rf_indices=best_rfs)"
   ]
  },
  {
   "cell_type": "code",
   "execution_count": 21,
   "metadata": {
    "collapsed": false
   },
   "outputs": [
    {
     "data": {
      "text/plain": [
       "(14, 50)"
      ]
     },
     "execution_count": 21,
     "metadata": {},
     "output_type": "execute_result"
    }
   ],
   "source": [
    "##and get predictions for only the best model for each voxel\n",
    "best_pmt.shape  ##= Time x Voxel"
   ]
  },
  {
   "cell_type": "code",
   "execution_count": null,
   "metadata": {
    "collapsed": true
   },
   "outputs": [],
   "source": [
    "##we can then go back use the model_space object to see "
   ]
  },
  {
   "cell_type": "code",
   "execution_count": null,
   "metadata": {
    "collapsed": true
   },
   "outputs": [],
   "source": []
  }
 ],
 "metadata": {
  "kernelspec": {
   "display_name": "Python 2",
   "language": "python",
   "name": "python2"
  },
  "language_info": {
   "codemirror_mode": {
    "name": "ipython",
    "version": 2
   },
   "file_extension": ".py",
   "mimetype": "text/x-python",
   "name": "python",
   "nbconvert_exporter": "python",
   "pygments_lexer": "ipython2",
   "version": "2.7.11"
  }
 },
 "nbformat": 4,
 "nbformat_minor": 0
}
