{
 "cells": [
  {
   "cell_type": "code",
   "execution_count": 77,
   "metadata": {
    "collapsed": true
   },
   "outputs": [],
   "source": [
    "from numba import jit\n",
    "import numpy as np\n",
    "from time import time\n",
    "from joblib import Parallel, delayed\n",
    "import matplotlib.pyplot as plt"
   ]
  },
  {
   "cell_type": "markdown",
   "metadata": {},
   "source": [
    "Define the basic preprocessing function as a numba jit-compiled function"
   ]
  },
  {
   "cell_type": "code",
   "execution_count": 44,
   "metadata": {
    "collapsed": true
   },
   "outputs": [],
   "source": [
    "@jit\n",
    "def my_tensordot(X,Y,p):\n",
    "    return np.abs(np.tensordot(X,Y[p,:,:],axes=2))"
   ]
  },
  {
   "cell_type": "markdown",
   "metadata": {},
   "source": [
    "Set up basic simulation"
   ]
  },
  {
   "cell_type": "code",
   "execution_count": 83,
   "metadata": {
    "collapsed": true
   },
   "outputs": [],
   "source": [
    "pic_size = 148\n",
    "pic_num = 4500\n",
    "filter_num = 500\n",
    "X = np.random.rand(pic_num,pic_size,pic_size)\n",
    "Y = np.random.rand(filter_num,pic_size,pic_size)"
   ]
  },
  {
   "cell_type": "markdown",
   "metadata": {},
   "source": [
    "Compare numba to standard tensordot..."
   ]
  },
  {
   "cell_type": "code",
   "execution_count": 57,
   "metadata": {
    "collapsed": false
   },
   "outputs": [
    {
     "name": "stdout",
     "output_type": "stream",
     "text": [
      "10 loops, best of 3: 69 ms per loop\n"
     ]
    }
   ],
   "source": [
    "%%timeit\n",
    "my_tensordot(X,Y,0)"
   ]
  },
  {
   "cell_type": "code",
   "execution_count": 58,
   "metadata": {
    "collapsed": false
   },
   "outputs": [
    {
     "name": "stdout",
     "output_type": "stream",
     "text": [
      "10 loops, best of 3: 68.9 ms per loop\n"
     ]
    }
   ],
   "source": [
    "%%timeit\n",
    "np.abs(np.tensordot(X,Y[0,:,:],axes=2))"
   ]
  },
  {
   "cell_type": "markdown",
   "metadata": {},
   "source": [
    "^^^Absolutely no benefit. Now let's compare job-lib multithreading to standard..."
   ]
  },
  {
   "cell_type": "code",
   "execution_count": 68,
   "metadata": {
    "collapsed": true
   },
   "outputs": [],
   "source": [
    "def foo(A,B):\n",
    "   return np.abs(np.tensordot(A,B,axes=2)) "
   ]
  },
  {
   "cell_type": "markdown",
   "metadata": {},
   "source": [
    "Standard..."
   ]
  },
  {
   "cell_type": "code",
   "execution_count": 69,
   "metadata": {
    "collapsed": false
   },
   "outputs": [
    {
     "name": "stdout",
     "output_type": "stream",
     "text": [
      "35.441913\n"
     ]
    }
   ],
   "source": [
    "start = time()\n",
    "outputs = np.zeros((pic_num,filter_num))\n",
    "for p in range(filter_num):\n",
    "    outputs[:,p]=foo(X,Y[p,:,:])\n",
    "print '%f' %(time()-start)    "
   ]
  },
  {
   "cell_type": "markdown",
   "metadata": {},
   "source": [
    "...job-lib'ed"
   ]
  },
  {
   "cell_type": "code",
   "execution_count": 70,
   "metadata": {
    "collapsed": false
   },
   "outputs": [
    {
     "name": "stdout",
     "output_type": "stream",
     "text": [
      "23.717820\n"
     ]
    }
   ],
   "source": [
    "start = time()\n",
    "new_outs = Parallel(n_jobs=-1)(delayed(foo)(X,Y[p,:,:]) for p in range(filter_num))\n",
    "print '%f' %(time()-start)    "
   ]
  },
  {
   "cell_type": "markdown",
   "metadata": {},
   "source": [
    "multi-threading gives a significant speedup for this loop."
   ]
  },
  {
   "cell_type": "code",
   "execution_count": 79,
   "metadata": {
    "collapsed": false
   },
   "outputs": [
    {
     "name": "stdout",
     "output_type": "stream",
     "text": [
      "(4500, 500)\n",
      "(4500, 500)\n"
     ]
    }
   ],
   "source": [
    "print np.array(new_outs).T.shape\n",
    "print outputs.shape\n",
    "plt.figure\n",
    "plt.scatter(np.array(new_outs).T.ravel(),outputs.ravel())\n",
    "plt.show()"
   ]
  },
  {
   "cell_type": "markdown",
   "metadata": {},
   "source": [
    "...and the outputs match!"
   ]
  },
  {
   "cell_type": "markdown",
   "metadata": {},
   "source": [
    "One more time: let's try to numba the loop, instead of just the function"
   ]
  },
  {
   "cell_type": "code",
   "execution_count": 81,
   "metadata": {
    "collapsed": false
   },
   "outputs": [],
   "source": [
    "@jit\n",
    "def baz(A,B):\n",
    "    outputs = np.zeros((pic_num,filter_num))\n",
    "    for p in range(filter_num):\n",
    "        outputs[:,p]=foo(A,B[p,:,:])\n",
    "    return outputs"
   ]
  },
  {
   "cell_type": "code",
   "execution_count": 82,
   "metadata": {
    "collapsed": false
   },
   "outputs": [
    {
     "name": "stdout",
     "output_type": "stream",
     "text": [
      "35.319017\n"
     ]
    }
   ],
   "source": [
    "start = time()\n",
    "blarg = baz(X,Y)\n",
    "print '%f' %(time()-start)"
   ]
  },
  {
   "cell_type": "markdown",
   "metadata": {},
   "source": [
    "No joy. job-lib > numba = standard."
   ]
  },
  {
   "cell_type": "code",
   "execution_count": null,
   "metadata": {
    "collapsed": true
   },
   "outputs": [],
   "source": []
  }
 ],
 "metadata": {
  "kernelspec": {
   "display_name": "Python 2",
   "language": "python",
   "name": "python2"
  },
  "language_info": {
   "codemirror_mode": {
    "name": "ipython",
    "version": 2
   },
   "file_extension": ".py",
   "mimetype": "text/x-python",
   "name": "python",
   "nbconvert_exporter": "python",
   "pygments_lexer": "ipython2",
   "version": "2.7.10"
  }
 },
 "nbformat": 4,
 "nbformat_minor": 0
}
