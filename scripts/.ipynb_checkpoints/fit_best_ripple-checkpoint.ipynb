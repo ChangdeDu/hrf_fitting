{
 "cells": [
  {
   "cell_type": "markdown",
   "metadata": {},
   "source": [
    "##Fit a prf model with frequency selectivity and an output nonlinearity.\n",
    "July.2015 high-resolution CMRR data for the \"match_nonmatch\" project.\n",
    "\n",
    "Project notes: https://drive.google.com/open?id=1m1rmotkmtgwY99Q_k71YDorUPq_DkCSJ0LselY13_v4"
   ]
  },
  {
   "cell_type": "code",
   "execution_count": 49,
   "metadata": {
    "collapsed": false
   },
   "outputs": [
    {
     "name": "stdout",
     "output_type": "stream",
     "text": [
      "Populating the interactive namespace from numpy and matplotlib\n"
     ]
    }
   ],
   "source": [
    "%pylab inline\n",
    "import hrf_fitting.src.preprocessing as preproc\n",
    "import pandas as pd\n",
    "import numpy as np\n",
    "import matplotlib.pyplot as plt\n",
    "import scipy.ndimage\n",
    "import nibabel as nib\n",
    "\n",
    "\n",
    "from PIL import Image\n",
    "from hrf_fitting.src.features import construct_placement_grid,make_kernel_grid,complex_ripple_filter,compute_grid_corners\n",
    "from scipy.signal import convolve2d\n",
    "from os import path\n",
    "from sklearn import linear_model\n",
    "from glob import glob\n",
    "from sklearn.metrics import explained_variance_score,r2_score\n",
    "from scipy.stats.mstats import zscore\n",
    "from joblib import Parallel, delayed\n",
    "from time import time"
   ]
  },
  {
   "cell_type": "markdown",
   "metadata": {
    "collapsed": true
   },
   "source": [
    "###Select data"
   ]
  },
  {
   "cell_type": "markdown",
   "metadata": {},
   "source": [
    "select a subject and corresponding database"
   ]
  },
  {
   "cell_type": "code",
   "execution_count": 10,
   "metadata": {
    "collapsed": true
   },
   "outputs": [],
   "source": [
    "subject = 's1055'\n",
    "db =  '/media/tnaselar/Data/July_2015_preproc/'+subject+'/PS/aligned_db.csv'"
   ]
  },
  {
   "cell_type": "markdown",
   "metadata": {},
   "source": [
    "import into pandas dataframe and view it"
   ]
  },
  {
   "cell_type": "code",
   "execution_count": 11,
   "metadata": {
    "collapsed": false,
    "scrolled": true
   },
   "outputs": [
    {
     "data": {
      "text/html": [
       "<div style=\"max-height:1000px;max-width:1500px;overflow:auto;\">\n",
       "<table border=\"1\" class=\"dataframe\">\n",
       "  <thead>\n",
       "    <tr style=\"text-align: right;\">\n",
       "      <th></th>\n",
       "      <th>runID</th>\n",
       "      <th>date</th>\n",
       "      <th>subject</th>\n",
       "      <th>experiment</th>\n",
       "      <th>working_vol</th>\n",
       "      <th>brain_mask</th>\n",
       "      <th>sessionID</th>\n",
       "      <th>runType</th>\n",
       "      <th>design matrix</th>\n",
       "      <th>frame_file</th>\n",
       "      <th>...</th>\n",
       "      <th>vox_x</th>\n",
       "      <th>vox_y</th>\n",
       "      <th>vox_z</th>\n",
       "      <th>run_code_path</th>\n",
       "      <th>run_code_file</th>\n",
       "      <th>design_matrix_path</th>\n",
       "      <th>frameFilePath</th>\n",
       "      <th>picPath</th>\n",
       "      <th>siemensRef</th>\n",
       "      <th>padVol</th>\n",
       "    </tr>\n",
       "  </thead>\n",
       "  <tbody>\n",
       "    <tr>\n",
       "      <th>0</th>\n",
       "      <td> 0</td>\n",
       "      <td> 27/07/2015</td>\n",
       "      <td> s1055</td>\n",
       "      <td> match_nonmatch</td>\n",
       "      <td> /media/tnaselar/Data/July_2015_preproc/s1055/P...</td>\n",
       "      <td> /media/tnaselar/Data/July_2015_preproc/s1055/P...</td>\n",
       "      <td> 1</td>\n",
       "      <td> wedge</td>\n",
       "      <td> none</td>\n",
       "      <td> wedge_frame_file.txt</td>\n",
       "      <td>...</td>\n",
       "      <td> 0.8</td>\n",
       "      <td> 0.8</td>\n",
       "      <td> 0.8</td>\n",
       "      <td> /musc.repo/mri/7T.cmrr/July.2015/PS/presentation</td>\n",
       "      <td> run_experiment.py</td>\n",
       "      <td> none</td>\n",
       "      <td> /musc.repo/mri/7T.cmrr/July.2015/PS/presentati...</td>\n",
       "      <td> /musc.repo/mri/7T.cmrr/July.2015/PS/presentati...</td>\n",
       "      <td> 0</td>\n",
       "      <td> 0</td>\n",
       "    </tr>\n",
       "    <tr>\n",
       "      <th>1</th>\n",
       "      <td> 1</td>\n",
       "      <td> 27/07/2015</td>\n",
       "      <td> s1055</td>\n",
       "      <td> match_nonmatch</td>\n",
       "      <td> /media/tnaselar/Data/July_2015_preproc/s1055/P...</td>\n",
       "      <td> /media/tnaselar/Data/July_2015_preproc/s1055/P...</td>\n",
       "      <td> 1</td>\n",
       "      <td> wedge</td>\n",
       "      <td> none</td>\n",
       "      <td> wedge_frame_file.txt</td>\n",
       "      <td>...</td>\n",
       "      <td> 0.8</td>\n",
       "      <td> 0.8</td>\n",
       "      <td> 0.8</td>\n",
       "      <td> /musc.repo/mri/7T.cmrr/July.2015/PS/presentation</td>\n",
       "      <td> run_experiment.py</td>\n",
       "      <td> none</td>\n",
       "      <td> /musc.repo/mri/7T.cmrr/July.2015/PS/presentati...</td>\n",
       "      <td> /musc.repo/mri/7T.cmrr/July.2015/PS/presentati...</td>\n",
       "      <td> 0</td>\n",
       "      <td> 0</td>\n",
       "    </tr>\n",
       "    <tr>\n",
       "      <th>2</th>\n",
       "      <td> 2</td>\n",
       "      <td> 27/07/2015</td>\n",
       "      <td> s1055</td>\n",
       "      <td> match_nonmatch</td>\n",
       "      <td> /media/tnaselar/Data/July_2015_preproc/s1055/P...</td>\n",
       "      <td> /media/tnaselar/Data/July_2015_preproc/s1055/P...</td>\n",
       "      <td> 1</td>\n",
       "      <td>   bar</td>\n",
       "      <td> none</td>\n",
       "      <td>   bar_frame_file.txt</td>\n",
       "      <td>...</td>\n",
       "      <td> 0.8</td>\n",
       "      <td> 0.8</td>\n",
       "      <td> 0.8</td>\n",
       "      <td> /musc.repo/mri/7T.cmrr/July.2015/PS/presentation</td>\n",
       "      <td> run_experiment.py</td>\n",
       "      <td> none</td>\n",
       "      <td> /musc.repo/mri/7T.cmrr/July.2015/PS/presentati...</td>\n",
       "      <td> /musc.repo/mri/7T.cmrr/July.2015/PS/presentati...</td>\n",
       "      <td> 0</td>\n",
       "      <td> 0</td>\n",
       "    </tr>\n",
       "    <tr>\n",
       "      <th>3</th>\n",
       "      <td> 3</td>\n",
       "      <td> 27/07/2015</td>\n",
       "      <td> s1055</td>\n",
       "      <td> match_nonmatch</td>\n",
       "      <td> /media/tnaselar/Data/July_2015_preproc/s1055/P...</td>\n",
       "      <td> /media/tnaselar/Data/July_2015_preproc/s1055/P...</td>\n",
       "      <td> 1</td>\n",
       "      <td>   bar</td>\n",
       "      <td> none</td>\n",
       "      <td>   bar_frame_file.txt</td>\n",
       "      <td>...</td>\n",
       "      <td> 0.8</td>\n",
       "      <td> 0.8</td>\n",
       "      <td> 0.8</td>\n",
       "      <td> /musc.repo/mri/7T.cmrr/July.2015/PS/presentation</td>\n",
       "      <td> run_experiment.py</td>\n",
       "      <td> none</td>\n",
       "      <td> /musc.repo/mri/7T.cmrr/July.2015/PS/presentati...</td>\n",
       "      <td> /musc.repo/mri/7T.cmrr/July.2015/PS/presentati...</td>\n",
       "      <td> 0</td>\n",
       "      <td> 0</td>\n",
       "    </tr>\n",
       "    <tr>\n",
       "      <th>4</th>\n",
       "      <td> 4</td>\n",
       "      <td> 27/07/2015</td>\n",
       "      <td> s1055</td>\n",
       "      <td> match_nonmatch</td>\n",
       "      <td> /media/tnaselar/Data/July_2015_preproc/s1055/P...</td>\n",
       "      <td> /media/tnaselar/Data/July_2015_preproc/s1055/P...</td>\n",
       "      <td> 1</td>\n",
       "      <td>   bar</td>\n",
       "      <td> none</td>\n",
       "      <td>   bar_frame_file.txt</td>\n",
       "      <td>...</td>\n",
       "      <td> 0.8</td>\n",
       "      <td> 0.8</td>\n",
       "      <td> 0.8</td>\n",
       "      <td> /musc.repo/mri/7T.cmrr/July.2015/PS/presentation</td>\n",
       "      <td> run_experiment.py</td>\n",
       "      <td> none</td>\n",
       "      <td> /musc.repo/mri/7T.cmrr/July.2015/PS/presentati...</td>\n",
       "      <td> /musc.repo/mri/7T.cmrr/July.2015/PS/presentati...</td>\n",
       "      <td> 0</td>\n",
       "      <td> 0</td>\n",
       "    </tr>\n",
       "  </tbody>\n",
       "</table>\n",
       "<p>5 rows × 29 columns</p>\n",
       "</div>"
      ],
      "text/plain": [
       "   runID        date subject      experiment  \\\n",
       "0      0  27/07/2015   s1055  match_nonmatch   \n",
       "1      1  27/07/2015   s1055  match_nonmatch   \n",
       "2      2  27/07/2015   s1055  match_nonmatch   \n",
       "3      3  27/07/2015   s1055  match_nonmatch   \n",
       "4      4  27/07/2015   s1055  match_nonmatch   \n",
       "\n",
       "                                         working_vol  \\\n",
       "0  /media/tnaselar/Data/July_2015_preproc/s1055/P...   \n",
       "1  /media/tnaselar/Data/July_2015_preproc/s1055/P...   \n",
       "2  /media/tnaselar/Data/July_2015_preproc/s1055/P...   \n",
       "3  /media/tnaselar/Data/July_2015_preproc/s1055/P...   \n",
       "4  /media/tnaselar/Data/July_2015_preproc/s1055/P...   \n",
       "\n",
       "                                          brain_mask  sessionID runType  \\\n",
       "0  /media/tnaselar/Data/July_2015_preproc/s1055/P...          1   wedge   \n",
       "1  /media/tnaselar/Data/July_2015_preproc/s1055/P...          1   wedge   \n",
       "2  /media/tnaselar/Data/July_2015_preproc/s1055/P...          1     bar   \n",
       "3  /media/tnaselar/Data/July_2015_preproc/s1055/P...          1     bar   \n",
       "4  /media/tnaselar/Data/July_2015_preproc/s1055/P...          1     bar   \n",
       "\n",
       "  design matrix            frame_file          ...          vox_x  vox_y  \\\n",
       "0          none  wedge_frame_file.txt          ...            0.8    0.8   \n",
       "1          none  wedge_frame_file.txt          ...            0.8    0.8   \n",
       "2          none    bar_frame_file.txt          ...            0.8    0.8   \n",
       "3          none    bar_frame_file.txt          ...            0.8    0.8   \n",
       "4          none    bar_frame_file.txt          ...            0.8    0.8   \n",
       "\n",
       "  vox_z                                     run_code_path      run_code_file  \\\n",
       "0   0.8  /musc.repo/mri/7T.cmrr/July.2015/PS/presentation  run_experiment.py   \n",
       "1   0.8  /musc.repo/mri/7T.cmrr/July.2015/PS/presentation  run_experiment.py   \n",
       "2   0.8  /musc.repo/mri/7T.cmrr/July.2015/PS/presentation  run_experiment.py   \n",
       "3   0.8  /musc.repo/mri/7T.cmrr/July.2015/PS/presentation  run_experiment.py   \n",
       "4   0.8  /musc.repo/mri/7T.cmrr/July.2015/PS/presentation  run_experiment.py   \n",
       "\n",
       "   design_matrix_path                                      frameFilePath  \\\n",
       "0                none  /musc.repo/mri/7T.cmrr/July.2015/PS/presentati...   \n",
       "1                none  /musc.repo/mri/7T.cmrr/July.2015/PS/presentati...   \n",
       "2                none  /musc.repo/mri/7T.cmrr/July.2015/PS/presentati...   \n",
       "3                none  /musc.repo/mri/7T.cmrr/July.2015/PS/presentati...   \n",
       "4                none  /musc.repo/mri/7T.cmrr/July.2015/PS/presentati...   \n",
       "\n",
       "                                             picPath  siemensRef  padVol  \n",
       "0  /musc.repo/mri/7T.cmrr/July.2015/PS/presentati...           0       0  \n",
       "1  /musc.repo/mri/7T.cmrr/July.2015/PS/presentati...           0       0  \n",
       "2  /musc.repo/mri/7T.cmrr/July.2015/PS/presentati...           0       0  \n",
       "3  /musc.repo/mri/7T.cmrr/July.2015/PS/presentati...           0       0  \n",
       "4  /musc.repo/mri/7T.cmrr/July.2015/PS/presentati...           0       0  \n",
       "\n",
       "[5 rows x 29 columns]"
      ]
     },
     "execution_count": 11,
     "metadata": {},
     "output_type": "execute_result"
    }
   ],
   "source": [
    "data_db = pd.io.parsers.read_csv(db,header=0)\n",
    "data_db.head(5)"
   ]
  },
  {
   "cell_type": "markdown",
   "metadata": {},
   "source": [
    "###Specify runs for training and testing the model"
   ]
  },
  {
   "cell_type": "code",
   "execution_count": 12,
   "metadata": {
    "collapsed": false
   },
   "outputs": [],
   "source": [
    "def select_run(row,runType):\n",
    "    return row['runType'] in [runType]\n",
    "\n",
    "\n",
    "wedge_runs = list(data_db[data_db.apply(select_run,axis=1,args=('wedge',))].runID)\n",
    "bar_runs = list(data_db[data_db.apply(select_run,axis=1,args=('bar',))].runID)\n",
    "art_runs = list(data_db[data_db.apply(select_run,axis=1,args=('art',))].runID)\n",
    "\n",
    "training_runs = wedge_runs[1:2]+bar_runs[1:2]\n",
    "selection_runs = wedge_runs[0:1]+bar_runs[0:1]\n",
    "validation_runs = wedge_runs[5:-1]+bar_runs[5:-1]\n",
    "# validation_run_ids = data_db[data_db.apply(lambda row: row['runType'] in validation_run_types,axis=1)].runID"
   ]
  },
  {
   "cell_type": "code",
   "execution_count": 13,
   "metadata": {
    "collapsed": false
   },
   "outputs": [
    {
     "data": {
      "text/html": [
       "<div style=\"max-height:1000px;max-width:1500px;overflow:auto;\">\n",
       "<table border=\"1\" class=\"dataframe\">\n",
       "  <thead>\n",
       "    <tr style=\"text-align: right;\">\n",
       "      <th></th>\n",
       "      <th>runID</th>\n",
       "      <th>date</th>\n",
       "      <th>subject</th>\n",
       "      <th>experiment</th>\n",
       "      <th>working_vol</th>\n",
       "      <th>brain_mask</th>\n",
       "      <th>sessionID</th>\n",
       "      <th>runType</th>\n",
       "      <th>design matrix</th>\n",
       "      <th>frame_file</th>\n",
       "      <th>...</th>\n",
       "      <th>vox_x</th>\n",
       "      <th>vox_y</th>\n",
       "      <th>vox_z</th>\n",
       "      <th>run_code_path</th>\n",
       "      <th>run_code_file</th>\n",
       "      <th>design_matrix_path</th>\n",
       "      <th>frameFilePath</th>\n",
       "      <th>picPath</th>\n",
       "      <th>siemensRef</th>\n",
       "      <th>padVol</th>\n",
       "    </tr>\n",
       "  </thead>\n",
       "  <tbody>\n",
       "    <tr>\n",
       "      <th>1</th>\n",
       "      <td> 1</td>\n",
       "      <td> 27/07/2015</td>\n",
       "      <td> s1055</td>\n",
       "      <td> match_nonmatch</td>\n",
       "      <td> /media/tnaselar/Data/July_2015_preproc/s1055/P...</td>\n",
       "      <td> /media/tnaselar/Data/July_2015_preproc/s1055/P...</td>\n",
       "      <td> 1</td>\n",
       "      <td> wedge</td>\n",
       "      <td> none</td>\n",
       "      <td> wedge_frame_file.txt</td>\n",
       "      <td>...</td>\n",
       "      <td> 0.8</td>\n",
       "      <td> 0.8</td>\n",
       "      <td> 0.8</td>\n",
       "      <td> /musc.repo/mri/7T.cmrr/July.2015/PS/presentation</td>\n",
       "      <td> run_experiment.py</td>\n",
       "      <td> none</td>\n",
       "      <td> /musc.repo/mri/7T.cmrr/July.2015/PS/presentati...</td>\n",
       "      <td> /musc.repo/mri/7T.cmrr/July.2015/PS/presentati...</td>\n",
       "      <td> 0</td>\n",
       "      <td> 0</td>\n",
       "    </tr>\n",
       "    <tr>\n",
       "      <th>3</th>\n",
       "      <td> 3</td>\n",
       "      <td> 27/07/2015</td>\n",
       "      <td> s1055</td>\n",
       "      <td> match_nonmatch</td>\n",
       "      <td> /media/tnaselar/Data/July_2015_preproc/s1055/P...</td>\n",
       "      <td> /media/tnaselar/Data/July_2015_preproc/s1055/P...</td>\n",
       "      <td> 1</td>\n",
       "      <td>   bar</td>\n",
       "      <td> none</td>\n",
       "      <td>   bar_frame_file.txt</td>\n",
       "      <td>...</td>\n",
       "      <td> 0.8</td>\n",
       "      <td> 0.8</td>\n",
       "      <td> 0.8</td>\n",
       "      <td> /musc.repo/mri/7T.cmrr/July.2015/PS/presentation</td>\n",
       "      <td> run_experiment.py</td>\n",
       "      <td> none</td>\n",
       "      <td> /musc.repo/mri/7T.cmrr/July.2015/PS/presentati...</td>\n",
       "      <td> /musc.repo/mri/7T.cmrr/July.2015/PS/presentati...</td>\n",
       "      <td> 0</td>\n",
       "      <td> 0</td>\n",
       "    </tr>\n",
       "  </tbody>\n",
       "</table>\n",
       "<p>2 rows × 29 columns</p>\n",
       "</div>"
      ],
      "text/plain": [
       "   runID        date subject      experiment  \\\n",
       "1      1  27/07/2015   s1055  match_nonmatch   \n",
       "3      3  27/07/2015   s1055  match_nonmatch   \n",
       "\n",
       "                                         working_vol  \\\n",
       "1  /media/tnaselar/Data/July_2015_preproc/s1055/P...   \n",
       "3  /media/tnaselar/Data/July_2015_preproc/s1055/P...   \n",
       "\n",
       "                                          brain_mask  sessionID runType  \\\n",
       "1  /media/tnaselar/Data/July_2015_preproc/s1055/P...          1   wedge   \n",
       "3  /media/tnaselar/Data/July_2015_preproc/s1055/P...          1     bar   \n",
       "\n",
       "  design matrix            frame_file          ...          vox_x  vox_y  \\\n",
       "1          none  wedge_frame_file.txt          ...            0.8    0.8   \n",
       "3          none    bar_frame_file.txt          ...            0.8    0.8   \n",
       "\n",
       "  vox_z                                     run_code_path      run_code_file  \\\n",
       "1   0.8  /musc.repo/mri/7T.cmrr/July.2015/PS/presentation  run_experiment.py   \n",
       "3   0.8  /musc.repo/mri/7T.cmrr/July.2015/PS/presentation  run_experiment.py   \n",
       "\n",
       "   design_matrix_path                                      frameFilePath  \\\n",
       "1                none  /musc.repo/mri/7T.cmrr/July.2015/PS/presentati...   \n",
       "3                none  /musc.repo/mri/7T.cmrr/July.2015/PS/presentati...   \n",
       "\n",
       "                                             picPath  siemensRef  padVol  \n",
       "1  /musc.repo/mri/7T.cmrr/July.2015/PS/presentati...           0       0  \n",
       "3  /musc.repo/mri/7T.cmrr/July.2015/PS/presentati...           0       0  \n",
       "\n",
       "[2 rows x 29 columns]"
      ]
     },
     "execution_count": 13,
     "metadata": {},
     "output_type": "execute_result"
    }
   ],
   "source": [
    "data_db.iloc[training_runs] "
   ]
  },
  {
   "cell_type": "code",
   "execution_count": 14,
   "metadata": {
    "collapsed": false
   },
   "outputs": [
    {
     "data": {
      "text/html": [
       "<div style=\"max-height:1000px;max-width:1500px;overflow:auto;\">\n",
       "<table border=\"1\" class=\"dataframe\">\n",
       "  <thead>\n",
       "    <tr style=\"text-align: right;\">\n",
       "      <th></th>\n",
       "      <th>runID</th>\n",
       "      <th>date</th>\n",
       "      <th>subject</th>\n",
       "      <th>experiment</th>\n",
       "      <th>working_vol</th>\n",
       "      <th>brain_mask</th>\n",
       "      <th>sessionID</th>\n",
       "      <th>runType</th>\n",
       "      <th>design matrix</th>\n",
       "      <th>frame_file</th>\n",
       "      <th>...</th>\n",
       "      <th>vox_x</th>\n",
       "      <th>vox_y</th>\n",
       "      <th>vox_z</th>\n",
       "      <th>run_code_path</th>\n",
       "      <th>run_code_file</th>\n",
       "      <th>design_matrix_path</th>\n",
       "      <th>frameFilePath</th>\n",
       "      <th>picPath</th>\n",
       "      <th>siemensRef</th>\n",
       "      <th>padVol</th>\n",
       "    </tr>\n",
       "  </thead>\n",
       "  <tbody>\n",
       "    <tr>\n",
       "      <th>0</th>\n",
       "      <td> 0</td>\n",
       "      <td> 27/07/2015</td>\n",
       "      <td> s1055</td>\n",
       "      <td> match_nonmatch</td>\n",
       "      <td> /media/tnaselar/Data/July_2015_preproc/s1055/P...</td>\n",
       "      <td> /media/tnaselar/Data/July_2015_preproc/s1055/P...</td>\n",
       "      <td> 1</td>\n",
       "      <td> wedge</td>\n",
       "      <td> none</td>\n",
       "      <td> wedge_frame_file.txt</td>\n",
       "      <td>...</td>\n",
       "      <td> 0.8</td>\n",
       "      <td> 0.8</td>\n",
       "      <td> 0.8</td>\n",
       "      <td> /musc.repo/mri/7T.cmrr/July.2015/PS/presentation</td>\n",
       "      <td> run_experiment.py</td>\n",
       "      <td> none</td>\n",
       "      <td> /musc.repo/mri/7T.cmrr/July.2015/PS/presentati...</td>\n",
       "      <td> /musc.repo/mri/7T.cmrr/July.2015/PS/presentati...</td>\n",
       "      <td> 0</td>\n",
       "      <td> 0</td>\n",
       "    </tr>\n",
       "    <tr>\n",
       "      <th>2</th>\n",
       "      <td> 2</td>\n",
       "      <td> 27/07/2015</td>\n",
       "      <td> s1055</td>\n",
       "      <td> match_nonmatch</td>\n",
       "      <td> /media/tnaselar/Data/July_2015_preproc/s1055/P...</td>\n",
       "      <td> /media/tnaselar/Data/July_2015_preproc/s1055/P...</td>\n",
       "      <td> 1</td>\n",
       "      <td>   bar</td>\n",
       "      <td> none</td>\n",
       "      <td>   bar_frame_file.txt</td>\n",
       "      <td>...</td>\n",
       "      <td> 0.8</td>\n",
       "      <td> 0.8</td>\n",
       "      <td> 0.8</td>\n",
       "      <td> /musc.repo/mri/7T.cmrr/July.2015/PS/presentation</td>\n",
       "      <td> run_experiment.py</td>\n",
       "      <td> none</td>\n",
       "      <td> /musc.repo/mri/7T.cmrr/July.2015/PS/presentati...</td>\n",
       "      <td> /musc.repo/mri/7T.cmrr/July.2015/PS/presentati...</td>\n",
       "      <td> 0</td>\n",
       "      <td> 0</td>\n",
       "    </tr>\n",
       "  </tbody>\n",
       "</table>\n",
       "<p>2 rows × 29 columns</p>\n",
       "</div>"
      ],
      "text/plain": [
       "   runID        date subject      experiment  \\\n",
       "0      0  27/07/2015   s1055  match_nonmatch   \n",
       "2      2  27/07/2015   s1055  match_nonmatch   \n",
       "\n",
       "                                         working_vol  \\\n",
       "0  /media/tnaselar/Data/July_2015_preproc/s1055/P...   \n",
       "2  /media/tnaselar/Data/July_2015_preproc/s1055/P...   \n",
       "\n",
       "                                          brain_mask  sessionID runType  \\\n",
       "0  /media/tnaselar/Data/July_2015_preproc/s1055/P...          1   wedge   \n",
       "2  /media/tnaselar/Data/July_2015_preproc/s1055/P...          1     bar   \n",
       "\n",
       "  design matrix            frame_file          ...          vox_x  vox_y  \\\n",
       "0          none  wedge_frame_file.txt          ...            0.8    0.8   \n",
       "2          none    bar_frame_file.txt          ...            0.8    0.8   \n",
       "\n",
       "  vox_z                                     run_code_path      run_code_file  \\\n",
       "0   0.8  /musc.repo/mri/7T.cmrr/July.2015/PS/presentation  run_experiment.py   \n",
       "2   0.8  /musc.repo/mri/7T.cmrr/July.2015/PS/presentation  run_experiment.py   \n",
       "\n",
       "   design_matrix_path                                      frameFilePath  \\\n",
       "0                none  /musc.repo/mri/7T.cmrr/July.2015/PS/presentati...   \n",
       "2                none  /musc.repo/mri/7T.cmrr/July.2015/PS/presentati...   \n",
       "\n",
       "                                             picPath  siemensRef  padVol  \n",
       "0  /musc.repo/mri/7T.cmrr/July.2015/PS/presentati...           0       0  \n",
       "2  /musc.repo/mri/7T.cmrr/July.2015/PS/presentati...           0       0  \n",
       "\n",
       "[2 rows x 29 columns]"
      ]
     },
     "execution_count": 14,
     "metadata": {},
     "output_type": "execute_result"
    }
   ],
   "source": [
    "data_db.iloc[selection_runs]"
   ]
  },
  {
   "cell_type": "code",
   "execution_count": 15,
   "metadata": {
    "collapsed": false
   },
   "outputs": [
    {
     "data": {
      "text/html": [
       "<div style=\"max-height:1000px;max-width:1500px;overflow:auto;\">\n",
       "<table border=\"1\" class=\"dataframe\">\n",
       "  <thead>\n",
       "    <tr style=\"text-align: right;\">\n",
       "      <th></th>\n",
       "      <th>runID</th>\n",
       "      <th>date</th>\n",
       "      <th>subject</th>\n",
       "      <th>experiment</th>\n",
       "      <th>working_vol</th>\n",
       "      <th>brain_mask</th>\n",
       "      <th>sessionID</th>\n",
       "      <th>runType</th>\n",
       "      <th>design matrix</th>\n",
       "      <th>frame_file</th>\n",
       "      <th>...</th>\n",
       "      <th>vox_x</th>\n",
       "      <th>vox_y</th>\n",
       "      <th>vox_z</th>\n",
       "      <th>run_code_path</th>\n",
       "      <th>run_code_file</th>\n",
       "      <th>design_matrix_path</th>\n",
       "      <th>frameFilePath</th>\n",
       "      <th>picPath</th>\n",
       "      <th>siemensRef</th>\n",
       "      <th>padVol</th>\n",
       "    </tr>\n",
       "  </thead>\n",
       "  <tbody>\n",
       "    <tr>\n",
       "      <th>21</th>\n",
       "      <td> 21</td>\n",
       "      <td> 04/08/2015</td>\n",
       "      <td> s1055</td>\n",
       "      <td> match_nonmatch</td>\n",
       "      <td> /media/tnaselar/Data/July_2015_preproc/s1055/P...</td>\n",
       "      <td> /media/tnaselar/Data/July_2015_preproc/s1055/P...</td>\n",
       "      <td> 1</td>\n",
       "      <td> wedge</td>\n",
       "      <td> none</td>\n",
       "      <td> wedge_frame_file.txt</td>\n",
       "      <td>...</td>\n",
       "      <td> 0.8</td>\n",
       "      <td> 0.8</td>\n",
       "      <td> 0.8</td>\n",
       "      <td> /musc.repo/mri/7T.cmrr/July.2015/PS/presentation</td>\n",
       "      <td> run_experiment.py</td>\n",
       "      <td> none</td>\n",
       "      <td> /musc.repo/mri/7T.cmrr/July.2015/PS/presentati...</td>\n",
       "      <td> /musc.repo/mri/7T.cmrr/July.2015/PS/presentati...</td>\n",
       "      <td> 0</td>\n",
       "      <td> 0</td>\n",
       "    </tr>\n",
       "    <tr>\n",
       "      <th>22</th>\n",
       "      <td> 22</td>\n",
       "      <td> 04/08/2015</td>\n",
       "      <td> s1055</td>\n",
       "      <td> match_nonmatch</td>\n",
       "      <td> /media/tnaselar/Data/July_2015_preproc/s1055/P...</td>\n",
       "      <td> /media/tnaselar/Data/July_2015_preproc/s1055/P...</td>\n",
       "      <td> 1</td>\n",
       "      <td>   bar</td>\n",
       "      <td> none</td>\n",
       "      <td>   bar_frame_file.txt</td>\n",
       "      <td>...</td>\n",
       "      <td> 0.8</td>\n",
       "      <td> 0.8</td>\n",
       "      <td> 0.8</td>\n",
       "      <td> /musc.repo/mri/7T.cmrr/July.2015/PS/presentation</td>\n",
       "      <td> run_experiment.py</td>\n",
       "      <td> none</td>\n",
       "      <td> /musc.repo/mri/7T.cmrr/July.2015/PS/presentati...</td>\n",
       "      <td> /musc.repo/mri/7T.cmrr/July.2015/PS/presentati...</td>\n",
       "      <td> 0</td>\n",
       "      <td> 0</td>\n",
       "    </tr>\n",
       "  </tbody>\n",
       "</table>\n",
       "<p>2 rows × 29 columns</p>\n",
       "</div>"
      ],
      "text/plain": [
       "    runID        date subject      experiment  \\\n",
       "21     21  04/08/2015   s1055  match_nonmatch   \n",
       "22     22  04/08/2015   s1055  match_nonmatch   \n",
       "\n",
       "                                          working_vol  \\\n",
       "21  /media/tnaselar/Data/July_2015_preproc/s1055/P...   \n",
       "22  /media/tnaselar/Data/July_2015_preproc/s1055/P...   \n",
       "\n",
       "                                           brain_mask  sessionID runType  \\\n",
       "21  /media/tnaselar/Data/July_2015_preproc/s1055/P...          1   wedge   \n",
       "22  /media/tnaselar/Data/July_2015_preproc/s1055/P...          1     bar   \n",
       "\n",
       "   design matrix            frame_file          ...          vox_x  vox_y  \\\n",
       "21          none  wedge_frame_file.txt          ...            0.8    0.8   \n",
       "22          none    bar_frame_file.txt          ...            0.8    0.8   \n",
       "\n",
       "   vox_z                                     run_code_path      run_code_file  \\\n",
       "21   0.8  /musc.repo/mri/7T.cmrr/July.2015/PS/presentation  run_experiment.py   \n",
       "22   0.8  /musc.repo/mri/7T.cmrr/July.2015/PS/presentation  run_experiment.py   \n",
       "\n",
       "    design_matrix_path                                      frameFilePath  \\\n",
       "21                none  /musc.repo/mri/7T.cmrr/July.2015/PS/presentati...   \n",
       "22                none  /musc.repo/mri/7T.cmrr/July.2015/PS/presentati...   \n",
       "\n",
       "                                              picPath  siemensRef  padVol  \n",
       "21  /musc.repo/mri/7T.cmrr/July.2015/PS/presentati...           0       0  \n",
       "22  /musc.repo/mri/7T.cmrr/July.2015/PS/presentati...           0       0  \n",
       "\n",
       "[2 rows x 29 columns]"
      ]
     },
     "execution_count": 15,
     "metadata": {},
     "output_type": "execute_result"
    }
   ],
   "source": [
    "data_db.iloc[validation_runs]"
   ]
  },
  {
   "cell_type": "markdown",
   "metadata": {},
   "source": [
    "###Load neural data"
   ]
  },
  {
   "cell_type": "code",
   "execution_count": 16,
   "metadata": {
    "collapsed": false,
    "scrolled": true
   },
   "outputs": [
    {
     "name": "stdout",
     "output_type": "stream",
     "text": [
      "detrending run 0 with window_length: 101\n",
      "detrending run 1 with window_length: 101\n",
      "zscoring 0 thru 200\n",
      "zscoring 200 thru 400\n",
      "detrending run 0 with window_length: 101\n",
      "detrending run 1 with window_length: 101\n",
      "zscoring 0 thru 200\n",
      "zscoring 200 thru 400\n",
      "detrending run 0 with window_length: 101\n",
      "detrending run 1 with window_length: 101\n",
      "zscoring 0 thru 200\n",
      "zscoring 200 thru 400\n"
     ]
    }
   ],
   "source": [
    "training_vols = preproc.load_runs(data_db,training_runs)\n",
    "selection_vols = preproc.load_runs(data_db,selection_runs)\n",
    "validation_vols = preproc.load_runs(data_db,validation_runs)"
   ]
  },
  {
   "cell_type": "code",
   "execution_count": 17,
   "metadata": {
    "collapsed": false
   },
   "outputs": [
    {
     "data": {
      "text/plain": [
       "<nibabel.nifti1.Nifti1Image at 0x7f61c1776f10>"
      ]
     },
     "execution_count": 17,
     "metadata": {},
     "output_type": "execute_result"
    }
   ],
   "source": [
    "validation_vols"
   ]
  },
  {
   "cell_type": "markdown",
   "metadata": {},
   "source": [
    "Reshape, mask, and remove inf's. Need to add this functionality to \"load_runs\""
   ]
  },
  {
   "cell_type": "code",
   "execution_count": 18,
   "metadata": {
    "collapsed": false
   },
   "outputs": [],
   "source": [
    "##optional coronal slice selection\n",
    "first_slice,last_slice = -25,-1\n",
    "\n",
    "##first the mask. mucked up the database somehow, so reading in the brain mask is a stupid mess\n",
    "bm = glob('/media'+data_db.iloc[training_runs[0]]['brain_mask'].split('/media')[2]+'/*.gz')\n",
    "mask_image = nib.load(bm[0]).get_data().astype('bool') ##a numpy boolean\n",
    "\n",
    "##now some indices for coronal slicing.\n",
    "zdx = np.zeros(training_vols.shape[0:3]).astype('bool')\n",
    "zdx[:,:,first_slice:last_slice] = True\n",
    "\n",
    "##can't use any of the voxels with knackered values\n",
    "finite_voxels = np.isfinite(training_vols.get_data()).all(axis=3)*np.isfinite(selection_vols.get_data()).all(axis=3)\n",
    "\n",
    "mask_image = mask_image*zdx*finite_voxels"
   ]
  },
  {
   "cell_type": "code",
   "execution_count": 19,
   "metadata": {
    "collapsed": true
   },
   "outputs": [],
   "source": [
    "def apply_mask(vol,raveled_mask):\n",
    "    vol = vol.get_data().reshape((np.prod(vol.shape[0:3]),vol.shape[3])).T  ##converts to (time, xyz)\n",
    "    return vol[:,raveled_mask]\n",
    "    "
   ]
  },
  {
   "cell_type": "code",
   "execution_count": 20,
   "metadata": {
    "collapsed": true
   },
   "outputs": [],
   "source": [
    "##test masking\n",
    "mean_vol = preproc.load_runs(data_db,selection_runs,detrend=False,z_score=False)\n",
    "mean_vol = apply_mask(mean_vol,mask_image.ravel()).mean(axis=0)\n",
    "test_view = np.zeros(mask_image.shape).ravel()\n",
    "test_view[mask_image.ravel()] = mean_vol\n",
    "test_view = test_view.reshape(mask_image.shape)"
   ]
  },
  {
   "cell_type": "code",
   "execution_count": 21,
   "metadata": {
    "collapsed": false
   },
   "outputs": [
    {
     "data": {
      "text/plain": [
       "<matplotlib.image.AxesImage at 0x7f61c1716f50>"
      ]
     },
     "execution_count": 21,
     "metadata": {},
     "output_type": "execute_result"
    },
    {
     "data": {
      "image/png": "[encoded data removed]",
      "text/plain": [
       "<matplotlib.figure.Figure at 0x7f61c17829d0>"
      ]
     },
     "metadata": {},
     "output_type": "display_data"
    }
   ],
   "source": [
    "plt.figure(figsize=(20,5))\n",
    "plt.subplot(1,2,1)\n",
    "plt.imshow(test_view[:,:,first_slice],cmap=cm.gray)\n",
    "plt.subplot(1,2,2)\n",
    "plt.imshow(test_view[:,:,last_slice-1],cmap=cm.gray)"
   ]
  },
  {
   "cell_type": "code",
   "execution_count": 22,
   "metadata": {
    "collapsed": true
   },
   "outputs": [],
   "source": [
    "training_vols = apply_mask(training_vols,mask_image.ravel()) "
   ]
  },
  {
   "cell_type": "code",
   "execution_count": 23,
   "metadata": {
    "collapsed": false
   },
   "outputs": [
    {
     "name": "stdout",
     "output_type": "stream",
     "text": [
      "training vol dimensions: (400, 165406)\n"
     ]
    }
   ],
   "source": [
    "print 'training vol dimensions: %s' %(training_vols.shape,)"
   ]
  },
  {
   "cell_type": "code",
   "execution_count": 24,
   "metadata": {
    "collapsed": true
   },
   "outputs": [],
   "source": [
    "selection_vols = apply_mask(selection_vols,mask_image.ravel()) "
   ]
  },
  {
   "cell_type": "code",
   "execution_count": 25,
   "metadata": {
    "collapsed": false
   },
   "outputs": [
    {
     "name": "stdout",
     "output_type": "stream",
     "text": [
      "selection vol dimensions: (400, 165406)\n"
     ]
    }
   ],
   "source": [
    "print 'selection vol dimensions: %s' %(selection_vols.shape,)"
   ]
  },
  {
   "cell_type": "code",
   "execution_count": 26,
   "metadata": {
    "collapsed": true
   },
   "outputs": [],
   "source": [
    "validation_vols = apply_mask(validation_vols,mask_image.ravel())"
   ]
  },
  {
   "cell_type": "code",
   "execution_count": 28,
   "metadata": {
    "collapsed": false
   },
   "outputs": [
    {
     "name": "stdout",
     "output_type": "stream",
     "text": [
      "validation vol dimensions: (400, 165406)\n"
     ]
    }
   ],
   "source": [
    "print 'validation vol dimensions: %s' %(validation_vols.shape,)"
   ]
  },
  {
   "cell_type": "markdown",
   "metadata": {},
   "source": [
    "###Load images\n",
    "We happen to know that for the 'wedge' and 'bar' runs, the framefiles are identical. So we don't need\n",
    "to all of them into memory. Instead, we load in one copy, and create a function that will be used to concatenate feature matrices when it's time to train the model."
   ]
  },
  {
   "cell_type": "code",
   "execution_count": 29,
   "metadata": {
    "collapsed": false
   },
   "outputs": [
    {
     "name": "stdout",
     "output_type": "stream",
     "text": [
      "pixels per degree: 6.70\n",
      "pixels per image: 148\n"
     ]
    }
   ],
   "source": [
    "##some important units\n",
    "native_stim_size = 768 ##I just know this\n",
    "working_image_size = 148.\n",
    "image_downsampling = working_image_size/native_stim_size ##I choose this\n",
    "pixel_per_deg = 34.751*image_downsampling    ##I just know this  \n",
    "pixels_per_stimulus = int(native_stim_size*image_downsampling) \n",
    "wedge_nvols = data_db.iloc[selection_runs[0]].nvols ##we happen to know what 0 and 1 mean\n",
    "bar_nvols = data_db.iloc[selection_runs[1]].nvols\n",
    "\n",
    "print 'pixels per degree: %0.2f' %(pixel_per_deg)\n",
    "print 'pixels per image: %d' %(pixels_per_stimulus)"
   ]
  },
  {
   "cell_type": "code",
   "execution_count": 30,
   "metadata": {
    "collapsed": false
   },
   "outputs": [],
   "source": [
    "##list of stimulus frames, as they were presented\n",
    "wedge_stim_list = preproc.load_frame_file(data_db.iloc[selection_runs[0]]) \n",
    "bar_stim_list = preproc.load_frame_file(data_db.iloc[selection_runs[1]])\n",
    "pic_path = data_db.iloc[selection_runs[0]].picPath"
   ]
  },
  {
   "cell_type": "code",
   "execution_count": 31,
   "metadata": {
    "collapsed": false
   },
   "outputs": [
    {
     "name": "stdout",
     "output_type": "stream",
     "text": [
      "wedge images taking up 0.092 GB of RAM\n"
     ]
    }
   ],
   "source": [
    "wedge_imgs = np.array(map(lambda img: np.array(Image.open(img).convert('L').resize((pixels_per_stimulus,)*2)),\n",
    "                          map(lambda f: path.join(pic_path,f),wedge_stim_list)),\n",
    "                      ndmin=3)\n",
    "print 'wedge images taking up %0.3f GB of RAM' %(wedge_imgs.nbytes/1024./1024./1024.)"
   ]
  },
  {
   "cell_type": "code",
   "execution_count": 33,
   "metadata": {
    "collapsed": false
   },
   "outputs": [
    {
     "name": "stdout",
     "output_type": "stream",
     "text": [
      "bar images taking up 0.092 GB of RAM\n"
     ]
    }
   ],
   "source": [
    "bar_imgs = np.array(map(lambda img: np.array(Image.open(img).convert('L').resize((pixels_per_stimulus,)*2)),\n",
    "                          map(lambda f: path.join(pic_path,f),bar_stim_list)),\n",
    "                    ndmin=3)\n",
    "print 'bar images taking up %0.3f GB of RAM' %(bar_imgs.nbytes/1024./1024./1024.)"
   ]
  },
  {
   "cell_type": "code",
   "execution_count": 34,
   "metadata": {
    "collapsed": false
   },
   "outputs": [
    {
     "data": {
      "text/plain": [
       "<matplotlib.image.AxesImage at 0x7f6440105750>"
      ]
     },
     "execution_count": 34,
     "metadata": {},
     "output_type": "execute_result"
    },
    {
     "data": {
      "image/png": "[encoded data removed]",
      "text/plain": [
       "<matplotlib.figure.Figure at 0x7f6440174290>"
      ]
     },
     "metadata": {},
     "output_type": "display_data"
    }
   ],
   "source": [
    "plt.figure\n",
    "plt.subplot(1,2,1)\n",
    "plt.imshow(wedge_imgs[400,:,:],cmap=cm.gray)\n",
    "plt.subplot(1,2,2)\n",
    "plt.imshow(bar_imgs[400,:,:],cmap=cm.gray)"
   ]
  },
  {
   "cell_type": "markdown",
   "metadata": {},
   "source": [
    "###Construct features"
   ]
  },
  {
   "cell_type": "markdown",
   "metadata": {},
   "source": [
    "Specify the set of ripple filters"
   ]
  },
  {
   "cell_type": "code",
   "execution_count": 89,
   "metadata": {
    "collapsed": false
   },
   "outputs": [
    {
     "name": "stdout",
     "output_type": "stream",
     "text": [
      "total number of models to evaluate (per voxel): 9261\n"
     ]
    }
   ],
   "source": [
    "\n",
    "##preferences\n",
    "min_cyc_deg = 0.1 #0.010008\n",
    "max_cyc_deg = 2.#2.900006\n",
    "min_kernel_size = .5    ##deg\n",
    "max_kernel_size = 4.5    ##deg\n",
    "kernel_spacing = 1. ##deg\n",
    "num_freq_levels = 3\n",
    "num_size_levels = 7\n",
    "boundary_condition = 1\n",
    "\n",
    "##---frequencies\n",
    "##cyc/deg\n",
    "freq_df = pd.DataFrame(np.logspace(np.log10(min_cyc_deg),np.log10(max_cyc_deg),num=num_freq_levels,endpoint=True),\n",
    "                       columns=['cyc/deg'])\n",
    "##cyc/pix\n",
    "freq_df['cyc/pix'] = freq_df['cyc/deg'].apply(lambda x: x/pixel_per_deg)\n",
    "##cyc/image\n",
    "freq_df['cyc/image'] = freq_df['cyc/pix'].apply(lambda x: x*pixels_per_stimulus)\n",
    "##pix/cyc -- check to make sure greater than 6, as per Curtis Baker\n",
    "freq_df['pix/cyc'] = freq_df['cyc/pix'].apply(lambda x: 1/x)\n",
    "\n",
    "##---kernel sizes\n",
    "##deg\n",
    "size_df = pd.DataFrame(np.linspace(min_kernel_size, max_kernel_size,num=num_size_levels,endpoint=True),\n",
    "                       columns = ['deg.'])\n",
    "##pix\n",
    "size_df['pix'] = size_df['deg.'].apply(lambda x: x*pixel_per_deg)\n",
    "\n",
    "\n",
    "\n",
    "##---kernel position grid\n",
    "pix_spacing = kernel_spacing*pixel_per_deg\n",
    "corners=compute_grid_corners(working_image_size,size_df['pix'].min(),boundary_condition=1)  #not quite on edge of image\n",
    "pos_x,pos_y=construct_placement_grid(corners,pix_spacing)\n",
    "pos_x = pos_x.ravel()\n",
    "pos_y = pos_y.ravel()\n",
    "\n",
    "##---summarize\n",
    "num_models = len(pos_x)*num_freq_levels*num_size_levels\n",
    "print 'total number of models to evaluate (per voxel): %d' %(num_models)\n",
    "\n"
   ]
  },
  {
   "cell_type": "markdown",
   "metadata": {},
   "source": [
    "Spatial frequencies in various units"
   ]
  },
  {
   "cell_type": "code",
   "execution_count": 37,
   "metadata": {
    "collapsed": false
   },
   "outputs": [
    {
     "data": {
      "text/html": [
       "<div style=\"max-height:1000px;max-width:1500px;overflow:auto;\">\n",
       "<table border=\"1\" class=\"dataframe\">\n",
       "  <thead>\n",
       "    <tr style=\"text-align: right;\">\n",
       "      <th></th>\n",
       "      <th>cyc/deg</th>\n",
       "      <th>cyc/pix</th>\n",
       "      <th>cyc/image</th>\n",
       "      <th>pix/cyc</th>\n",
       "    </tr>\n",
       "  </thead>\n",
       "  <tbody>\n",
       "    <tr>\n",
       "      <th>0</th>\n",
       "      <td> 0.100000</td>\n",
       "      <td> 0.014932</td>\n",
       "      <td>  2.210008</td>\n",
       "      <td> 66.968073</td>\n",
       "    </tr>\n",
       "    <tr>\n",
       "      <th>1</th>\n",
       "      <td> 0.447214</td>\n",
       "      <td> 0.066780</td>\n",
       "      <td>  9.883458</td>\n",
       "      <td> 14.974516</td>\n",
       "    </tr>\n",
       "    <tr>\n",
       "      <th>2</th>\n",
       "      <td> 2.000000</td>\n",
       "      <td> 0.298650</td>\n",
       "      <td> 44.200167</td>\n",
       "      <td>  3.348404</td>\n",
       "    </tr>\n",
       "  </tbody>\n",
       "</table>\n",
       "</div>"
      ],
      "text/plain": [
       "    cyc/deg   cyc/pix  cyc/image    pix/cyc\n",
       "0  0.100000  0.014932   2.210008  66.968073\n",
       "1  0.447214  0.066780   9.883458  14.974516\n",
       "2  2.000000  0.298650  44.200167   3.348404"
      ]
     },
     "execution_count": 37,
     "metadata": {},
     "output_type": "execute_result"
    }
   ],
   "source": [
    "freq_df"
   ]
  },
  {
   "cell_type": "markdown",
   "metadata": {},
   "source": [
    "Kernel sizes in various units"
   ]
  },
  {
   "cell_type": "code",
   "execution_count": 38,
   "metadata": {
    "collapsed": false
   },
   "outputs": [
    {
     "data": {
      "text/html": [
       "<div style=\"max-height:1000px;max-width:1500px;overflow:auto;\">\n",
       "<table border=\"1\" class=\"dataframe\">\n",
       "  <thead>\n",
       "    <tr style=\"text-align: right;\">\n",
       "      <th></th>\n",
       "      <th>deg.</th>\n",
       "      <th>pix</th>\n",
       "    </tr>\n",
       "  </thead>\n",
       "  <tbody>\n",
       "    <tr>\n",
       "      <th>0</th>\n",
       "      <td> 0.500000</td>\n",
       "      <td>  3.348404</td>\n",
       "    </tr>\n",
       "    <tr>\n",
       "      <th>1</th>\n",
       "      <td> 1.166667</td>\n",
       "      <td>  7.812942</td>\n",
       "    </tr>\n",
       "    <tr>\n",
       "      <th>2</th>\n",
       "      <td> 1.833333</td>\n",
       "      <td> 12.277480</td>\n",
       "    </tr>\n",
       "    <tr>\n",
       "      <th>3</th>\n",
       "      <td> 2.500000</td>\n",
       "      <td> 16.742018</td>\n",
       "    </tr>\n",
       "    <tr>\n",
       "      <th>4</th>\n",
       "      <td> 3.166667</td>\n",
       "      <td> 21.206556</td>\n",
       "    </tr>\n",
       "    <tr>\n",
       "      <th>5</th>\n",
       "      <td> 3.833333</td>\n",
       "      <td> 25.671095</td>\n",
       "    </tr>\n",
       "    <tr>\n",
       "      <th>6</th>\n",
       "      <td> 4.500000</td>\n",
       "      <td> 30.135633</td>\n",
       "    </tr>\n",
       "  </tbody>\n",
       "</table>\n",
       "</div>"
      ],
      "text/plain": [
       "       deg.        pix\n",
       "0  0.500000   3.348404\n",
       "1  1.166667   7.812942\n",
       "2  1.833333  12.277480\n",
       "3  2.500000  16.742018\n",
       "4  3.166667  21.206556\n",
       "5  3.833333  25.671095\n",
       "6  4.500000  30.135633"
      ]
     },
     "execution_count": 38,
     "metadata": {},
     "output_type": "execute_result"
    }
   ],
   "source": [
    "size_df"
   ]
  },
  {
   "cell_type": "code",
   "execution_count": 39,
   "metadata": {
    "collapsed": false
   },
   "outputs": [
    {
     "data": {
      "text/plain": [
       "<matplotlib.image.AxesImage at 0x7f643a0bfb50>"
      ]
     },
     "execution_count": 39,
     "metadata": {},
     "output_type": "execute_result"
    },
    {
     "data": {
      "image/png": "[encoded data removed]",
      "text/plain": [
       "<matplotlib.figure.Figure at 0x7f644012d910>"
      ]
     },
     "metadata": {},
     "output_type": "display_data"
    }
   ],
   "source": [
    "plt.figure(figsize=(20,5))\n",
    "\n",
    "smallest_fastest = complex_ripple_filter(freq_df['cyc/image'].max(),(0,0),size_df['pix'].min(),pixels_per_stimulus)\n",
    "plt.subplot(1,3,1)\n",
    "plt.imshow(np.real(smallest_fastest),cmap=cm.gray)\n",
    "\n",
    "biggest_fastest = complex_ripple_filter(freq_df['cyc/image'].max(),(0,0),size_df['pix'].max(),pixels_per_stimulus)\n",
    "plt.subplot(1,3,2)\n",
    "plt.imshow(np.real(biggest_fastest),cmap=cm.gray)\n",
    "\n",
    "\n",
    "biggest_slowest = complex_ripple_filter(freq_df['cyc/image'].min(),(0,0),size_df['pix'].max(),pixels_per_stimulus)\n",
    "plt.subplot(1,3,3)\n",
    "plt.imshow(np.real(biggest_slowest),cmap=cm.gray)\n",
    "\n"
   ]
  },
  {
   "cell_type": "markdown",
   "metadata": {},
   "source": [
    "###Fit the ripple model\n",
    "Loop over all prf sizes, frequencies, and positions. At each iteration fit an independent model for each voxel. Evaluate the score against a held-out selection set. Keep track of the best model for each voxel."
   ]
  },
  {
   "cell_type": "code",
   "execution_count": 40,
   "metadata": {
    "collapsed": true
   },
   "outputs": [],
   "source": [
    "##some parameters of the model\n",
    "hrf_length = 15 ##20 s should do it.\n",
    "alpha = 1 ## I dunno. For rige regression"
   ]
  },
  {
   "cell_type": "markdown",
   "metadata": {},
   "source": [
    "A special function we need for creating feature matrices w/o filling up memory."
   ]
  },
  {
   "cell_type": "code",
   "execution_count": 41,
   "metadata": {
    "collapsed": true
   },
   "outputs": [],
   "source": [
    "def concat_wedge_bar_matrices(wedge_feature_matrix=None,bar_feature_matrix=None,run_ids=None):\n",
    "    total_rows = data_db['nvols'].iloc[run_ids].sum(axis=0)\n",
    "    total_cols = wedge_feature_matrix.shape[1]\n",
    "    nVols = wedge_feature_matrix.shape[0]\n",
    "    final_feature_matrix = np.zeros((total_rows,total_cols))\n",
    "    count = 0\n",
    "    for row in data_db.iloc[run_ids].iterrows():  ##apparently this gives you a tuple with the index first\n",
    "        run_type = row[1].runType\n",
    "        if run_type == 'bar':\n",
    "            final_feature_matrix[count:count+nVols,:] = bar_feature_matrix\n",
    "        elif run_type == 'wedge':\n",
    "            final_feature_matrix[count:count+nVols,:] = wedge_feature_matrix\n",
    "        else:\n",
    "            raise Exception('run type should only be bar or wedge. something is wrong.')\n",
    "        count += nVols\n",
    "    return final_feature_matrix"
   ]
  },
  {
   "cell_type": "markdown",
   "metadata": {},
   "source": [
    "A reasonbly efficient scoring function. Sklearn doesn't deal with scoring many models at once"
   ]
  },
  {
   "cell_type": "code",
   "execution_count": 42,
   "metadata": {
    "collapsed": true
   },
   "outputs": [],
   "source": [
    "def corr2_coeff(A,B):\n",
    "    N = A.shape[0]\n",
    "    # Colwise mean of input arrays & subtract from input arrays themeselves\n",
    "    A_mA = A - A.mean(0)[None,:]\n",
    "    B_mB = B - B.mean(0)[None,:]\n",
    "\n",
    "    # Sum of squares across cols\n",
    "    ssA = (A_mA**2).sum(0) \n",
    "    ssB = (B_mB**2).sum(0) \n",
    "    ss = np.sqrt(ssA)*np.sqrt(ssB)\n",
    "    # Finally get corr coeff\n",
    "    return np.sum(A_mA*B_mB,axis=0)/ss\n",
    "#     return np.dot(A_mA,B_mB.T)/np.sqrt(np.dot(ssA[:,None],ssB[None]))"
   ]
  },
  {
   "cell_type": "markdown",
   "metadata": {},
   "source": [
    "The main fitting / selection loop"
   ]
  },
  {
   "cell_type": "code",
   "execution_count": 75,
   "metadata": {
    "collapsed": true
   },
   "outputs": [],
   "source": [
    "##here are the guts of the fitting procedure, functionalized for each p'llization.\n",
    "def main_proc(filters, p):        \n",
    "#     print '===position: %d of %d' %(p, num_filters)\n",
    "    wedge_features = np.abs(np.tensordot(wedge_imgs, filters[p,:,:],axes=2))\n",
    "    bar_features = np.abs(np.tensordot(bar_imgs, filters[p,:,:],axes=2))\n",
    "    downsampled_wedge_timeseries = preproc.nearest_neighbor_downsampling(wedge_features,wedge_nvols)\n",
    "    downsampled_bar_timeseries = preproc.nearest_neighbor_downsampling(bar_features,bar_nvols)\n",
    "\n",
    "    wedge_feature_matrix = preproc.construct_feature_matrix(np.atleast_2d(downsampled_wedge_timeseries).T,\n",
    "                                                            hrf_length=hrf_length)\n",
    "    bar_feature_matrix = preproc.construct_feature_matrix(np.atleast_2d(downsampled_bar_timeseries).T,\n",
    "                                                            hrf_length=hrf_length)\n",
    "    training_matrix = concat_wedge_bar_matrices(wedge_feature_matrix=wedge_feature_matrix,\n",
    "                                                     bar_feature_matrix=bar_feature_matrix,\n",
    "                                                     run_ids = training_runs)\n",
    "#     print '=fitting model...'\n",
    "    lin_mod = linear_model.Ridge(alpha=alpha,normalize=True).fit(training_matrix,training_vols)\n",
    "#     print '=scoring model...'\n",
    "    selection_matrix = concat_wedge_bar_matrices(wedge_feature_matrix=wedge_feature_matrix,\n",
    "                                                     bar_feature_matrix=bar_feature_matrix,\n",
    "                                                     run_ids = selection_runs)\n",
    "\n",
    "    yhat = lin_mod.predict(selection_matrix)\n",
    "    scr = corr2_coeff(selection_vols,yhat)\n",
    "    return {p:(scr,lin_mod)}"
   ]
  },
  {
   "cell_type": "code",
   "execution_count": 44,
   "metadata": {
    "collapsed": true
   },
   "outputs": [],
   "source": [
    "##some functions for converting to polar coors on the fly. Should probably put these elsewhere\n",
    "def ecc_func(x,y):\n",
    "    return np.sqrt(x**2+y**2)\n",
    "\n",
    "def ang_func(x,y):\n",
    "    return np.angle(x+1j*y)\n"
   ]
  },
  {
   "cell_type": "code",
   "execution_count": 60,
   "metadata": {
    "collapsed": true
   },
   "outputs": [],
   "source": [
    "##this will also be useful sugar\n",
    "def flatten_list_of_dicts(list_of_dicts):\n",
    "    flat_dict = {}\n",
    "    for d in list_of_dicts:\n",
    "        flat_dict.update(d)\n",
    "    return flat_dict"
   ]
  },
  {
   "cell_type": "code",
   "execution_count": 48,
   "metadata": {
    "collapsed": true
   },
   "outputs": [],
   "source": [
    "##some containers for the results\n",
    "model_idx = 0\n",
    "num_voxels = training_vols.shape[1]\n",
    "best_scr = np.zeros(num_voxels)\n",
    "best_coefs = np.zeros((num_voxels,hrf_length))\n",
    "best_intercept = np.zeros(num_voxels)\n",
    "best_model_dx = np.zeros((num_voxels,4))\n",
    "model_specs = []"
   ]
  },
  {
   "cell_type": "code",
   "execution_count": null,
   "metadata": {
    "collapsed": true
   },
   "outputs": [],
   "source": [
    "##loop over size / freq / position, updating the \"best\" model for each voxel on each iteration.\n",
    "for kernel_size in size_df['pix']:\n",
    "    for freq in freq_df['cyc/image']:\n",
    "        ##print 'constructing filters...'\n",
    "        print '=====size/freq pair %d' %(model_idx)\n",
    "        \n",
    "        filters = make_kernel_grid(freq,kernel_size,pixels_per_stimulus,(pos_x,pos_y))\n",
    "\n",
    "        num_filters = len(pos_x.ravel())\n",
    "        \n",
    "        ##utilize multi-processing. model_info is list of dictionaries, each containing a score and a model object\n",
    "        start = time()\n",
    "        model_info = Parallel(n_jobs=-1)(delayed(main_proc)(filters,p) for p in range(num_filters))\n",
    "        print 'took %f seconds to pre-process images' %(time()-start)\n",
    "        ##now do some packaging of the outputs\n",
    "        model_info = flatten_list_of_dicts(model_info)\n",
    "        1/0"
   ]
  },
  {
   "cell_type": "code",
   "execution_count": 85,
   "metadata": {
    "collapsed": true
   },
   "outputs": [],
   "source": [
    "##a container for the results. \n",
    "# class population_model(object):\n",
    "#     def __init__(self,mask,model_df):\n",
    "#         self.vol_dims = mask.shape\n",
    "#         self.mask = mask\n",
    "#         self.model_df = model_df\n",
    "#     def update_model(self, list_of_dicts):\n",
    "#         '''\n",
    "#         list_of_dicts ~ a l\n",
    "#         '''"
   ]
  },
  {
   "cell_type": "code",
   "execution_count": 76,
   "metadata": {
    "collapsed": false
   },
   "outputs": [],
   "source": [
    "        for p in range(num_filters):\n",
    "            model_specs.append({'size':kernel_size,\n",
    "                                'freq':freq,\n",
    "                                'pos_x': pos_x[p], 'pos_y': pos_y[p],\n",
    "                                'ang': ang_func(pos_x[p],pos_y[p]),\n",
    "                                'ecc': ecc_func(pos_x[p],pos_y[p])})\n",
    "            better = np.where(model_info[p][0] > best_scr)[0] ##<<not sure why the zero. but gotta have it.\n",
    "            best_scr[better] = model_info[p][0][better]"
   ]
  },
  {
   "cell_type": "code",
   "execution_count": 72,
   "metadata": {
    "collapsed": false
   },
   "outputs": [
    {
     "ename": "NameError",
     "evalue": "name 'lin_mod' is not defined",
     "output_type": "error",
     "traceback": [
      "\u001b[1;31m---------------------------------------------------------------------------\u001b[0m",
      "\u001b[1;31mNameError\u001b[0m                                 Traceback (most recent call last)",
      "\u001b[1;32m<ipython-input-72-16c8c535946d>\u001b[0m in \u001b[0;36m<module>\u001b[1;34m()\u001b[0m\n\u001b[0;32m      7\u001b[0m     \u001b[0mbetter\u001b[0m \u001b[1;33m=\u001b[0m \u001b[0mnp\u001b[0m\u001b[1;33m.\u001b[0m\u001b[0mwhere\u001b[0m\u001b[1;33m(\u001b[0m\u001b[0mscr\u001b[0m\u001b[1;33m[\u001b[0m\u001b[0mp\u001b[0m\u001b[1;33m]\u001b[0m \u001b[1;33m>\u001b[0m \u001b[0mbest_scr\u001b[0m\u001b[1;33m)\u001b[0m\u001b[1;33m[\u001b[0m\u001b[1;36m0\u001b[0m\u001b[1;33m]\u001b[0m \u001b[1;31m##<<not sure why the zero. but gotta have it.\u001b[0m\u001b[1;33m\u001b[0m\u001b[0m\n\u001b[0;32m      8\u001b[0m     \u001b[0mbest_scr\u001b[0m\u001b[1;33m[\u001b[0m\u001b[0mbetter\u001b[0m\u001b[1;33m]\u001b[0m \u001b[1;33m=\u001b[0m \u001b[0mscr\u001b[0m\u001b[1;33m[\u001b[0m\u001b[0mp\u001b[0m\u001b[1;33m]\u001b[0m\u001b[1;33m[\u001b[0m\u001b[0mbetter\u001b[0m\u001b[1;33m]\u001b[0m\u001b[1;33m\u001b[0m\u001b[0m\n\u001b[1;32m----> 9\u001b[1;33m     \u001b[0mbest_coefs\u001b[0m\u001b[1;33m[\u001b[0m\u001b[0mbetter\u001b[0m\u001b[1;33m,\u001b[0m\u001b[1;33m:\u001b[0m\u001b[1;33m]\u001b[0m \u001b[1;33m=\u001b[0m \u001b[0mlin_mod\u001b[0m\u001b[1;33m.\u001b[0m\u001b[0mcoef_\u001b[0m\u001b[1;33m[\u001b[0m\u001b[0mbetter\u001b[0m\u001b[1;33m,\u001b[0m\u001b[1;33m:\u001b[0m\u001b[1;33m]\u001b[0m\u001b[1;33m\u001b[0m\u001b[0m\n\u001b[0m\u001b[0;32m     10\u001b[0m     \u001b[0mbest_intercept\u001b[0m\u001b[1;33m[\u001b[0m\u001b[0mbetter\u001b[0m\u001b[1;33m]\u001b[0m \u001b[1;33m=\u001b[0m \u001b[0mlin_mod\u001b[0m\u001b[1;33m.\u001b[0m\u001b[0mintercept_\u001b[0m\u001b[1;33m[\u001b[0m\u001b[0mbetter\u001b[0m\u001b[1;33m]\u001b[0m\u001b[1;33m\u001b[0m\u001b[0m\n\u001b[0;32m     11\u001b[0m     \u001b[0mbest_model_dx\u001b[0m\u001b[1;33m[\u001b[0m\u001b[0mbetter\u001b[0m\u001b[1;33m]\u001b[0m \u001b[1;33m=\u001b[0m \u001b[0mmodel_idx\u001b[0m\u001b[1;33m\u001b[0m\u001b[0m\n",
      "\u001b[1;31mNameError\u001b[0m: name 'lin_mod' is not defined"
     ]
    }
   ],
   "source": [
    "            best_coefs[better,:] = model_info[p][1].coef_[better,:]\n",
    "            best_intercept[better] = model_info[p][1].intercept_[better]\n",
    "            best_model_dx[better] = model_idx\n",
    "            model_idx += 1\n",
    "            model_info = []"
   ]
  },
  {
   "cell_type": "markdown",
   "metadata": {},
   "source": [
    "Now we unpack the results into an organized database that (should) make future analyses easier"
   ]
  },
  {
   "cell_type": "code",
   "execution_count": null,
   "metadata": {
    "collapsed": false
   },
   "outputs": [],
   "source": [
    "##construct and populate database with voxel indices and model parameters for selected models\n",
    "best_prf = pd.DataFrame(columns=['kernel','size','freq','pos_x','pos_y','ang','ecc','voxels','model'])\n",
    "new_model_dx = 0\n",
    "\n",
    "for mm,mod_spec in enumerate(model_specs):\n",
    "    these_vox = np.where(best_model_dx == mm)[0]\n",
    "    if len(these_vox) < 1:\n",
    "        pass\n",
    "    else:\n",
    "        best_prf.loc[new_model_dx,'voxels'] = these_vox\n",
    "        model = linear_model.Ridge(alpha=alpha,normalize=True)\n",
    "        model.coef_ = best_coefs[these_vox,:]\n",
    "        model.intercept_ = best_intercept[these_vox]\n",
    "        best_prf.loc[new_model_dx,'model'] = model\n",
    "        best_prf.loc[new_model_dx, 'size'] = mod_spec['size']\n",
    "        best_prf.loc[new_model_dx, 'freq']= mod_spec['freq']\n",
    "        best_prf.loc[new_model_dx, 'pos_x'] = mod_spec['pos_x']\n",
    "        best_prf.loc[new_model_dx, 'pos_y'] = mod_spec['pos_y']\n",
    "        best_prf.loc[new_model_dx, 'ecc'] = mod_spec['ecc']\n",
    "        best_prf.loc[new_model_dx, 'ang'] = mod_spec['ang']\n",
    "        \n",
    "        new_model_dx += 1\n",
    "    "
   ]
  },
  {
   "cell_type": "code",
   "execution_count": null,
   "metadata": {
    "collapsed": false,
    "scrolled": true
   },
   "outputs": [],
   "source": [
    "best_prf.head()"
   ]
  },
  {
   "cell_type": "markdown",
   "metadata": {},
   "source": [
    "A histogram of scores on the selection set. Note there is some overfitting here, because we purposefully selected \n",
    "the best of many possible models for each voxel. Don't expect the histogram on the validation data to look quite this good."
   ]
  },
  {
   "cell_type": "code",
   "execution_count": null,
   "metadata": {
    "collapsed": false
   },
   "outputs": [],
   "source": [
    "plt.figure\n",
    "plt.hist(best_scr,100,log=True);"
   ]
  },
  {
   "cell_type": "markdown",
   "metadata": {},
   "source": [
    "If we look at the temporal kernels for the best voxels (as evaluated on the selection set) we get some encouraging-looking results."
   ]
  },
  {
   "cell_type": "code",
   "execution_count": null,
   "metadata": {
    "collapsed": false,
    "scrolled": true
   },
   "outputs": [],
   "source": [
    "mxi = np.where(best_scr > 0.4)[0]\n",
    "plt.figure\n",
    "_ = plt.plot(best_coefs[mxi,:].T)\n"
   ]
  },
  {
   "cell_type": "code",
   "execution_count": null,
   "metadata": {
    "collapsed": false
   },
   "outputs": [],
   "source": [
    "plt.bar(best_prf['freq'],best_prf['voxels'].apply(len))"
   ]
  },
  {
   "cell_type": "code",
   "execution_count": null,
   "metadata": {
    "collapsed": false
   },
   "outputs": [],
   "source": [
    "plt.scatter(best_prf['ecc'],best_prf['size'],s=best_prf['voxels'].apply(len)*.01)"
   ]
  },
  {
   "cell_type": "code",
   "execution_count": null,
   "metadata": {
    "collapsed": false
   },
   "outputs": [],
   "source": [
    "plt.figure(figsize=(10,10))\n",
    "plt.scatter(best_prf['pos_x'],best_prf['pos_y'],s=best_prf['voxels'].apply(len)*.01)"
   ]
  },
  {
   "cell_type": "code",
   "execution_count": null,
   "metadata": {
    "collapsed": true
   },
   "outputs": [],
   "source": [
    "size_group = best_prf.groupby(by='size')\n",
    "pos_x = []\n",
    "pos_y = []\n",
    "mean_size = []\n",
    "for name,grp in siz_group:\n",
    "    pos_x.append(grp.pos_x)\n",
    "    pos_y.append(grp.pos_y)\n",
    "    mean_size.append(grp['size'].mean())\n",
    "    "
   ]
  },
  {
   "cell_type": "code",
   "execution_count": null,
   "metadata": {
    "collapsed": true
   },
   "outputs": [],
   "source": [
    "best_prf.to_pickle('/media/tnaselar/Data/scratch/best_prf.pd')"
   ]
  },
  {
   "cell_type": "markdown",
   "metadata": {},
   "source": [
    "We expect the map of scores (on the selection set) to look reasonable. It does. Check out the saved volumes in fslview."
   ]
  },
  {
   "cell_type": "code",
   "execution_count": null,
   "metadata": {
    "collapsed": true
   },
   "outputs": [],
   "source": [
    "mean_vol = preproc.load_runs(data_db,selection_runs,detrend=False,z_score=False)\n",
    "mean_vol = apply_mask(mean_vol,mask_image.ravel()).mean(axis=0)"
   ]
  },
  {
   "cell_type": "code",
   "execution_count": null,
   "metadata": {
    "collapsed": false
   },
   "outputs": [],
   "source": [
    "brain_view = np.zeros(mask_image.shape).ravel()\n",
    "brain_view[mask_image.ravel()] = mean_vol\n",
    "brain_view = brain_view.reshape(mask_image.shape)\n",
    "\n",
    "score_view = np.zeros(mask_image.shape).ravel()\n",
    "score_view[mask_image.ravel()] = best_scr\n",
    "score_view = score_view.reshape(mask_image.shape)"
   ]
  },
  {
   "cell_type": "code",
   "execution_count": null,
   "metadata": {
    "collapsed": false
   },
   "outputs": [],
   "source": [
    "nib.save(nib.Nifti1Image(brain_view,affine=np.eye(4)),'/media/tnaselar/Data/scratch/brain_view.nii')"
   ]
  },
  {
   "cell_type": "code",
   "execution_count": null,
   "metadata": {
    "collapsed": true
   },
   "outputs": [],
   "source": [
    "nib.save(nib.Nifti1Image(score_view,affine=np.eye(4)),'/media/tnaselar/Data/scratch/score_view.nii')"
   ]
  },
  {
   "cell_type": "code",
   "execution_count": null,
   "metadata": {
    "collapsed": true
   },
   "outputs": [],
   "source": []
  },
  {
   "cell_type": "markdown",
   "metadata": {},
   "source": [
    "###Model validation: prediction accuracy"
   ]
  },
  {
   "cell_type": "markdown",
   "metadata": {
    "collapsed": true
   },
   "source": [
    "see \"analyze_best_fit_ripple\""
   ]
  },
  {
   "cell_type": "markdown",
   "metadata": {},
   "source": [
    "###Model validation: inspect temporal kernels"
   ]
  },
  {
   "cell_type": "code",
   "execution_count": null,
   "metadata": {
    "collapsed": true
   },
   "outputs": [],
   "source": []
  },
  {
   "cell_type": "markdown",
   "metadata": {},
   "source": [
    "###Model validation: size vs. eccentricity"
   ]
  },
  {
   "cell_type": "code",
   "execution_count": null,
   "metadata": {
    "collapsed": true
   },
   "outputs": [],
   "source": []
  },
  {
   "cell_type": "markdown",
   "metadata": {},
   "source": [
    "###Model validation: projective imaging"
   ]
  },
  {
   "cell_type": "code",
   "execution_count": null,
   "metadata": {
    "collapsed": true
   },
   "outputs": [],
   "source": [
    "##bars\n",
    "##wedges\n"
   ]
  }
 ],
 "metadata": {
  "kernelspec": {
   "display_name": "Python 2",
   "language": "python",
   "name": "python2"
  },
  "language_info": {
   "codemirror_mode": {
    "name": "ipython",
    "version": 2
   },
   "file_extension": ".py",
   "mimetype": "text/x-python",
   "name": "python",
   "nbconvert_exporter": "python",
   "pygments_lexer": "ipython2",
   "version": "2.7.10"
  }
 },
 "nbformat": 4,
 "nbformat_minor": 0
}
