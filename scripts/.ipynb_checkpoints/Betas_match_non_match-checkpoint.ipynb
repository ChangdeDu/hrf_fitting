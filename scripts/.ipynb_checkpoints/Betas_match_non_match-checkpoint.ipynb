{
 "cells": [
  {
   "cell_type": "markdown",
   "metadata": {},
   "source": [
    "##Fit a prf model with frequency selectivity.\n",
    "July.2015 high-resolution CMRR data for the \"match_nonmatch\" project.\n",
    "\n",
    "Project notes: https://drive.google.com/open?id=1m1rmotkmtgwY99Q_k71YDorUPq_DkCSJ0LselY13_v4"
   ]
  },
  {
   "cell_type": "code",
   "execution_count": 48,
   "metadata": {
    "collapsed": false
   },
   "outputs": [
    {
     "name": "stdout",
     "output_type": "stream",
     "text": [
      "Populating the interactive namespace from numpy and matplotlib\n"
     ]
    },
    {
     "name": "stderr",
     "output_type": "stream",
     "text": [
      "WARNING: pylab import has clobbered these variables: ['f', 'griddata']\n",
      "`%matplotlib` prevents importing * from pylab and numpy\n"
     ]
    }
   ],
   "source": [
    "%pylab inline\n",
    "import hrf_fitting.src.preprocessing as preproc\n",
    "import pandas as pd\n",
    "import numpy as np\n",
    "import matplotlib.pyplot as plt\n",
    "import scipy.ndimage\n",
    "import nibabel as nib\n",
    "import pickle\n",
    "import matplotlib.animation as animation\n",
    "\n",
    "from PIL import Image\n",
    "from hrf_fitting.src.features import construct_placement_grid,make_kernel_grid,complex_ripple_filter,compute_grid_corners\n",
    "from scipy.signal import convolve2d\n",
    "from os import path\n",
    "from sklearn import linear_model\n",
    "from glob import glob\n",
    "from sklearn.metrics import explained_variance_score,r2_score\n",
    "from scipy.stats.mstats import zscore\n",
    "from joblib import Parallel, delayed\n",
    "from time import time\n",
    "from scipy.interpolate import griddata"
   ]
  },
  {
   "cell_type": "markdown",
   "metadata": {
    "collapsed": true
   },
   "source": [
    "###Select data"
   ]
  },
  {
   "cell_type": "markdown",
   "metadata": {},
   "source": [
    "select a subject and corresponding database"
   ]
  },
  {
   "cell_type": "code",
   "execution_count": 49,
   "metadata": {
    "collapsed": true
   },
   "outputs": [],
   "source": [
    "subject = 's1055'\n",
    "db =  '/media/tnaselar/Data/July_2015_preproc/'+subject+'/PS/aligned_db.csv'"
   ]
  },
  {
   "cell_type": "markdown",
   "metadata": {},
   "source": [
    "import into pandas dataframe and view it"
   ]
  },
  {
   "cell_type": "code",
   "execution_count": 50,
   "metadata": {
    "collapsed": false,
    "scrolled": true
   },
   "outputs": [
    {
     "data": {
      "text/html": [
       "<div style=\"max-height:1000px;max-width:1500px;overflow:auto;\">\n",
       "<table border=\"1\" class=\"dataframe\">\n",
       "  <thead>\n",
       "    <tr style=\"text-align: right;\">\n",
       "      <th></th>\n",
       "      <th>runID</th>\n",
       "      <th>date</th>\n",
       "      <th>subject</th>\n",
       "      <th>experiment</th>\n",
       "      <th>working_vol</th>\n",
       "      <th>brain_mask</th>\n",
       "      <th>sessionID</th>\n",
       "      <th>runType</th>\n",
       "      <th>design matrix</th>\n",
       "      <th>frame_file</th>\n",
       "      <th>...</th>\n",
       "      <th>vox_x</th>\n",
       "      <th>vox_y</th>\n",
       "      <th>vox_z</th>\n",
       "      <th>run_code_path</th>\n",
       "      <th>run_code_file</th>\n",
       "      <th>design_matrix_path</th>\n",
       "      <th>frameFilePath</th>\n",
       "      <th>picPath</th>\n",
       "      <th>siemensRef</th>\n",
       "      <th>padVol</th>\n",
       "    </tr>\n",
       "  </thead>\n",
       "  <tbody>\n",
       "    <tr>\n",
       "      <th>0</th>\n",
       "      <td> 0</td>\n",
       "      <td> 27/07/2015</td>\n",
       "      <td> s1055</td>\n",
       "      <td> match_nonmatch</td>\n",
       "      <td> /media/tnaselar/Data/July_2015_preproc/s1055/P...</td>\n",
       "      <td> /media/tnaselar/Data/July_2015_preproc/s1055/P...</td>\n",
       "      <td> 1</td>\n",
       "      <td> wedge</td>\n",
       "      <td> none</td>\n",
       "      <td> wedge_frame_file.txt</td>\n",
       "      <td>...</td>\n",
       "      <td> 0.8</td>\n",
       "      <td> 0.8</td>\n",
       "      <td> 0.8</td>\n",
       "      <td> /musc.repo/mri/7T.cmrr/July.2015/PS/presentation</td>\n",
       "      <td> run_experiment.py</td>\n",
       "      <td> none</td>\n",
       "      <td> /musc.repo/mri/7T.cmrr/July.2015/PS/presentati...</td>\n",
       "      <td> /musc.repo/mri/7T.cmrr/July.2015/PS/presentati...</td>\n",
       "      <td> 0</td>\n",
       "      <td> 0</td>\n",
       "    </tr>\n",
       "    <tr>\n",
       "      <th>1</th>\n",
       "      <td> 1</td>\n",
       "      <td> 27/07/2015</td>\n",
       "      <td> s1055</td>\n",
       "      <td> match_nonmatch</td>\n",
       "      <td> /media/tnaselar/Data/July_2015_preproc/s1055/P...</td>\n",
       "      <td> /media/tnaselar/Data/July_2015_preproc/s1055/P...</td>\n",
       "      <td> 1</td>\n",
       "      <td> wedge</td>\n",
       "      <td> none</td>\n",
       "      <td> wedge_frame_file.txt</td>\n",
       "      <td>...</td>\n",
       "      <td> 0.8</td>\n",
       "      <td> 0.8</td>\n",
       "      <td> 0.8</td>\n",
       "      <td> /musc.repo/mri/7T.cmrr/July.2015/PS/presentation</td>\n",
       "      <td> run_experiment.py</td>\n",
       "      <td> none</td>\n",
       "      <td> /musc.repo/mri/7T.cmrr/July.2015/PS/presentati...</td>\n",
       "      <td> /musc.repo/mri/7T.cmrr/July.2015/PS/presentati...</td>\n",
       "      <td> 0</td>\n",
       "      <td> 0</td>\n",
       "    </tr>\n",
       "    <tr>\n",
       "      <th>2</th>\n",
       "      <td> 2</td>\n",
       "      <td> 27/07/2015</td>\n",
       "      <td> s1055</td>\n",
       "      <td> match_nonmatch</td>\n",
       "      <td> /media/tnaselar/Data/July_2015_preproc/s1055/P...</td>\n",
       "      <td> /media/tnaselar/Data/July_2015_preproc/s1055/P...</td>\n",
       "      <td> 1</td>\n",
       "      <td>   bar</td>\n",
       "      <td> none</td>\n",
       "      <td>   bar_frame_file.txt</td>\n",
       "      <td>...</td>\n",
       "      <td> 0.8</td>\n",
       "      <td> 0.8</td>\n",
       "      <td> 0.8</td>\n",
       "      <td> /musc.repo/mri/7T.cmrr/July.2015/PS/presentation</td>\n",
       "      <td> run_experiment.py</td>\n",
       "      <td> none</td>\n",
       "      <td> /musc.repo/mri/7T.cmrr/July.2015/PS/presentati...</td>\n",
       "      <td> /musc.repo/mri/7T.cmrr/July.2015/PS/presentati...</td>\n",
       "      <td> 0</td>\n",
       "      <td> 0</td>\n",
       "    </tr>\n",
       "    <tr>\n",
       "      <th>3</th>\n",
       "      <td> 3</td>\n",
       "      <td> 27/07/2015</td>\n",
       "      <td> s1055</td>\n",
       "      <td> match_nonmatch</td>\n",
       "      <td> /media/tnaselar/Data/July_2015_preproc/s1055/P...</td>\n",
       "      <td> /media/tnaselar/Data/July_2015_preproc/s1055/P...</td>\n",
       "      <td> 1</td>\n",
       "      <td>   bar</td>\n",
       "      <td> none</td>\n",
       "      <td>   bar_frame_file.txt</td>\n",
       "      <td>...</td>\n",
       "      <td> 0.8</td>\n",
       "      <td> 0.8</td>\n",
       "      <td> 0.8</td>\n",
       "      <td> /musc.repo/mri/7T.cmrr/July.2015/PS/presentation</td>\n",
       "      <td> run_experiment.py</td>\n",
       "      <td> none</td>\n",
       "      <td> /musc.repo/mri/7T.cmrr/July.2015/PS/presentati...</td>\n",
       "      <td> /musc.repo/mri/7T.cmrr/July.2015/PS/presentati...</td>\n",
       "      <td> 0</td>\n",
       "      <td> 0</td>\n",
       "    </tr>\n",
       "    <tr>\n",
       "      <th>4</th>\n",
       "      <td> 4</td>\n",
       "      <td> 27/07/2015</td>\n",
       "      <td> s1055</td>\n",
       "      <td> match_nonmatch</td>\n",
       "      <td> /media/tnaselar/Data/July_2015_preproc/s1055/P...</td>\n",
       "      <td> /media/tnaselar/Data/July_2015_preproc/s1055/P...</td>\n",
       "      <td> 1</td>\n",
       "      <td>   bar</td>\n",
       "      <td> none</td>\n",
       "      <td>   bar_frame_file.txt</td>\n",
       "      <td>...</td>\n",
       "      <td> 0.8</td>\n",
       "      <td> 0.8</td>\n",
       "      <td> 0.8</td>\n",
       "      <td> /musc.repo/mri/7T.cmrr/July.2015/PS/presentation</td>\n",
       "      <td> run_experiment.py</td>\n",
       "      <td> none</td>\n",
       "      <td> /musc.repo/mri/7T.cmrr/July.2015/PS/presentati...</td>\n",
       "      <td> /musc.repo/mri/7T.cmrr/July.2015/PS/presentati...</td>\n",
       "      <td> 0</td>\n",
       "      <td> 0</td>\n",
       "    </tr>\n",
       "  </tbody>\n",
       "</table>\n",
       "<p>5 rows × 29 columns</p>\n",
       "</div>"
      ],
      "text/plain": [
       "   runID        date subject      experiment  \\\n",
       "0      0  27/07/2015   s1055  match_nonmatch   \n",
       "1      1  27/07/2015   s1055  match_nonmatch   \n",
       "2      2  27/07/2015   s1055  match_nonmatch   \n",
       "3      3  27/07/2015   s1055  match_nonmatch   \n",
       "4      4  27/07/2015   s1055  match_nonmatch   \n",
       "\n",
       "                                         working_vol  \\\n",
       "0  /media/tnaselar/Data/July_2015_preproc/s1055/P...   \n",
       "1  /media/tnaselar/Data/July_2015_preproc/s1055/P...   \n",
       "2  /media/tnaselar/Data/July_2015_preproc/s1055/P...   \n",
       "3  /media/tnaselar/Data/July_2015_preproc/s1055/P...   \n",
       "4  /media/tnaselar/Data/July_2015_preproc/s1055/P...   \n",
       "\n",
       "                                          brain_mask  sessionID runType  \\\n",
       "0  /media/tnaselar/Data/July_2015_preproc/s1055/P...          1   wedge   \n",
       "1  /media/tnaselar/Data/July_2015_preproc/s1055/P...          1   wedge   \n",
       "2  /media/tnaselar/Data/July_2015_preproc/s1055/P...          1     bar   \n",
       "3  /media/tnaselar/Data/July_2015_preproc/s1055/P...          1     bar   \n",
       "4  /media/tnaselar/Data/July_2015_preproc/s1055/P...          1     bar   \n",
       "\n",
       "  design matrix            frame_file          ...          vox_x  vox_y  \\\n",
       "0          none  wedge_frame_file.txt          ...            0.8    0.8   \n",
       "1          none  wedge_frame_file.txt          ...            0.8    0.8   \n",
       "2          none    bar_frame_file.txt          ...            0.8    0.8   \n",
       "3          none    bar_frame_file.txt          ...            0.8    0.8   \n",
       "4          none    bar_frame_file.txt          ...            0.8    0.8   \n",
       "\n",
       "  vox_z                                     run_code_path      run_code_file  \\\n",
       "0   0.8  /musc.repo/mri/7T.cmrr/July.2015/PS/presentation  run_experiment.py   \n",
       "1   0.8  /musc.repo/mri/7T.cmrr/July.2015/PS/presentation  run_experiment.py   \n",
       "2   0.8  /musc.repo/mri/7T.cmrr/July.2015/PS/presentation  run_experiment.py   \n",
       "3   0.8  /musc.repo/mri/7T.cmrr/July.2015/PS/presentation  run_experiment.py   \n",
       "4   0.8  /musc.repo/mri/7T.cmrr/July.2015/PS/presentation  run_experiment.py   \n",
       "\n",
       "   design_matrix_path                                      frameFilePath  \\\n",
       "0                none  /musc.repo/mri/7T.cmrr/July.2015/PS/presentati...   \n",
       "1                none  /musc.repo/mri/7T.cmrr/July.2015/PS/presentati...   \n",
       "2                none  /musc.repo/mri/7T.cmrr/July.2015/PS/presentati...   \n",
       "3                none  /musc.repo/mri/7T.cmrr/July.2015/PS/presentati...   \n",
       "4                none  /musc.repo/mri/7T.cmrr/July.2015/PS/presentati...   \n",
       "\n",
       "                                             picPath  siemensRef  padVol  \n",
       "0  /musc.repo/mri/7T.cmrr/July.2015/PS/presentati...           0       0  \n",
       "1  /musc.repo/mri/7T.cmrr/July.2015/PS/presentati...           0       0  \n",
       "2  /musc.repo/mri/7T.cmrr/July.2015/PS/presentati...           0       0  \n",
       "3  /musc.repo/mri/7T.cmrr/July.2015/PS/presentati...           0       0  \n",
       "4  /musc.repo/mri/7T.cmrr/July.2015/PS/presentati...           0       0  \n",
       "\n",
       "[5 rows x 29 columns]"
      ]
     },
     "execution_count": 50,
     "metadata": {},
     "output_type": "execute_result"
    }
   ],
   "source": [
    "data_db = pd.io.parsers.read_csv(db,header=0)\n",
    "data_db.head(5)"
   ]
  },
  {
   "cell_type": "markdown",
   "metadata": {},
   "source": [
    "###Specify runs for training and testing the model"
   ]
  },
  {
   "cell_type": "code",
   "execution_count": 51,
   "metadata": {
    "collapsed": false
   },
   "outputs": [],
   "source": [
    "def select_run(row,runType):\n",
    "    return row['runType'] in [runType]\n",
    "\n",
    "\n",
    "wedge_runs = list(data_db[data_db.apply(select_run,axis=1,args=('wedge',))].runID)\n",
    "bar_runs = list(data_db[data_db.apply(select_run,axis=1,args=('bar',))].runID)\n",
    "art_runs = list(data_db[data_db.apply(select_run,axis=1,args=('art',))].runID)\n",
    "\n",
    "training_runs = wedge_runs[1:5]+bar_runs[1:5]\n",
    "selection_runs = wedge_runs[0:1]+bar_runs[0:1]\n",
    "validation_runs = wedge_runs[5:-1]+bar_runs[5:-1]\n",
    "# validation_run_ids = data_db[data_db.apply(lambda row: row['runType'] in validation_run_types,axis=1)].runID"
   ]
  },
  {
   "cell_type": "code",
   "execution_count": 52,
   "metadata": {
    "collapsed": false
   },
   "outputs": [
    {
     "data": {
      "text/html": [
       "<div style=\"max-height:1000px;max-width:1500px;overflow:auto;\">\n",
       "<table border=\"1\" class=\"dataframe\">\n",
       "  <thead>\n",
       "    <tr style=\"text-align: right;\">\n",
       "      <th></th>\n",
       "      <th>runID</th>\n",
       "      <th>date</th>\n",
       "      <th>subject</th>\n",
       "      <th>experiment</th>\n",
       "      <th>working_vol</th>\n",
       "      <th>brain_mask</th>\n",
       "      <th>sessionID</th>\n",
       "      <th>runType</th>\n",
       "      <th>design matrix</th>\n",
       "      <th>frame_file</th>\n",
       "      <th>...</th>\n",
       "      <th>vox_x</th>\n",
       "      <th>vox_y</th>\n",
       "      <th>vox_z</th>\n",
       "      <th>run_code_path</th>\n",
       "      <th>run_code_file</th>\n",
       "      <th>design_matrix_path</th>\n",
       "      <th>frameFilePath</th>\n",
       "      <th>picPath</th>\n",
       "      <th>siemensRef</th>\n",
       "      <th>padVol</th>\n",
       "    </tr>\n",
       "  </thead>\n",
       "  <tbody>\n",
       "    <tr>\n",
       "      <th>1 </th>\n",
       "      <td>  1</td>\n",
       "      <td> 27/07/2015</td>\n",
       "      <td> s1055</td>\n",
       "      <td> match_nonmatch</td>\n",
       "      <td> /media/tnaselar/Data/July_2015_preproc/s1055/P...</td>\n",
       "      <td> /media/tnaselar/Data/July_2015_preproc/s1055/P...</td>\n",
       "      <td> 1</td>\n",
       "      <td> wedge</td>\n",
       "      <td> none</td>\n",
       "      <td> wedge_frame_file.txt</td>\n",
       "      <td>...</td>\n",
       "      <td> 0.8</td>\n",
       "      <td> 0.8</td>\n",
       "      <td> 0.8</td>\n",
       "      <td> /musc.repo/mri/7T.cmrr/July.2015/PS/presentation</td>\n",
       "      <td> run_experiment.py</td>\n",
       "      <td> none</td>\n",
       "      <td> /musc.repo/mri/7T.cmrr/July.2015/PS/presentati...</td>\n",
       "      <td> /musc.repo/mri/7T.cmrr/July.2015/PS/presentati...</td>\n",
       "      <td> 0</td>\n",
       "      <td> 0</td>\n",
       "    </tr>\n",
       "    <tr>\n",
       "      <th>13</th>\n",
       "      <td> 13</td>\n",
       "      <td> 27/07/2015</td>\n",
       "      <td> s1055</td>\n",
       "      <td> match_nonmatch</td>\n",
       "      <td> /media/tnaselar/Data/July_2015_preproc/s1055/P...</td>\n",
       "      <td> /media/tnaselar/Data/July_2015_preproc/s1055/P...</td>\n",
       "      <td> 1</td>\n",
       "      <td> wedge</td>\n",
       "      <td> none</td>\n",
       "      <td> wedge_frame_file.txt</td>\n",
       "      <td>...</td>\n",
       "      <td> 0.8</td>\n",
       "      <td> 0.8</td>\n",
       "      <td> 0.8</td>\n",
       "      <td> /musc.repo/mri/7T.cmrr/July.2015/PS/presentation</td>\n",
       "      <td> run_experiment.py</td>\n",
       "      <td> none</td>\n",
       "      <td> /musc.repo/mri/7T.cmrr/July.2015/PS/presentati...</td>\n",
       "      <td> /musc.repo/mri/7T.cmrr/July.2015/PS/presentati...</td>\n",
       "      <td> 0</td>\n",
       "      <td> 0</td>\n",
       "    </tr>\n",
       "    <tr>\n",
       "      <th>17</th>\n",
       "      <td> 17</td>\n",
       "      <td> 29/07/2015</td>\n",
       "      <td> s1055</td>\n",
       "      <td> match_nonmatch</td>\n",
       "      <td> /media/tnaselar/Data/July_2015_preproc/s1055/P...</td>\n",
       "      <td> /media/tnaselar/Data/July_2015_preproc/s1055/P...</td>\n",
       "      <td> 1</td>\n",
       "      <td> wedge</td>\n",
       "      <td> none</td>\n",
       "      <td> wedge_frame_file.txt</td>\n",
       "      <td>...</td>\n",
       "      <td> 0.8</td>\n",
       "      <td> 0.8</td>\n",
       "      <td> 0.8</td>\n",
       "      <td> /musc.repo/mri/7T.cmrr/July.2015/PS/presentation</td>\n",
       "      <td> run_experiment.py</td>\n",
       "      <td> none</td>\n",
       "      <td> /musc.repo/mri/7T.cmrr/July.2015/PS/presentati...</td>\n",
       "      <td> /musc.repo/mri/7T.cmrr/July.2015/PS/presentati...</td>\n",
       "      <td> 0</td>\n",
       "      <td> 0</td>\n",
       "    </tr>\n",
       "    <tr>\n",
       "      <th>20</th>\n",
       "      <td> 20</td>\n",
       "      <td> 04/08/2015</td>\n",
       "      <td> s1055</td>\n",
       "      <td> match_nonmatch</td>\n",
       "      <td> /media/tnaselar/Data/July_2015_preproc/s1055/P...</td>\n",
       "      <td> /media/tnaselar/Data/July_2015_preproc/s1055/P...</td>\n",
       "      <td> 1</td>\n",
       "      <td> wedge</td>\n",
       "      <td> none</td>\n",
       "      <td> wedge_frame_file.txt</td>\n",
       "      <td>...</td>\n",
       "      <td> 0.8</td>\n",
       "      <td> 0.8</td>\n",
       "      <td> 0.8</td>\n",
       "      <td> /musc.repo/mri/7T.cmrr/July.2015/PS/presentation</td>\n",
       "      <td> run_experiment.py</td>\n",
       "      <td> none</td>\n",
       "      <td> /musc.repo/mri/7T.cmrr/July.2015/PS/presentati...</td>\n",
       "      <td> /musc.repo/mri/7T.cmrr/July.2015/PS/presentati...</td>\n",
       "      <td> 0</td>\n",
       "      <td> 0</td>\n",
       "    </tr>\n",
       "    <tr>\n",
       "      <th>3 </th>\n",
       "      <td>  3</td>\n",
       "      <td> 27/07/2015</td>\n",
       "      <td> s1055</td>\n",
       "      <td> match_nonmatch</td>\n",
       "      <td> /media/tnaselar/Data/July_2015_preproc/s1055/P...</td>\n",
       "      <td> /media/tnaselar/Data/July_2015_preproc/s1055/P...</td>\n",
       "      <td> 1</td>\n",
       "      <td>   bar</td>\n",
       "      <td> none</td>\n",
       "      <td>   bar_frame_file.txt</td>\n",
       "      <td>...</td>\n",
       "      <td> 0.8</td>\n",
       "      <td> 0.8</td>\n",
       "      <td> 0.8</td>\n",
       "      <td> /musc.repo/mri/7T.cmrr/July.2015/PS/presentation</td>\n",
       "      <td> run_experiment.py</td>\n",
       "      <td> none</td>\n",
       "      <td> /musc.repo/mri/7T.cmrr/July.2015/PS/presentati...</td>\n",
       "      <td> /musc.repo/mri/7T.cmrr/July.2015/PS/presentati...</td>\n",
       "      <td> 0</td>\n",
       "      <td> 0</td>\n",
       "    </tr>\n",
       "    <tr>\n",
       "      <th>4 </th>\n",
       "      <td>  4</td>\n",
       "      <td> 27/07/2015</td>\n",
       "      <td> s1055</td>\n",
       "      <td> match_nonmatch</td>\n",
       "      <td> /media/tnaselar/Data/July_2015_preproc/s1055/P...</td>\n",
       "      <td> /media/tnaselar/Data/July_2015_preproc/s1055/P...</td>\n",
       "      <td> 1</td>\n",
       "      <td>   bar</td>\n",
       "      <td> none</td>\n",
       "      <td>   bar_frame_file.txt</td>\n",
       "      <td>...</td>\n",
       "      <td> 0.8</td>\n",
       "      <td> 0.8</td>\n",
       "      <td> 0.8</td>\n",
       "      <td> /musc.repo/mri/7T.cmrr/July.2015/PS/presentation</td>\n",
       "      <td> run_experiment.py</td>\n",
       "      <td> none</td>\n",
       "      <td> /musc.repo/mri/7T.cmrr/July.2015/PS/presentati...</td>\n",
       "      <td> /musc.repo/mri/7T.cmrr/July.2015/PS/presentati...</td>\n",
       "      <td> 0</td>\n",
       "      <td> 0</td>\n",
       "    </tr>\n",
       "    <tr>\n",
       "      <th>14</th>\n",
       "      <td> 14</td>\n",
       "      <td> 27/07/2015</td>\n",
       "      <td> s1055</td>\n",
       "      <td> match_nonmatch</td>\n",
       "      <td> /media/tnaselar/Data/July_2015_preproc/s1055/P...</td>\n",
       "      <td> /media/tnaselar/Data/July_2015_preproc/s1055/P...</td>\n",
       "      <td> 1</td>\n",
       "      <td>   bar</td>\n",
       "      <td> none</td>\n",
       "      <td>   bar_frame_file.txt</td>\n",
       "      <td>...</td>\n",
       "      <td> 0.8</td>\n",
       "      <td> 0.8</td>\n",
       "      <td> 0.8</td>\n",
       "      <td> /musc.repo/mri/7T.cmrr/July.2015/PS/presentation</td>\n",
       "      <td> run_experiment.py</td>\n",
       "      <td> none</td>\n",
       "      <td> /musc.repo/mri/7T.cmrr/July.2015/PS/presentati...</td>\n",
       "      <td> /musc.repo/mri/7T.cmrr/July.2015/PS/presentati...</td>\n",
       "      <td> 0</td>\n",
       "      <td> 0</td>\n",
       "    </tr>\n",
       "    <tr>\n",
       "      <th>18</th>\n",
       "      <td> 18</td>\n",
       "      <td> 29/07/2015</td>\n",
       "      <td> s1055</td>\n",
       "      <td> match_nonmatch</td>\n",
       "      <td> /media/tnaselar/Data/July_2015_preproc/s1055/P...</td>\n",
       "      <td> /media/tnaselar/Data/July_2015_preproc/s1055/P...</td>\n",
       "      <td> 1</td>\n",
       "      <td>   bar</td>\n",
       "      <td> none</td>\n",
       "      <td>   bar_frame_file.txt</td>\n",
       "      <td>...</td>\n",
       "      <td> 0.8</td>\n",
       "      <td> 0.8</td>\n",
       "      <td> 0.8</td>\n",
       "      <td> /musc.repo/mri/7T.cmrr/July.2015/PS/presentation</td>\n",
       "      <td> run_experiment.py</td>\n",
       "      <td> none</td>\n",
       "      <td> /musc.repo/mri/7T.cmrr/July.2015/PS/presentati...</td>\n",
       "      <td> /musc.repo/mri/7T.cmrr/July.2015/PS/presentati...</td>\n",
       "      <td> 0</td>\n",
       "      <td> 0</td>\n",
       "    </tr>\n",
       "  </tbody>\n",
       "</table>\n",
       "<p>8 rows × 29 columns</p>\n",
       "</div>"
      ],
      "text/plain": [
       "    runID        date subject      experiment  \\\n",
       "1       1  27/07/2015   s1055  match_nonmatch   \n",
       "13     13  27/07/2015   s1055  match_nonmatch   \n",
       "17     17  29/07/2015   s1055  match_nonmatch   \n",
       "20     20  04/08/2015   s1055  match_nonmatch   \n",
       "3       3  27/07/2015   s1055  match_nonmatch   \n",
       "4       4  27/07/2015   s1055  match_nonmatch   \n",
       "14     14  27/07/2015   s1055  match_nonmatch   \n",
       "18     18  29/07/2015   s1055  match_nonmatch   \n",
       "\n",
       "                                          working_vol  \\\n",
       "1   /media/tnaselar/Data/July_2015_preproc/s1055/P...   \n",
       "13  /media/tnaselar/Data/July_2015_preproc/s1055/P...   \n",
       "17  /media/tnaselar/Data/July_2015_preproc/s1055/P...   \n",
       "20  /media/tnaselar/Data/July_2015_preproc/s1055/P...   \n",
       "3   /media/tnaselar/Data/July_2015_preproc/s1055/P...   \n",
       "4   /media/tnaselar/Data/July_2015_preproc/s1055/P...   \n",
       "14  /media/tnaselar/Data/July_2015_preproc/s1055/P...   \n",
       "18  /media/tnaselar/Data/July_2015_preproc/s1055/P...   \n",
       "\n",
       "                                           brain_mask  sessionID runType  \\\n",
       "1   /media/tnaselar/Data/July_2015_preproc/s1055/P...          1   wedge   \n",
       "13  /media/tnaselar/Data/July_2015_preproc/s1055/P...          1   wedge   \n",
       "17  /media/tnaselar/Data/July_2015_preproc/s1055/P...          1   wedge   \n",
       "20  /media/tnaselar/Data/July_2015_preproc/s1055/P...          1   wedge   \n",
       "3   /media/tnaselar/Data/July_2015_preproc/s1055/P...          1     bar   \n",
       "4   /media/tnaselar/Data/July_2015_preproc/s1055/P...          1     bar   \n",
       "14  /media/tnaselar/Data/July_2015_preproc/s1055/P...          1     bar   \n",
       "18  /media/tnaselar/Data/July_2015_preproc/s1055/P...          1     bar   \n",
       "\n",
       "   design matrix            frame_file          ...          vox_x  vox_y  \\\n",
       "1           none  wedge_frame_file.txt          ...            0.8    0.8   \n",
       "13          none  wedge_frame_file.txt          ...            0.8    0.8   \n",
       "17          none  wedge_frame_file.txt          ...            0.8    0.8   \n",
       "20          none  wedge_frame_file.txt          ...            0.8    0.8   \n",
       "3           none    bar_frame_file.txt          ...            0.8    0.8   \n",
       "4           none    bar_frame_file.txt          ...            0.8    0.8   \n",
       "14          none    bar_frame_file.txt          ...            0.8    0.8   \n",
       "18          none    bar_frame_file.txt          ...            0.8    0.8   \n",
       "\n",
       "   vox_z                                     run_code_path      run_code_file  \\\n",
       "1    0.8  /musc.repo/mri/7T.cmrr/July.2015/PS/presentation  run_experiment.py   \n",
       "13   0.8  /musc.repo/mri/7T.cmrr/July.2015/PS/presentation  run_experiment.py   \n",
       "17   0.8  /musc.repo/mri/7T.cmrr/July.2015/PS/presentation  run_experiment.py   \n",
       "20   0.8  /musc.repo/mri/7T.cmrr/July.2015/PS/presentation  run_experiment.py   \n",
       "3    0.8  /musc.repo/mri/7T.cmrr/July.2015/PS/presentation  run_experiment.py   \n",
       "4    0.8  /musc.repo/mri/7T.cmrr/July.2015/PS/presentation  run_experiment.py   \n",
       "14   0.8  /musc.repo/mri/7T.cmrr/July.2015/PS/presentation  run_experiment.py   \n",
       "18   0.8  /musc.repo/mri/7T.cmrr/July.2015/PS/presentation  run_experiment.py   \n",
       "\n",
       "    design_matrix_path                                      frameFilePath  \\\n",
       "1                 none  /musc.repo/mri/7T.cmrr/July.2015/PS/presentati...   \n",
       "13                none  /musc.repo/mri/7T.cmrr/July.2015/PS/presentati...   \n",
       "17                none  /musc.repo/mri/7T.cmrr/July.2015/PS/presentati...   \n",
       "20                none  /musc.repo/mri/7T.cmrr/July.2015/PS/presentati...   \n",
       "3                 none  /musc.repo/mri/7T.cmrr/July.2015/PS/presentati...   \n",
       "4                 none  /musc.repo/mri/7T.cmrr/July.2015/PS/presentati...   \n",
       "14                none  /musc.repo/mri/7T.cmrr/July.2015/PS/presentati...   \n",
       "18                none  /musc.repo/mri/7T.cmrr/July.2015/PS/presentati...   \n",
       "\n",
       "                                              picPath  siemensRef  padVol  \n",
       "1   /musc.repo/mri/7T.cmrr/July.2015/PS/presentati...           0       0  \n",
       "13  /musc.repo/mri/7T.cmrr/July.2015/PS/presentati...           0       0  \n",
       "17  /musc.repo/mri/7T.cmrr/July.2015/PS/presentati...           0       0  \n",
       "20  /musc.repo/mri/7T.cmrr/July.2015/PS/presentati...           0       0  \n",
       "3   /musc.repo/mri/7T.cmrr/July.2015/PS/presentati...           0       0  \n",
       "4   /musc.repo/mri/7T.cmrr/July.2015/PS/presentati...           0       0  \n",
       "14  /musc.repo/mri/7T.cmrr/July.2015/PS/presentati...           0       0  \n",
       "18  /musc.repo/mri/7T.cmrr/July.2015/PS/presentati...           0       0  \n",
       "\n",
       "[8 rows x 29 columns]"
      ]
     },
     "execution_count": 52,
     "metadata": {},
     "output_type": "execute_result"
    }
   ],
   "source": [
    "data_db.iloc[training_runs] "
   ]
  },
  {
   "cell_type": "code",
   "execution_count": 53,
   "metadata": {
    "collapsed": false
   },
   "outputs": [
    {
     "data": {
      "text/html": [
       "<div style=\"max-height:1000px;max-width:1500px;overflow:auto;\">\n",
       "<table border=\"1\" class=\"dataframe\">\n",
       "  <thead>\n",
       "    <tr style=\"text-align: right;\">\n",
       "      <th></th>\n",
       "      <th>runID</th>\n",
       "      <th>date</th>\n",
       "      <th>subject</th>\n",
       "      <th>experiment</th>\n",
       "      <th>working_vol</th>\n",
       "      <th>brain_mask</th>\n",
       "      <th>sessionID</th>\n",
       "      <th>runType</th>\n",
       "      <th>design matrix</th>\n",
       "      <th>frame_file</th>\n",
       "      <th>...</th>\n",
       "      <th>vox_x</th>\n",
       "      <th>vox_y</th>\n",
       "      <th>vox_z</th>\n",
       "      <th>run_code_path</th>\n",
       "      <th>run_code_file</th>\n",
       "      <th>design_matrix_path</th>\n",
       "      <th>frameFilePath</th>\n",
       "      <th>picPath</th>\n",
       "      <th>siemensRef</th>\n",
       "      <th>padVol</th>\n",
       "    </tr>\n",
       "  </thead>\n",
       "  <tbody>\n",
       "    <tr>\n",
       "      <th>0</th>\n",
       "      <td> 0</td>\n",
       "      <td> 27/07/2015</td>\n",
       "      <td> s1055</td>\n",
       "      <td> match_nonmatch</td>\n",
       "      <td> /media/tnaselar/Data/July_2015_preproc/s1055/P...</td>\n",
       "      <td> /media/tnaselar/Data/July_2015_preproc/s1055/P...</td>\n",
       "      <td> 1</td>\n",
       "      <td> wedge</td>\n",
       "      <td> none</td>\n",
       "      <td> wedge_frame_file.txt</td>\n",
       "      <td>...</td>\n",
       "      <td> 0.8</td>\n",
       "      <td> 0.8</td>\n",
       "      <td> 0.8</td>\n",
       "      <td> /musc.repo/mri/7T.cmrr/July.2015/PS/presentation</td>\n",
       "      <td> run_experiment.py</td>\n",
       "      <td> none</td>\n",
       "      <td> /musc.repo/mri/7T.cmrr/July.2015/PS/presentati...</td>\n",
       "      <td> /musc.repo/mri/7T.cmrr/July.2015/PS/presentati...</td>\n",
       "      <td> 0</td>\n",
       "      <td> 0</td>\n",
       "    </tr>\n",
       "    <tr>\n",
       "      <th>2</th>\n",
       "      <td> 2</td>\n",
       "      <td> 27/07/2015</td>\n",
       "      <td> s1055</td>\n",
       "      <td> match_nonmatch</td>\n",
       "      <td> /media/tnaselar/Data/July_2015_preproc/s1055/P...</td>\n",
       "      <td> /media/tnaselar/Data/July_2015_preproc/s1055/P...</td>\n",
       "      <td> 1</td>\n",
       "      <td>   bar</td>\n",
       "      <td> none</td>\n",
       "      <td>   bar_frame_file.txt</td>\n",
       "      <td>...</td>\n",
       "      <td> 0.8</td>\n",
       "      <td> 0.8</td>\n",
       "      <td> 0.8</td>\n",
       "      <td> /musc.repo/mri/7T.cmrr/July.2015/PS/presentation</td>\n",
       "      <td> run_experiment.py</td>\n",
       "      <td> none</td>\n",
       "      <td> /musc.repo/mri/7T.cmrr/July.2015/PS/presentati...</td>\n",
       "      <td> /musc.repo/mri/7T.cmrr/July.2015/PS/presentati...</td>\n",
       "      <td> 0</td>\n",
       "      <td> 0</td>\n",
       "    </tr>\n",
       "  </tbody>\n",
       "</table>\n",
       "<p>2 rows × 29 columns</p>\n",
       "</div>"
      ],
      "text/plain": [
       "   runID        date subject      experiment  \\\n",
       "0      0  27/07/2015   s1055  match_nonmatch   \n",
       "2      2  27/07/2015   s1055  match_nonmatch   \n",
       "\n",
       "                                         working_vol  \\\n",
       "0  /media/tnaselar/Data/July_2015_preproc/s1055/P...   \n",
       "2  /media/tnaselar/Data/July_2015_preproc/s1055/P...   \n",
       "\n",
       "                                          brain_mask  sessionID runType  \\\n",
       "0  /media/tnaselar/Data/July_2015_preproc/s1055/P...          1   wedge   \n",
       "2  /media/tnaselar/Data/July_2015_preproc/s1055/P...          1     bar   \n",
       "\n",
       "  design matrix            frame_file          ...          vox_x  vox_y  \\\n",
       "0          none  wedge_frame_file.txt          ...            0.8    0.8   \n",
       "2          none    bar_frame_file.txt          ...            0.8    0.8   \n",
       "\n",
       "  vox_z                                     run_code_path      run_code_file  \\\n",
       "0   0.8  /musc.repo/mri/7T.cmrr/July.2015/PS/presentation  run_experiment.py   \n",
       "2   0.8  /musc.repo/mri/7T.cmrr/July.2015/PS/presentation  run_experiment.py   \n",
       "\n",
       "   design_matrix_path                                      frameFilePath  \\\n",
       "0                none  /musc.repo/mri/7T.cmrr/July.2015/PS/presentati...   \n",
       "2                none  /musc.repo/mri/7T.cmrr/July.2015/PS/presentati...   \n",
       "\n",
       "                                             picPath  siemensRef  padVol  \n",
       "0  /musc.repo/mri/7T.cmrr/July.2015/PS/presentati...           0       0  \n",
       "2  /musc.repo/mri/7T.cmrr/July.2015/PS/presentati...           0       0  \n",
       "\n",
       "[2 rows x 29 columns]"
      ]
     },
     "execution_count": 53,
     "metadata": {},
     "output_type": "execute_result"
    }
   ],
   "source": [
    "data_db.iloc[selection_runs]"
   ]
  },
  {
   "cell_type": "code",
   "execution_count": 54,
   "metadata": {
    "collapsed": false
   },
   "outputs": [
    {
     "data": {
      "text/html": [
       "<div style=\"max-height:1000px;max-width:1500px;overflow:auto;\">\n",
       "<table border=\"1\" class=\"dataframe\">\n",
       "  <thead>\n",
       "    <tr style=\"text-align: right;\">\n",
       "      <th></th>\n",
       "      <th>runID</th>\n",
       "      <th>date</th>\n",
       "      <th>subject</th>\n",
       "      <th>experiment</th>\n",
       "      <th>working_vol</th>\n",
       "      <th>brain_mask</th>\n",
       "      <th>sessionID</th>\n",
       "      <th>runType</th>\n",
       "      <th>design matrix</th>\n",
       "      <th>frame_file</th>\n",
       "      <th>...</th>\n",
       "      <th>vox_x</th>\n",
       "      <th>vox_y</th>\n",
       "      <th>vox_z</th>\n",
       "      <th>run_code_path</th>\n",
       "      <th>run_code_file</th>\n",
       "      <th>design_matrix_path</th>\n",
       "      <th>frameFilePath</th>\n",
       "      <th>picPath</th>\n",
       "      <th>siemensRef</th>\n",
       "      <th>padVol</th>\n",
       "    </tr>\n",
       "  </thead>\n",
       "  <tbody>\n",
       "    <tr>\n",
       "      <th>21</th>\n",
       "      <td> 21</td>\n",
       "      <td> 04/08/2015</td>\n",
       "      <td> s1055</td>\n",
       "      <td> match_nonmatch</td>\n",
       "      <td> /media/tnaselar/Data/July_2015_preproc/s1055/P...</td>\n",
       "      <td> /media/tnaselar/Data/July_2015_preproc/s1055/P...</td>\n",
       "      <td> 1</td>\n",
       "      <td> wedge</td>\n",
       "      <td> none</td>\n",
       "      <td> wedge_frame_file.txt</td>\n",
       "      <td>...</td>\n",
       "      <td> 0.8</td>\n",
       "      <td> 0.8</td>\n",
       "      <td> 0.8</td>\n",
       "      <td> /musc.repo/mri/7T.cmrr/July.2015/PS/presentation</td>\n",
       "      <td> run_experiment.py</td>\n",
       "      <td> none</td>\n",
       "      <td> /musc.repo/mri/7T.cmrr/July.2015/PS/presentati...</td>\n",
       "      <td> /musc.repo/mri/7T.cmrr/July.2015/PS/presentati...</td>\n",
       "      <td> 0</td>\n",
       "      <td> 0</td>\n",
       "    </tr>\n",
       "    <tr>\n",
       "      <th>22</th>\n",
       "      <td> 22</td>\n",
       "      <td> 04/08/2015</td>\n",
       "      <td> s1055</td>\n",
       "      <td> match_nonmatch</td>\n",
       "      <td> /media/tnaselar/Data/July_2015_preproc/s1055/P...</td>\n",
       "      <td> /media/tnaselar/Data/July_2015_preproc/s1055/P...</td>\n",
       "      <td> 1</td>\n",
       "      <td>   bar</td>\n",
       "      <td> none</td>\n",
       "      <td>   bar_frame_file.txt</td>\n",
       "      <td>...</td>\n",
       "      <td> 0.8</td>\n",
       "      <td> 0.8</td>\n",
       "      <td> 0.8</td>\n",
       "      <td> /musc.repo/mri/7T.cmrr/July.2015/PS/presentation</td>\n",
       "      <td> run_experiment.py</td>\n",
       "      <td> none</td>\n",
       "      <td> /musc.repo/mri/7T.cmrr/July.2015/PS/presentati...</td>\n",
       "      <td> /musc.repo/mri/7T.cmrr/July.2015/PS/presentati...</td>\n",
       "      <td> 0</td>\n",
       "      <td> 0</td>\n",
       "    </tr>\n",
       "  </tbody>\n",
       "</table>\n",
       "<p>2 rows × 29 columns</p>\n",
       "</div>"
      ],
      "text/plain": [
       "    runID        date subject      experiment  \\\n",
       "21     21  04/08/2015   s1055  match_nonmatch   \n",
       "22     22  04/08/2015   s1055  match_nonmatch   \n",
       "\n",
       "                                          working_vol  \\\n",
       "21  /media/tnaselar/Data/July_2015_preproc/s1055/P...   \n",
       "22  /media/tnaselar/Data/July_2015_preproc/s1055/P...   \n",
       "\n",
       "                                           brain_mask  sessionID runType  \\\n",
       "21  /media/tnaselar/Data/July_2015_preproc/s1055/P...          1   wedge   \n",
       "22  /media/tnaselar/Data/July_2015_preproc/s1055/P...          1     bar   \n",
       "\n",
       "   design matrix            frame_file          ...          vox_x  vox_y  \\\n",
       "21          none  wedge_frame_file.txt          ...            0.8    0.8   \n",
       "22          none    bar_frame_file.txt          ...            0.8    0.8   \n",
       "\n",
       "   vox_z                                     run_code_path      run_code_file  \\\n",
       "21   0.8  /musc.repo/mri/7T.cmrr/July.2015/PS/presentation  run_experiment.py   \n",
       "22   0.8  /musc.repo/mri/7T.cmrr/July.2015/PS/presentation  run_experiment.py   \n",
       "\n",
       "    design_matrix_path                                      frameFilePath  \\\n",
       "21                none  /musc.repo/mri/7T.cmrr/July.2015/PS/presentati...   \n",
       "22                none  /musc.repo/mri/7T.cmrr/July.2015/PS/presentati...   \n",
       "\n",
       "                                              picPath  siemensRef  padVol  \n",
       "21  /musc.repo/mri/7T.cmrr/July.2015/PS/presentati...           0       0  \n",
       "22  /musc.repo/mri/7T.cmrr/July.2015/PS/presentati...           0       0  \n",
       "\n",
       "[2 rows x 29 columns]"
      ]
     },
     "execution_count": 54,
     "metadata": {},
     "output_type": "execute_result"
    }
   ],
   "source": [
    "data_db.iloc[validation_runs]"
   ]
  },
  {
   "cell_type": "markdown",
   "metadata": {},
   "source": [
    "###Load neural data"
   ]
  },
  {
   "cell_type": "code",
   "execution_count": 97,
   "metadata": {
    "collapsed": false
   },
   "outputs": [
    {
     "name": "stdout",
     "output_type": "stream",
     "text": [
      "detrending run 0 with window_length: 101\n",
      "detrending run 1 with window_length: 101\n",
      "detrending run 2 with window_length: 101\n",
      "detrending run 3 with window_length: 101\n",
      "detrending run 4 with window_length: 101\n",
      "detrending run 5 with window_length: 101\n",
      "detrending run 6 with window_length: 101\n",
      "detrending run 7 with window_length: 101\n",
      "zscoring 0 thru 200\n",
      "zscoring 200 thru 400\n",
      "zscoring 400 thru 600\n",
      "zscoring 600 thru 800\n",
      "zscoring 800 thru 1000\n",
      "zscoring 1000 thru 1200\n",
      "zscoring 1200 thru 1400\n",
      "zscoring 1400 thru 1600\n",
      "detrending run 0 with window_length: 101\n",
      "detrending run 1 with window_length: 101\n",
      "zscoring 0 thru 200\n",
      "zscoring 200 thru 400\n",
      "detrending run 0 with window_length: 101\n",
      "detrending run 1 with window_length: 101\n",
      "zscoring 0 thru 200\n",
      "zscoring 200 thru 400\n"
     ]
    }
   ],
   "source": [
    "training_vols = preproc.load_runs(data_db,training_runs)\n",
    "selection_vols = preproc.load_runs(data_db,selection_runs)\n",
    "validation_vols = preproc.load_runs(data_db,validation_runs)"
   ]
  },
  {
   "cell_type": "markdown",
   "metadata": {},
   "source": [
    "Reshape, mask, and remove inf's. Need to add this functionality to \"load_runs\""
   ]
  },
  {
   "cell_type": "code",
   "execution_count": 98,
   "metadata": {
    "collapsed": false
   },
   "outputs": [],
   "source": [
    "##optional coronal slice selection\n",
    "first_slice,last_slice = -25,-1\n",
    "\n",
    "##first the mask. mucked up the database somehow, so reading in the brain mask is a stupid mess\n",
    "bm = glob('/media'+data_db.iloc[training_runs[0]]['brain_mask'].split('/media')[2]+'/*.gz')\n",
    "mask_image = nib.load(bm[0]).get_data().astype('bool') ##a numpy boolean\n",
    "\n",
    "##now some indices for coronal slicing.\n",
    "zdx = np.zeros(training_vols.shape[0:3]).astype('bool')\n",
    "zdx[:,:,first_slice:last_slice] = True\n",
    "\n",
    "##can't use any of the voxels with knackered values\n",
    "finite_voxels = np.isfinite(training_vols.get_data()).all(axis=3)*np.isfinite(selection_vols.get_data()).all(axis=3)\n",
    "\n",
    "mask_image = mask_image*zdx*finite_voxels"
   ]
  },
  {
   "cell_type": "code",
   "execution_count": 99,
   "metadata": {
    "collapsed": true
   },
   "outputs": [],
   "source": [
    "def apply_mask(vol,raveled_mask):\n",
    "    vol = vol.get_data().reshape((np.prod(vol.shape[0:3]),vol.shape[3])).T  ##converts to (time, xyz)\n",
    "    return vol[:,raveled_mask]\n",
    "    "
   ]
  },
  {
   "cell_type": "code",
   "execution_count": 100,
   "metadata": {
    "collapsed": true
   },
   "outputs": [],
   "source": [
    "##test masking\n",
    "mean_vol = preproc.load_runs(data_db,selection_runs,detrend=False,z_score=False)\n",
    "mean_vol = apply_mask(mean_vol,mask_image.ravel()).mean(axis=0)\n",
    "test_view = np.zeros(mask_image.shape).ravel()\n",
    "test_view[mask_image.ravel()] = mean_vol\n",
    "test_view = test_view.reshape(mask_image.shape)"
   ]
  },
  {
   "cell_type": "code",
   "execution_count": 101,
   "metadata": {
    "collapsed": false
   },
   "outputs": [
    {
     "data": {
      "text/plain": [
       "<matplotlib.image.AxesImage at 0x7f28feb1bbd0>"
      ]
     },
     "execution_count": 101,
     "metadata": {},
     "output_type": "execute_result"
    },
    {
     "data": {
      "image/png": "[encoded data removed]",
      "text/plain": [
       "<matplotlib.figure.Figure at 0x7f28febdadd0>"
      ]
     },
     "metadata": {},
     "output_type": "display_data"
    }
   ],
   "source": [
    "plt.figure(figsize=(20,5))\n",
    "plt.subplot(1,2,1)\n",
    "plt.imshow(test_view[:,:,first_slice],cmap=cm.gray)\n",
    "plt.subplot(1,2,2)\n",
    "plt.imshow(test_view[:,:,last_slice-1],cmap=cm.gray)"
   ]
  },
  {
   "cell_type": "code",
   "execution_count": 102,
   "metadata": {
    "collapsed": true
   },
   "outputs": [],
   "source": [
    "training_vols = apply_mask(training_vols,mask_image.ravel()) "
   ]
  },
  {
   "cell_type": "code",
   "execution_count": 103,
   "metadata": {
    "collapsed": false
   },
   "outputs": [
    {
     "name": "stdout",
     "output_type": "stream",
     "text": [
      "training vol dimensions: (1600, 165406)\n"
     ]
    }
   ],
   "source": [
    "print 'training vol dimensions: %s' %(training_vols.shape,)"
   ]
  },
  {
   "cell_type": "code",
   "execution_count": 104,
   "metadata": {
    "collapsed": true
   },
   "outputs": [],
   "source": [
    "selection_vols = apply_mask(selection_vols,mask_image.ravel()) "
   ]
  },
  {
   "cell_type": "code",
   "execution_count": 105,
   "metadata": {
    "collapsed": false
   },
   "outputs": [
    {
     "name": "stdout",
     "output_type": "stream",
     "text": [
      "selection vol dimensions: (400, 165406)\n"
     ]
    }
   ],
   "source": [
    "print 'selection vol dimensions: %s' %(selection_vols.shape,)"
   ]
  },
  {
   "cell_type": "code",
   "execution_count": 106,
   "metadata": {
    "collapsed": true
   },
   "outputs": [],
   "source": [
    "validation_vols = apply_mask(validation_vols,mask_image.ravel())"
   ]
  },
  {
   "cell_type": "code",
   "execution_count": 107,
   "metadata": {
    "collapsed": false
   },
   "outputs": [
    {
     "name": "stdout",
     "output_type": "stream",
     "text": [
      "validation vol dimensions: (400, 165406)\n"
     ]
    }
   ],
   "source": [
    "print 'validation vol dimensions: %s' %(validation_vols.shape,)"
   ]
  },
  {
   "cell_type": "markdown",
   "metadata": {},
   "source": [
    "###Load images\n",
    "We happen to know that for the 'wedge' and 'bar' runs, the framefiles are identical. So we don't need\n",
    "to all of them into memory. Instead, we load in one copy, and create a function that will be used to concatenate feature matrices when it's time to train the model."
   ]
  },
  {
   "cell_type": "code",
   "execution_count": 55,
   "metadata": {
    "collapsed": false
   },
   "outputs": [
    {
     "name": "stdout",
     "output_type": "stream",
     "text": [
      "pixels per degree: 14.12\n",
      "pixels per image: 312\n"
     ]
    }
   ],
   "source": [
    "##some important units\n",
    "native_stim_size = 768. ##I just know this\n",
    "working_image_size = 312.\n",
    "image_downsampling = working_image_size/native_stim_size ##I choose this\n",
    "pixel_per_deg = 34.751*image_downsampling    ##I just know this  \n",
    "pixels_per_stimulus = int(native_stim_size*image_downsampling) \n",
    "wedge_nvols = data_db.iloc[selection_runs[0]].nvols ##we happen to know what 0 and 1 mean\n",
    "bar_nvols = data_db.iloc[selection_runs[1]].nvols\n",
    "\n",
    "print 'pixels per degree: %0.2f' %(pixel_per_deg)\n",
    "print 'pixels per image: %d' %(pixels_per_stimulus)"
   ]
  },
  {
   "cell_type": "code",
   "execution_count": 56,
   "metadata": {
    "collapsed": false
   },
   "outputs": [],
   "source": [
    "##list of stimulus frames, as they were presented\n",
    "wedge_stim_list = preproc.load_frame_file(data_db.iloc[selection_runs[0]]) \n",
    "bar_stim_list = preproc.load_frame_file(data_db.iloc[selection_runs[1]])\n",
    "pic_path = data_db.iloc[selection_runs[0]].picPath"
   ]
  },
  {
   "cell_type": "code",
   "execution_count": 57,
   "metadata": {
    "collapsed": false
   },
   "outputs": [
    {
     "name": "stdout",
     "output_type": "stream",
     "text": [
      "wedge images taking up 0.408 GB of RAM\n"
     ]
    }
   ],
   "source": [
    "wedge_imgs = np.array(map(lambda img: np.array(Image.open(img).convert('L').resize((pixels_per_stimulus,)*2)),\n",
    "                          map(lambda f: path.join(pic_path,f),wedge_stim_list)),\n",
    "                      ndmin=3)\n",
    "print 'wedge images taking up %0.3f GB of RAM' %(wedge_imgs.nbytes/1024./1024./1024.)"
   ]
  },
  {
   "cell_type": "code",
   "execution_count": null,
   "metadata": {
    "collapsed": false
   },
   "outputs": [],
   "source": [
    "bar_imgs = np.array(map(lambda img: np.array(Image.open(img).convert('L').resize((pixels_per_stimulus,)*2)),\n",
    "                          map(lambda f: path.join(pic_path,f),bar_stim_list)),\n",
    "                    ndmin=3)\n",
    "print 'bar images taking up %0.3f GB of RAM' %(bar_imgs.nbytes/1024./1024./1024.)"
   ]
  },
  {
   "cell_type": "code",
   "execution_count": null,
   "metadata": {
    "collapsed": false
   },
   "outputs": [],
   "source": [
    "plt.figure\n",
    "plt.subplot(1,2,1)\n",
    "plt.imshow(wedge_imgs[400,:,:],cmap=cm.gray)\n",
    "plt.subplot(1,2,2)\n",
    "plt.imshow(bar_imgs[400,:,:],cmap=cm.gray)"
   ]
  },
  {
   "cell_type": "markdown",
   "metadata": {},
   "source": [
    "###Construct features"
   ]
  },
  {
   "cell_type": "markdown",
   "metadata": {},
   "source": [
    "Specify the set of ripple filters"
   ]
  },
  {
   "cell_type": "code",
   "execution_count": 58,
   "metadata": {
    "collapsed": false
   },
   "outputs": [
    {
     "name": "stdout",
     "output_type": "stream",
     "text": [
      "total number of models to evaluate (per voxel): 17424\n"
     ]
    }
   ],
   "source": [
    "\n",
    "##preferences\n",
    "min_cyc_deg = 0.1\n",
    "max_cyc_deg = 4.\n",
    "min_kernel_size = .5    ##deg\n",
    "max_kernel_size = 10.5    ##deg\n",
    "kernel_spacing = 0.95 ##deg\n",
    "num_freq_levels = 6\n",
    "num_size_levels = 6\n",
    "boundary_condition = 1\n",
    "\n",
    "##---frequencies\n",
    "##cyc/deg\n",
    "freq_df = pd.DataFrame(np.logspace(np.log10(min_cyc_deg),np.log10(max_cyc_deg),num=num_freq_levels,endpoint=True),\n",
    "                       columns=['cyc/deg'])\n",
    "##cyc/pix\n",
    "freq_df['cyc/pix'] = freq_df['cyc/deg'].apply(lambda x: x/pixel_per_deg)\n",
    "##cyc/image\n",
    "freq_df['cyc/image'] = freq_df['cyc/pix'].apply(lambda x: x*pixels_per_stimulus)\n",
    "##pix/cyc -- check to make sure greater than 6, as per Curtis Baker\n",
    "freq_df['pix/cyc'] = freq_df['cyc/pix'].apply(lambda x: 1/x)\n",
    "\n",
    "##---kernel sizes\n",
    "##deg\n",
    "size_df = pd.DataFrame(np.linspace(min_kernel_size, max_kernel_size,num=num_size_levels,endpoint=True),\n",
    "                       columns = ['deg.'])\n",
    "##pix\n",
    "size_df['pix'] = size_df['deg.'].apply(lambda x: x*pixel_per_deg)\n",
    "\n",
    "\n",
    "\n",
    "##---kernel position grid\n",
    "pix_spacing = kernel_spacing*pixel_per_deg\n",
    "corners=compute_grid_corners(working_image_size,size_df['pix'].min(),boundary_condition=1)  #not quite on edge of image\n",
    "pos_x,pos_y=construct_placement_grid(corners,pix_spacing)\n",
    "pos_x = pos_x.ravel()\n",
    "pos_y = pos_y.ravel()\n",
    "\n",
    "##---summarize\n",
    "num_models = len(pos_x)*num_freq_levels*num_size_levels\n",
    "print 'total number of models to evaluate (per voxel): %d' %(num_models)\n",
    "\n"
   ]
  },
  {
   "cell_type": "markdown",
   "metadata": {},
   "source": [
    "Spatial frequencies in various units"
   ]
  },
  {
   "cell_type": "code",
   "execution_count": null,
   "metadata": {
    "collapsed": false
   },
   "outputs": [],
   "source": [
    "freq_df"
   ]
  },
  {
   "cell_type": "markdown",
   "metadata": {},
   "source": [
    "Kernel sizes in various units"
   ]
  },
  {
   "cell_type": "code",
   "execution_count": null,
   "metadata": {
    "collapsed": false
   },
   "outputs": [],
   "source": [
    "size_df"
   ]
  },
  {
   "cell_type": "code",
   "execution_count": null,
   "metadata": {
    "collapsed": false
   },
   "outputs": [],
   "source": [
    "plt.figure(figsize=(20,5))\n",
    "\n",
    "smallest_fastest = complex_ripple_filter(freq_df['cyc/image'].max(),(0,0),size_df['pix'].min(),pixels_per_stimulus)\n",
    "plt.subplot(1,3,1)\n",
    "plt.imshow(np.real(smallest_fastest),cmap=cm.gray)\n",
    "\n",
    "biggest_fastest = complex_ripple_filter(freq_df['cyc/image'].max(),(0,0),size_df['pix'].max(),pixels_per_stimulus)\n",
    "plt.subplot(1,3,2)\n",
    "plt.imshow(np.real(biggest_fastest),cmap=cm.gray)\n",
    "\n",
    "\n",
    "biggest_slowest = complex_ripple_filter(freq_df['cyc/image'].min(),(0,0),size_df['pix'].max(),pixels_per_stimulus)\n",
    "plt.subplot(1,3,3)\n",
    "plt.imshow(np.real(biggest_slowest),cmap=cm.gray)\n",
    "\n"
   ]
  },
  {
   "cell_type": "markdown",
   "metadata": {},
   "source": [
    "###Fit the ripple model\n",
    "Loop over all prf sizes, frequencies, and positions. At each iteration fit an independent model for each voxel. Evaluate the score against a held-out selection set. Keep track of the best model for each voxel."
   ]
  },
  {
   "cell_type": "code",
   "execution_count": null,
   "metadata": {
    "collapsed": true
   },
   "outputs": [],
   "source": [
    "##some parameters of the model\n",
    "hrf_length = 15 ##20 s should do it.\n",
    "alpha = 1 ## I dunno. For rige regression"
   ]
  },
  {
   "cell_type": "markdown",
   "metadata": {},
   "source": [
    "A special function we need for creating feature matrices w/o filling up memory."
   ]
  },
  {
   "cell_type": "code",
   "execution_count": null,
   "metadata": {
    "collapsed": true
   },
   "outputs": [],
   "source": [
    "def concat_wedge_bar_matrices(wedge_feature_matrix=None,bar_feature_matrix=None,run_ids=None):\n",
    "    total_rows = data_db['nvols'].iloc[run_ids].sum(axis=0)\n",
    "    total_cols = wedge_feature_matrix.shape[1]\n",
    "    nVols = wedge_feature_matrix.shape[0]\n",
    "    final_feature_matrix = np.zeros((total_rows,total_cols))\n",
    "    count = 0\n",
    "    for row in data_db.iloc[run_ids].iterrows():  ##apparently this gives you a tuple with the index first\n",
    "        run_type = row[1].runType\n",
    "        if run_type == 'bar':\n",
    "            final_feature_matrix[count:count+nVols,:] = bar_feature_matrix\n",
    "        elif run_type == 'wedge':\n",
    "            final_feature_matrix[count:count+nVols,:] = wedge_feature_matrix\n",
    "        else:\n",
    "            raise Exception('run type should only be bar or wedge. something is wrong.')\n",
    "        count += nVols\n",
    "    return final_feature_matrix"
   ]
  },
  {
   "cell_type": "markdown",
   "metadata": {},
   "source": [
    "A reasonbly efficient scoring function. Sklearn doesn't deal with scoring many models at once"
   ]
  },
  {
   "cell_type": "code",
   "execution_count": null,
   "metadata": {
    "collapsed": true
   },
   "outputs": [],
   "source": [
    "def corr2_coeff(A,B):\n",
    "    N = A.shape[0]\n",
    "    # Colwise mean of input arrays & subtract from input arrays themeselves\n",
    "    A_mA = A - A.mean(0)[None,:]\n",
    "    B_mB = B - B.mean(0)[None,:]\n",
    "\n",
    "    # Sum of squares across cols\n",
    "    ssA = (A_mA**2).sum(0) \n",
    "    ssB = (B_mB**2).sum(0) \n",
    "    ss = np.sqrt(ssA)*np.sqrt(ssB)\n",
    "    # Finally get corr coeff\n",
    "    return np.sum(A_mA*B_mB,axis=0)/ss\n",
    "#     return np.dot(A_mA,B_mB.T)/np.sqrt(np.dot(ssA[:,None],ssB[None]))"
   ]
  },
  {
   "cell_type": "markdown",
   "metadata": {},
   "source": [
    "The main fitting / selection loop"
   ]
  },
  {
   "cell_type": "code",
   "execution_count": null,
   "metadata": {
    "collapsed": true
   },
   "outputs": [],
   "source": [
    "##here are the guts of the fitting procedure, functionalized for each p'llization.\n",
    "def main_proc(filters, p):        \n",
    "#     print '===position: %d of %d' %(p, num_filters)\n",
    "    wedge_features = np.abs(np.tensordot(wedge_imgs, filters[p,:,:],axes=2))\n",
    "    bar_features = np.abs(np.tensordot(bar_imgs, filters[p,:,:],axes=2))\n",
    "    downsampled_wedge_timeseries = preproc.nearest_neighbor_downsampling(wedge_features,wedge_nvols)\n",
    "    downsampled_bar_timeseries = preproc.nearest_neighbor_downsampling(bar_features,bar_nvols)\n",
    "\n",
    "    wedge_feature_matrix = preproc.construct_feature_matrix(np.atleast_2d(downsampled_wedge_timeseries).T,\n",
    "                                                            hrf_length=hrf_length)\n",
    "    bar_feature_matrix = preproc.construct_feature_matrix(np.atleast_2d(downsampled_bar_timeseries).T,\n",
    "                                                            hrf_length=hrf_length)\n",
    "    training_matrix = concat_wedge_bar_matrices(wedge_feature_matrix=wedge_feature_matrix,\n",
    "                                                     bar_feature_matrix=bar_feature_matrix,\n",
    "                                                     run_ids = training_runs)\n",
    "#     print '=fitting model...'\n",
    "    lin_mod = linear_model.Ridge(alpha=alpha,normalize=True).fit(training_matrix,training_vols)\n",
    "#     print '=scoring model...'\n",
    "    selection_matrix = concat_wedge_bar_matrices(wedge_feature_matrix=wedge_feature_matrix,\n",
    "                                                     bar_feature_matrix=bar_feature_matrix,\n",
    "                                                     run_ids = selection_runs)\n",
    "\n",
    "    yhat = lin_mod.predict(selection_matrix)\n",
    "    scr = corr2_coeff(selection_vols,yhat)\n",
    "    return {p:(scr,lin_mod)}"
   ]
  },
  {
   "cell_type": "code",
   "execution_count": null,
   "metadata": {
    "collapsed": true
   },
   "outputs": [],
   "source": [
    "##some functions for converting to polar coors on the fly. Should probably put these elsewhere\n",
    "def ecc_func(x,y):\n",
    "    return np.sqrt(x**2+y**2)\n",
    "\n",
    "def ang_func(x,y):\n",
    "    return np.angle(x+1j*y)\n"
   ]
  },
  {
   "cell_type": "code",
   "execution_count": null,
   "metadata": {
    "collapsed": true
   },
   "outputs": [],
   "source": [
    "##convert list of dicts with keys into one flat dictionary\n",
    "def flatten_list_of_dicts(list_of_dicts):\n",
    "    flat_dict = {}\n",
    "    for d in list_of_dicts:\n",
    "        flat_dict.update(d)\n",
    "    return flat_dict"
   ]
  },
  {
   "cell_type": "code",
   "execution_count": null,
   "metadata": {
    "collapsed": true
   },
   "outputs": [],
   "source": [
    "##some containers for the results\n",
    "model_idx = 0\n",
    "num_voxels = training_vols.shape[1]\n",
    "best_scr = -np.ones(num_voxels)\n",
    "best_coefs = np.zeros((num_voxels,hrf_length))\n",
    "best_intercept = np.zeros(num_voxels)\n",
    "best_model_dx = np.zeros(num_voxels)\n",
    "model_specs = []"
   ]
  },
  {
   "cell_type": "code",
   "execution_count": null,
   "metadata": {
    "collapsed": false,
    "scrolled": true
   },
   "outputs": [],
   "source": [
    "##loop over size / freq / position, updating the \"best\" model for each voxel on each iteration.\n",
    "for kernel_size in size_df['pix']:\n",
    "    for freq in freq_df['cyc/image']:\n",
    "        ##print 'constructing filters...'\n",
    "        print '=====size/freq pair %d' %(model_idx)\n",
    "        \n",
    "        filters = make_kernel_grid(freq,kernel_size,pixels_per_stimulus,(pos_x,pos_y))\n",
    "\n",
    "        num_filters = len(pos_x.ravel())\n",
    "        \n",
    "        ##utilize multi-processing. \n",
    "        start = time()\n",
    "        ##model_info is list of dicts, key = model index, value = (scores,lin_mod) for all voxels \n",
    "        model_info = Parallel(n_jobs=1)(delayed(main_proc)(filters,p) for p in range(num_filters))\n",
    "        print 'took %f minutes to pre-process images' %((time()-start)/60.)\n",
    "        ##convert to one dictionary, with keys indicating model\n",
    "        model_info = flatten_list_of_dicts(model_info)\n",
    "        for p in range(len(model_info.keys())):\n",
    "            model_specs.append({'size':kernel_size,\n",
    "                                'freq':freq,\n",
    "                                'pos_x': pos_x[p], 'pos_y': pos_y[p],\n",
    "                                'ang': ang_func(pos_x[p],pos_y[p]),\n",
    "                                'ecc': ecc_func(pos_x[p],pos_y[p])})\n",
    "            mask_dx = np.where(model_info[p][0] > best_scr)[0] ##mask index of voxels who like current model.\n",
    "            best_scr[mask_dx] = model_info[p][0][mask_dx] ##record the selection scores of these voxels\n",
    "            best_coefs[mask_dx,:] = model_info[p][1].coef_[mask_dx,:] ##record the model weights\n",
    "            best_intercept[mask_dx] = model_info[p][1].intercept_[mask_dx] ##...model intercept\n",
    "            best_model_dx[mask_dx] = model_idx ##assign unique index to this model.\n",
    "            model_idx += 1\n",
    "        model_info = []"
   ]
  },
  {
   "cell_type": "markdown",
   "metadata": {},
   "source": [
    "Now we unpack the results into an organized database that (should) make future analyses easier"
   ]
  },
  {
   "cell_type": "code",
   "execution_count": 2,
   "metadata": {
    "collapsed": true
   },
   "outputs": [],
   "source": [
    "#a container for the results. \n",
    "class population_model(object):\n",
    "    '''\n",
    "    population_model(brain_mask,size_of_stim,pix_per_deg,model_df,hrf_length,alpha,model_weights,model_b0)\n",
    "    '''\n",
    "    def __init__(self,brain_mask,size_of_stim,pix_per_deg, model_df,hrf_length,alpha,model_weights,model_b0):\n",
    "        self.vol_dims = brain_mask.shape\n",
    "        self.brain_mask = brain_mask\n",
    "        self.size_of_stim = size_of_stim\n",
    "        self.pix_per_deg = pix_per_deg\n",
    "        self.model_df = model_df\n",
    "        self.hrf_length = hrf_length\n",
    "        self.alpha = alpha\n",
    "        self.val_db = data_db.iloc[validation_runs]\n",
    "        self.sel_db = data_db.iloc[selection_runs]\n",
    "        self.trn_db = data_db.iloc[training_runs]\n",
    "        self.model_weights = model_weights\n",
    "        self.model_b0 = model_b0\n",
    "    \n",
    "    def get_model_intercepts(self,dx):\n",
    "        return self.model_b0[dx]\n",
    "    \n",
    "    def get_model_weights(self,dx):\n",
    "        wts = self.model_weights[dx,:]\n",
    "        return wts\n",
    "    \n",
    "    def make_lin_mod(self,dx):\n",
    "        wts = self.get_model_weights(dx)\n",
    "        b0 = self.get_model_intercepts(dx)\n",
    "        lin_mod = linear_model.Ridge(alpha=self.alpha,normalize=True)\n",
    "        lin_mod.coef_ = wts\n",
    "        lin_mod.intercept_ = b0\n",
    "        return lin_mod\n",
    "        \n",
    "    def how_big_am_i(self):\n",
    "        this_big = self.model_df.values.nbytes + self.model_weights.nbytes + self.model_b0.nbytes \n",
    "        this_big = this_big/1024./1024./1024.\n",
    "        print 'I am %f GB' %(this_big)\n",
    "        return this_big\n",
    "    \n"
   ]
  },
  {
   "cell_type": "code",
   "execution_count": null,
   "metadata": {
    "collapsed": false
   },
   "outputs": [],
   "source": [
    "##construct and populate database with voxel indices and model parameters for selected models\n",
    "# \n",
    "prf_size = map(lambda vx: model_specs[vx]['size'], best_model_dx.astype('int64'))\n",
    "prf_freq = map(lambda vx: model_specs[vx]['freq'], best_model_dx.astype('int64'))\n",
    "prf_pos_x = map(lambda vx: model_specs[vx]['pos_x'], best_model_dx.astype('int64'))\n",
    "prf_pos_y = map(lambda vx: model_specs[vx]['pos_y'], best_model_dx.astype('int64'))\n",
    "prf_ang = map(lambda vx: model_specs[vx]['ang'], best_model_dx.astype('int64'))\n",
    "prf_ecc = map(lambda vx: model_specs[vx]['ecc'], best_model_dx.astype('int64'))\n",
    "idx_in_mask = range(len(best_scr))\n",
    "\n",
    "best_prf = pd.DataFrame({'idx_in_mask':idx_in_mask,\n",
    "                         'size':prf_size,\n",
    "                         'freq':prf_freq,\n",
    "                         'pos_x':prf_pos_x,\n",
    "                         'pos_y':prf_pos_y,\n",
    "                         'ang':prf_ang,\n",
    "                         'ecc':prf_ecc,\n",
    "                         'selection_score':best_scr}\n",
    "                         )\n",
    "                        \n",
    "\n",
    "        \n",
    "pop_mod = population_model(mask_image,\n",
    "                           pixels_per_stimulus,\n",
    "                           pixel_per_deg,\n",
    "                           best_prf,\n",
    "                           hrf_length,\n",
    "                           alpha,\n",
    "                           best_coefs,\n",
    "                           best_intercept)\n",
    "        "
   ]
  },
  {
   "cell_type": "code",
   "execution_count": null,
   "metadata": {
    "collapsed": false
   },
   "outputs": [],
   "source": [
    "pop_mod.model_df.head()"
   ]
  },
  {
   "cell_type": "markdown",
   "metadata": {},
   "source": [
    "A histogram of scores on the selection set. Note there is some overfitting here, because we purposefully selected \n",
    "the best of many possible models for each voxel. Don't expect the histogram on the validation data to look quite this good."
   ]
  },
  {
   "cell_type": "code",
   "execution_count": null,
   "metadata": {
    "collapsed": false
   },
   "outputs": [],
   "source": [
    "plt.figure\n",
    "pop_mod.model_df.hist(column='selection_score',bins=100,log=True);"
   ]
  },
  {
   "cell_type": "markdown",
   "metadata": {},
   "source": [
    "If we look at the temporal kernels for the best voxels (as evaluated on the selection set) we get some encouraging-looking results."
   ]
  },
  {
   "cell_type": "code",
   "execution_count": null,
   "metadata": {
    "collapsed": false,
    "scrolled": true
   },
   "outputs": [],
   "source": [
    "mxi = np.where(pop_mod.model_df['selection_score'] > 0.4)[0]\n",
    "wts = pop_mod.get_model_weights(mxi)\n",
    "plt.figure\n",
    "_ = plt.plot(wts.T)\n"
   ]
  },
  {
   "cell_type": "code",
   "execution_count": null,
   "metadata": {
    "collapsed": false
   },
   "outputs": [],
   "source": [
    "np.sum(pop_mod.model_df['selection_score'] > 0.4)"
   ]
  },
  {
   "cell_type": "markdown",
   "metadata": {},
   "source": [
    "Generate validation prediction scores"
   ]
  },
  {
   "cell_type": "code",
   "execution_count": null,
   "metadata": {
    "collapsed": false
   },
   "outputs": [],
   "source": [
    "##vox will just be a bunch of voxels\n",
    "def val_proc(vox):        \n",
    "#   ##assume we've already grouped by model attributes. use min to uniquify.\n",
    "    \n",
    "    freq = pop_mod.model_df.loc[vox,'freq'].min() \n",
    "    pos_x,pos_y = pop_mod.model_df.loc[vox,'pos_x'].min(), pop_mod.model_df.loc[vox,'pos_y'].min()\n",
    "    prf_size = pop_mod.model_df.loc[vox,'size'].min()\n",
    "    \n",
    "    start = time()\n",
    "    filters = complex_ripple_filter(freq,\n",
    "                                    (pos_x,pos_y),\n",
    "                                    prf_size,\n",
    "                                    pop_mod.size_of_stim)\n",
    "    wedge_features = np.abs(np.tensordot(wedge_imgs, filters,axes=2))\n",
    "    bar_features = np.abs(np.tensordot(bar_imgs, filters,axes=2))\n",
    "    downsampled_wedge_timeseries = preproc.nearest_neighbor_downsampling(wedge_features,wedge_nvols)\n",
    "    downsampled_bar_timeseries = preproc.nearest_neighbor_downsampling(bar_features,bar_nvols)\n",
    "\n",
    "    wedge_feature_matrix = preproc.construct_feature_matrix(np.atleast_2d(downsampled_wedge_timeseries).T,\n",
    "                                                            hrf_length=hrf_length)\n",
    "    bar_feature_matrix = preproc.construct_feature_matrix(np.atleast_2d(downsampled_bar_timeseries).T,\n",
    "                                                            hrf_length=hrf_length)\n",
    "    validation_matrix = concat_wedge_bar_matrices(wedge_feature_matrix=wedge_feature_matrix,\n",
    "                                                     bar_feature_matrix=bar_feature_matrix,\n",
    "                                                     run_ids = validation_runs)\n",
    "    yhat = pop_mod.make_lin_mod(vox).predict(validation_matrix)\n",
    "    scrs = corr2_coeff(validation_vols[:,vox],yhat)\n",
    "    print '====took %0.2f sec. to validate %d voxels' %((time()-start)/60., len(vox))\n",
    "    return vox,scrs,yhat"
   ]
  },
  {
   "cell_type": "code",
   "execution_count": null,
   "metadata": {
    "collapsed": true
   },
   "outputs": [],
   "source": [
    "model_group = pop_mod.model_df.groupby(by=['size','freq','pos_x','pos_y'])"
   ]
  },
  {
   "cell_type": "code",
   "execution_count": null,
   "metadata": {
    "collapsed": false,
    "scrolled": true
   },
   "outputs": [],
   "source": [
    "val_scores = Parallel(n_jobs=2,verbose=True)(delayed(val_proc)(grp.idx_in_mask.values) for name,grp in model_group)"
   ]
  },
  {
   "cell_type": "code",
   "execution_count": null,
   "metadata": {
    "collapsed": false,
    "scrolled": true
   },
   "outputs": [],
   "source": [
    "yhats.shape"
   ]
  },
  {
   "cell_type": "code",
   "execution_count": null,
   "metadata": {
    "collapsed": false,
    "scrolled": true
   },
   "outputs": [],
   "source": [
    "##add val scores, predictions to the model df\n",
    "n_vox = np.sum(pop_mod.brain_mask)\n",
    "val_pred = np.zeros((n_vox,val_scores[0][2].shape[0]))\n",
    "for val_data in val_scores:\n",
    "    vox = val_data[0]\n",
    "    scores = val_data[1]\n",
    "    yhats = val_data[2]\n",
    "    pop_mod.model_df.loc[vox,'val_score'] = scores\n",
    "    val_pred[vox,:]=yhats.T\n",
    "#     pop_mod.model_df.loc[vox,'val_pred'] = yhats\n",
    "pop_mod.val_pred = val_pred"
   ]
  },
  {
   "cell_type": "code",
   "execution_count": null,
   "metadata": {
    "collapsed": false,
    "scrolled": true
   },
   "outputs": [],
   "source": [
    "with open('/media/tnaselar/Data/scratch/pop_mod.pkl','w') as f:\n",
    "    pickle.dump(pop_mod,file = f)"
   ]
  },
  {
   "cell_type": "code",
   "execution_count": 3,
   "metadata": {
    "collapsed": false
   },
   "outputs": [],
   "source": [
    "with open('/media/tnaselar/Data/scratch/pop_mod.pkl','rb') as f:\n",
    "    pop_mod = pickle.load(f)"
   ]
  },
  {
   "cell_type": "markdown",
   "metadata": {},
   "source": [
    "###Model validation: correlation coeffs"
   ]
  },
  {
   "cell_type": "code",
   "execution_count": 7,
   "metadata": {
    "collapsed": false,
    "scrolled": true
   },
   "outputs": [
    {
     "data": {
      "text/plain": [
       "3879"
      ]
     },
     "execution_count": 7,
     "metadata": {},
     "output_type": "execute_result"
    }
   ],
   "source": [
    "np.sum(pop_mod.model_df['val_score'] > 0.4)"
   ]
  },
  {
   "cell_type": "code",
   "execution_count": 5,
   "metadata": {
    "collapsed": false
   },
   "outputs": [
    {
     "data": {
      "text/plain": [
       "array([[<matplotlib.axes._subplots.AxesSubplot object at 0x7f2933ca8590>]], dtype=object)"
      ]
     },
     "execution_count": 5,
     "metadata": {},
     "output_type": "execute_result"
    },
    {
     "data": {
      "image/png": "[encoded data removed]",
      "text/plain": [
       "<matplotlib.figure.Figure at 0x7f2933ca8110>"
      ]
     },
     "metadata": {},
     "output_type": "display_data"
    }
   ],
   "source": [
    "plt.figure\n",
    "pop_mod.model_df.hist(column='val_score',bins=100,log=True)"
   ]
  },
  {
   "cell_type": "markdown",
   "metadata": {},
   "source": [
    "###Model validation: brain visualization"
   ]
  },
  {
   "cell_type": "markdown",
   "metadata": {},
   "source": [
    "We expect the map of scores (on the selection set) to look reasonable. It does. Check out the saved volumes in fslview."
   ]
  },
  {
   "cell_type": "code",
   "execution_count": null,
   "metadata": {
    "collapsed": false
   },
   "outputs": [],
   "source": [
    "mean_vol = preproc.load_runs(data_db,validation_runs,detrend=False,z_score=False)\n",
    "mean_vol = apply_mask(mean_vol,mask_image.ravel()).mean(axis=0)\n",
    "\n",
    "brain_view = np.zeros(mask_image.shape).ravel()\n",
    "brain_view[mask_image.ravel()] = mean_vol\n",
    "brain_view = brain_view.reshape(mask_image.shape)"
   ]
  },
  {
   "cell_type": "code",
   "execution_count": null,
   "metadata": {
    "collapsed": true
   },
   "outputs": [],
   "source": [
    "score_view = np.zeros(pop_mod.brain_mask.shape).ravel()\n",
    "mask_dx = np.where(pop_mod.brain_mask.ravel())[0]"
   ]
  },
  {
   "cell_type": "code",
   "execution_count": null,
   "metadata": {
    "collapsed": false
   },
   "outputs": [],
   "source": [
    "mask_dx[0].shape"
   ]
  },
  {
   "cell_type": "code",
   "execution_count": null,
   "metadata": {
    "collapsed": false
   },
   "outputs": [],
   "source": [
    "vx = pop_mod.model_df['idx_in_mask'].values \n",
    "vs = pop_mod.model_df['val_score'].values \n",
    "score_view[mask_dx[vx]]=vs\n",
    "score_view = score_view.reshape(mask_image.shape)"
   ]
  },
  {
   "cell_type": "code",
   "execution_count": null,
   "metadata": {
    "collapsed": false
   },
   "outputs": [],
   "source": [
    "nib.save(nib.Nifti1Image(brain_view,affine=np.eye(4)),'/media/tnaselar/Data/scratch/brain_view.nii')\n",
    "\n",
    "nib.save(nib.Nifti1Image(score_view,affine=np.eye(4)),'/media/tnaselar/Data/scratch/score_view.nii')"
   ]
  },
  {
   "cell_type": "markdown",
   "metadata": {},
   "source": [
    "###Model validation: temporal kernels"
   ]
  },
  {
   "cell_type": "code",
   "execution_count": 122,
   "metadata": {
    "collapsed": false
   },
   "outputs": [
    {
     "data": {
      "image/png": "[encoded data removed]",
      "text/plain": [
       "<matplotlib.figure.Figure at 0x7f292e9aca50>"
      ]
     },
     "metadata": {},
     "output_type": "display_data"
    }
   ],
   "source": [
    "mxi = np.where(pop_mod.model_df['val_score'] > 0.5)[0]\n",
    "wts = pop_mod.get_model_weights(mxi)\n",
    "plt.figure\n",
    "_ = plt.plot(wts.T)"
   ]
  },
  {
   "cell_type": "markdown",
   "metadata": {},
   "source": [
    "###Model validation: ecc vs. size and freq"
   ]
  },
  {
   "cell_type": "code",
   "execution_count": 41,
   "metadata": {
    "collapsed": false
   },
   "outputs": [],
   "source": [
    "th = 0.18\n",
    "ecc_group = pop_mod.model_df.groupby(['ecc'],as_index=False)"
   ]
  },
  {
   "cell_type": "code",
   "execution_count": 42,
   "metadata": {
    "collapsed": false,
    "scrolled": true
   },
   "outputs": [
    {
     "name": "stdout",
     "output_type": "stream",
     "text": [
      "average size (deg): 7.114820\n"
     ]
    },
    {
     "data": {
      "image/png": "[encoded data removed]",
      "text/plain": [
       "<matplotlib.figure.Figure at 0x7f2931e77290>"
      ]
     },
     "metadata": {},
     "output_type": "display_data"
    }
   ],
   "source": [
    "mean_size = ecc_group.agg(lambda x: x.loc[x['val_score']>th,'size'].mean()/pop_mod.pix_per_deg)[['ecc','size']]\n",
    "mean_size.hist(column='size',bins=10)\n",
    "plt.xlabel('prf size (deg)')\n",
    "plt.ylabel('number of eccentricities')\n",
    "print 'average size (deg): %f' %(mean_size['size'].mean())"
   ]
  },
  {
   "cell_type": "code",
   "execution_count": 43,
   "metadata": {
    "collapsed": false
   },
   "outputs": [
    {
     "data": {
      "text/plain": [
       "(0, 16)"
      ]
     },
     "execution_count": 43,
     "metadata": {},
     "output_type": "execute_result"
    },
    {
     "data": {
      "image/png": "[encoded data removed]",
      "text/plain": [
       "<matplotlib.figure.Figure at 0x7f2932002350>"
      ]
     },
     "metadata": {},
     "output_type": "display_data"
    }
   ],
   "source": [
    "plt.scatter(mean_size['ecc']/pop_mod.pix_per_deg,mean_size['size'])\n",
    "plt.xlabel('eccentricity (deg)')\n",
    "plt.ylabel('prf size (deg)')\n",
    "plt.ylim([0,10])\n",
    "plt.xlim([0,16])"
   ]
  },
  {
   "cell_type": "code",
   "execution_count": 44,
   "metadata": {
    "collapsed": false,
    "scrolled": true
   },
   "outputs": [
    {
     "name": "stdout",
     "output_type": "stream",
     "text": [
      "average freq (deg): 2.817953\n"
     ]
    },
    {
     "data": {
      "image/png": "[encoded data removed]",
      "text/plain": [
       "<matplotlib.figure.Figure at 0x7f29300e5e90>"
      ]
     },
     "metadata": {},
     "output_type": "display_data"
    }
   ],
   "source": [
    "mean_freq = ecc_group.agg(lambda x: x.loc[x['val_score']>th,'freq'].mean()*(1./pop_mod.size_of_stim)*pop_mod.pix_per_deg)[['ecc','freq']]\n",
    "mean_freq.hist(column='freq',bins=10)\n",
    "plt.xlabel('prf freq (deg)')\n",
    "plt.ylabel('number of eccentricities')\n",
    "print 'average freq (deg): %f' %(mean_freq['freq'].mean())"
   ]
  },
  {
   "cell_type": "code",
   "execution_count": 46,
   "metadata": {
    "collapsed": false
   },
   "outputs": [
    {
     "data": {
      "text/plain": [
       "(0, 16)"
      ]
     },
     "execution_count": 46,
     "metadata": {},
     "output_type": "execute_result"
    },
    {
     "data": {
      "image/png": "[encoded data removed]",
      "text/plain": [
       "<matplotlib.figure.Figure at 0x7f2931d09050>"
      ]
     },
     "metadata": {},
     "output_type": "display_data"
    }
   ],
   "source": [
    "plt.scatter(mean_freq['ecc']/pop_mod.pix_per_deg,mean_freq['freq'])\n",
    "plt.xlabel('eccentricity (deg)')\n",
    "plt.ylabel('prf freq (deg)')\n",
    "plt.xlim([0,16])\n",
    "# plt.ylim([0,6])\n",
    "# plt.gca().set_aspect('equal', adjustable='box')"
   ]
  },
  {
   "cell_type": "markdown",
   "metadata": {},
   "source": [
    "###Model validation: projective imaging\n",
    "\n",
    "Construct movies of predicted, real, and residual activity"
   ]
  },
  {
   "cell_type": "markdown",
   "metadata": {},
   "source": [
    "Group by position, make movie containers"
   ]
  },
  {
   "cell_type": "code",
   "execution_count": 110,
   "metadata": {
    "collapsed": true
   },
   "outputs": [],
   "source": [
    "th = 0.2\n",
    "n_times = pop_mod.val_pred.shape[1]\n",
    "pos_group = pop_mod.model_df.loc[pop_mod.model_df['val_score']>th,:].groupby(by=['pos_x','pos_y'],as_index = False)\n",
    "grid_shape = (len(pos_group.groups.keys()),n_times)\n",
    "p_image_pred = np.zeros(grid_shape)\n",
    "p_image_real = np.zeros(grid_shape)\n",
    "p_image_res = np.zeros(grid_shape)\n",
    "x_min = pop_mod.model_df['pos_x'].min()\n",
    "x_max = pop_mod.model_df['pos_x'].max()\n",
    "y_min = pop_mod.model_df['pos_y'].min()\n",
    "y_max = pop_mod.model_df['pos_y'].max()\n",
    "space_unit = .5 #pixel_per_deg ##one deg.\n",
    "time_unit = 1 ##one TR\n",
    "\n",
    "##create the space-time grid for interpolating\n",
    "X,Y = np.meshgrid(np.arange(x_min,x_max,space_unit),np.arange(y_min,y_max,space_unit))\n",
    "\n",
    "\n",
    "##for visualizing\n",
    "pred_movie = np.zeros((n_times,len(X),len(Y)))\n",
    "real_movie = np.zeros((n_times,len(X),len(Y)))\n",
    "res_movie = np.zeros((n_times,len(X),len(Y)))"
   ]
  },
  {
   "cell_type": "code",
   "execution_count": 111,
   "metadata": {
    "collapsed": false,
    "scrolled": true
   },
   "outputs": [],
   "source": [
    "cnt = 0\n",
    "POS_X = []\n",
    "POS_Y = []\n",
    "for name,grp in pos_group:\n",
    "    idx = grp.idx_in_mask.values\n",
    "    POS_X.append(grp.pos_x.min())\n",
    "    POS_Y.append(grp.pos_y.min())\n",
    "    p_image_pred[cnt,:] = pop_mod.val_pred[idx,:].mean(axis=0)\n",
    "    p_image_real[cnt,:] = validation_vols.T[idx,:].mean(axis=0)\n",
    "    cnt += 1\n",
    "\n",
    "p_image_res = p_image_real-p_image_pred\n",
    "for movie_frame in range(n_times):\n",
    "    pred_movie[movie_frame,:,:] = griddata((POS_X,POS_Y),p_image_pred[:,movie_frame],(X,Y),method='nearest')\n",
    "    real_movie[movie_frame,:,:] = griddata((POS_X,POS_Y),p_image_real[:,movie_frame],(X,Y),method='nearest')\n",
    "    res_movie[movie_frame,:,:] = griddata((POS_X,POS_Y),p_image_res[:,movie_frame],(X,Y),method='nearest')"
   ]
  },
  {
   "cell_type": "markdown",
   "metadata": {},
   "source": [
    "Check one frame"
   ]
  },
  {
   "cell_type": "code",
   "execution_count": 112,
   "metadata": {
    "collapsed": false
   },
   "outputs": [
    {
     "data": {
      "image/png": "[encoded data removed]",
      "text/plain": [
       "<matplotlib.figure.Figure at 0x7f28fea5f350>"
      ]
     },
     "metadata": {},
     "output_type": "display_data"
    }
   ],
   "source": [
    "fig=plt.figure()\n",
    "ax = fig.add_subplot(111)\n",
    "plt.imshow(real_movie[200,:,:],interpolation='nearest',cmap='gray')\n",
    "ax.set_aspect('equal')"
   ]
  },
  {
   "cell_type": "markdown",
   "metadata": {},
   "source": [
    "Convert to avi and save"
   ]
  },
  {
   "cell_type": "code",
   "execution_count": 113,
   "metadata": {
    "collapsed": false
   },
   "outputs": [],
   "source": [
    "dpi = 100\n",
    "\n",
    "##from somewhere on stackoverflow\n",
    "def ani_frame(movie,n_times,out_file):\n",
    "    fig = plt.figure()\n",
    "    ax = fig.add_subplot(111)\n",
    "    ax.set_aspect('equal')\n",
    "    ax.get_xaxis().set_visible(False)\n",
    "    ax.get_yaxis().set_visible(False)\n",
    "\n",
    "    im = ax.imshow(rand(32,32),cmap='gray',interpolation='nearest')\n",
    "    im.set_clim([-.1,.1])\n",
    "    fig.set_size_inches([5,5])\n",
    "\n",
    "\n",
    "    tight_layout()\n",
    "\n",
    "\n",
    "    def update_img(n):\n",
    "        tmp = movie[n,:,:]\n",
    "        im.set_data(tmp)\n",
    "        return im\n",
    "\n",
    "    #legend(loc=0)\n",
    "    ani = animation.FuncAnimation(fig,update_img,frames=n_times)\n",
    "    writer = animation.writers['avconv'](fps=10)\n",
    "\n",
    "    ani.save(out_file,writer=writer,dpi=dpi)\n",
    "    return ani"
   ]
  },
  {
   "cell_type": "code",
   "execution_count": 115,
   "metadata": {
    "collapsed": false
   },
   "outputs": [
    {
     "data": {
      "text/plain": [
       "<matplotlib.animation.FuncAnimation at 0x7f28fe8f5b50>"
      ]
     },
     "execution_count": 115,
     "metadata": {},
     "output_type": "execute_result"
    },
    {
     "data": {
      "image/png": "[encoded data removed]",
      "text/plain": [
       "<matplotlib.figure.Figure at 0x7f28fed04350>"
      ]
     },
     "metadata": {},
     "output_type": "display_data"
    }
   ],
   "source": [
    "ani_frame(pred_movie,n_times,'/media/tnaselar/Data/scratch/pred_movie.avi')"
   ]
  },
  {
   "cell_type": "code",
   "execution_count": 116,
   "metadata": {
    "collapsed": false
   },
   "outputs": [
    {
     "data": {
      "text/plain": [
       "<matplotlib.animation.FuncAnimation at 0x7f28fe97b790>"
      ]
     },
     "execution_count": 116,
     "metadata": {},
     "output_type": "execute_result"
    },
    {
     "data": {
      "image/png": "[encoded data removed]",
      "text/plain": [
       "<matplotlib.figure.Figure at 0x7f28fe98bb50>"
      ]
     },
     "metadata": {},
     "output_type": "display_data"
    }
   ],
   "source": [
    "ani_frame(real_movie,n_times,'/media/tnaselar/Data/scratch/real_movie.avi')"
   ]
  },
  {
   "cell_type": "code",
   "execution_count": 117,
   "metadata": {
    "collapsed": false
   },
   "outputs": [
    {
     "data": {
      "text/plain": [
       "<matplotlib.animation.FuncAnimation at 0x7f28fe8394d0>"
      ]
     },
     "execution_count": 117,
     "metadata": {},
     "output_type": "execute_result"
    },
    {
     "data": {
      "image/png": "[encoded data removed]",
      "text/plain": [
       "<matplotlib.figure.Figure at 0x7f28fe8b6410>"
      ]
     },
     "metadata": {},
     "output_type": "display_data"
    }
   ],
   "source": [
    "ani_frame(res_movie,n_times,'/media/tnaselar/Data/scratch/res_movie.avi')"
   ]
  },
  {
   "cell_type": "code",
   "execution_count": null,
   "metadata": {
    "collapsed": true
   },
   "outputs": [],
   "source": []
  }
 ],
 "metadata": {
  "kernelspec": {
   "display_name": "Python 2",
   "language": "python",
   "name": "python2"
  },
  "language_info": {
   "codemirror_mode": {
    "name": "ipython",
    "version": 2
   },
   "file_extension": ".py",
   "mimetype": "text/x-python",
   "name": "python",
   "nbconvert_exporter": "python",
   "pygments_lexer": "ipython2",
   "version": "2.7.10"
  }
 },
 "nbformat": 4,
 "nbformat_minor": 0
}
