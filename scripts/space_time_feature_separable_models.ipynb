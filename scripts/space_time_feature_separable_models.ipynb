{
 "cells": [
  {
   "cell_type": "markdown",
   "metadata": {},
   "source": [
    "###Feature map models with time-space-feature-seperable weighting functions\n",
    "Here we're going to code up models with the following form:\n",
    "\n",
    "$$r_t = \\sum_{\\tau}\\sum_{\\textbf{x},\\Phi} \\phi(t-\\tau, \\textbf{x}, \\Phi | \\textbf{S}_t)w(\\tau,\\textbf{x}, \\Phi|W)+\\epsilon$$\n",
    "\n",
    "Where $r_t$ is the response of some neural unit at time $t$, $\\phi$ is a nonlinear feature map that is a function of time $t$, space $\\textbf{x}$, other features $\\Phi$, and a set stimuli $\\textbf{S}_t$ presented in the some temporal interval ending at $t$. The weighting function $w$ depends upon a temporal offset (i.e., a lag) $\\tau$ and a set of shape parameters $W$.\n",
    "\n",
    "Our goal will be to infer the optimal $W$ for each neural units. Note that the feature maps vary across stimuli, but not across voxels/neurons. Meanwhile, the weighting function varies across voxels/neuron, but does not vary across stimuli.\n",
    "\n",
    "We're going to be especially interested in weighting functions that are the product of separate functions over time-shift ($\\tau$), space, and features. That is, we'll focus on functions like:\n",
    "\n",
    "$$w(\\tau,\\textbf{x}, \\Phi|W_{\\tau},W_{\\textbf{x}},W_{\\Phi}) = w(\\tau|W_{\\tau})*w(\\textbf{x}|W_{\\textbf{x}})*w(\\Phi|W_{\\Phi})$$ \n",
    "\n",
    "These seperable weighting functions are awesome because we only have a few parameters to tune, and they are generally interpretable."
   ]
  },
  {
   "cell_type": "code",
   "execution_count": 59,
   "metadata": {
    "collapsed": false
   },
   "outputs": [
    {
     "name": "stdout",
     "output_type": "stream",
     "text": [
      "Populating the interactive namespace from numpy and matplotlib\n"
     ]
    }
   ],
   "source": [
    "%pylab inline\n",
    "import numpy as np\n",
    "import pandas as pd\n",
    "import matplotlib.pyplot as plt\n",
    "from skimage.filter import gabor_kernel"
   ]
  },
  {
   "cell_type": "markdown",
   "metadata": {},
   "source": [
    "####Construct a feature map function\n",
    "We'll go with Gabors"
   ]
  },
  {
   "cell_type": "code",
   "execution_count": 9,
   "metadata": {
    "collapsed": false
   },
   "outputs": [
    {
     "data": {
      "text/html": [
       "<div style=\"max-height:1000px;max-width:1500px;overflow:auto;\">\n",
       "<table border=\"1\" class=\"dataframe\">\n",
       "  <thead>\n",
       "    <tr style=\"text-align: right;\">\n",
       "      <th></th>\n",
       "      <th>cycles per deg.</th>\n",
       "      <th>cycles per pixel</th>\n",
       "      <th>cycles per stimulus</th>\n",
       "      <th>fwhm (pix)</th>\n",
       "      <th>n_pix</th>\n",
       "      <th>pixels per cycle</th>\n",
       "      <th>prf_size (deg)</th>\n",
       "    </tr>\n",
       "  </thead>\n",
       "  <tbody>\n",
       "    <tr>\n",
       "      <th>0</th>\n",
       "      <td> 0.010008</td>\n",
       "      <td> 0.000288</td>\n",
       "      <td>  0.221184</td>\n",
       "      <td> 768.000000</td>\n",
       "      <td> 768.000000</td>\n",
       "      <td> 3472.222222</td>\n",
       "      <td> 11.050042</td>\n",
       "    </tr>\n",
       "    <tr>\n",
       "      <th>1</th>\n",
       "      <td> 0.331119</td>\n",
       "      <td> 0.009528</td>\n",
       "      <td>  7.317760</td>\n",
       "      <td> 104.950149</td>\n",
       "      <td> 157.425223</td>\n",
       "      <td>  104.950149</td>\n",
       "      <td>  1.510031</td>\n",
       "    </tr>\n",
       "    <tr>\n",
       "      <th>2</th>\n",
       "      <td> 0.652230</td>\n",
       "      <td> 0.018769</td>\n",
       "      <td> 14.414336</td>\n",
       "      <td>  53.280290</td>\n",
       "      <td>  79.920435</td>\n",
       "      <td>   53.280290</td>\n",
       "      <td>  0.766601</td>\n",
       "    </tr>\n",
       "    <tr>\n",
       "      <th>3</th>\n",
       "      <td> 0.973341</td>\n",
       "      <td> 0.028009</td>\n",
       "      <td> 21.510912</td>\n",
       "      <td>  35.702810</td>\n",
       "      <td>  53.554215</td>\n",
       "      <td>   35.702810</td>\n",
       "      <td>  0.513695</td>\n",
       "    </tr>\n",
       "    <tr>\n",
       "      <th>4</th>\n",
       "      <td> 1.294452</td>\n",
       "      <td> 0.037249</td>\n",
       "      <td> 28.607488</td>\n",
       "      <td>  26.846118</td>\n",
       "      <td>  40.269177</td>\n",
       "      <td>   26.846118</td>\n",
       "      <td>  0.386264</td>\n",
       "    </tr>\n",
       "    <tr>\n",
       "      <th>5</th>\n",
       "      <td> 1.615562</td>\n",
       "      <td> 0.046490</td>\n",
       "      <td> 35.704064</td>\n",
       "      <td>  21.510156</td>\n",
       "      <td>  32.265235</td>\n",
       "      <td>   21.510156</td>\n",
       "      <td>  0.309490</td>\n",
       "    </tr>\n",
       "    <tr>\n",
       "      <th>6</th>\n",
       "      <td> 1.936673</td>\n",
       "      <td> 0.055730</td>\n",
       "      <td> 42.800640</td>\n",
       "      <td>  17.943657</td>\n",
       "      <td>  26.915485</td>\n",
       "      <td>   17.943657</td>\n",
       "      <td>  0.258175</td>\n",
       "    </tr>\n",
       "    <tr>\n",
       "      <th>7</th>\n",
       "      <td> 2.257784</td>\n",
       "      <td> 0.064970</td>\n",
       "      <td> 49.897216</td>\n",
       "      <td>  15.391640</td>\n",
       "      <td>  23.087460</td>\n",
       "      <td>   15.391640</td>\n",
       "      <td>  0.221456</td>\n",
       "    </tr>\n",
       "    <tr>\n",
       "      <th>8</th>\n",
       "      <td> 2.578895</td>\n",
       "      <td> 0.074211</td>\n",
       "      <td> 56.993792</td>\n",
       "      <td>  13.475152</td>\n",
       "      <td>  20.212728</td>\n",
       "      <td>   13.475152</td>\n",
       "      <td>  0.193881</td>\n",
       "    </tr>\n",
       "    <tr>\n",
       "      <th>9</th>\n",
       "      <td> 2.900006</td>\n",
       "      <td> 0.083451</td>\n",
       "      <td> 64.090368</td>\n",
       "      <td>  11.983080</td>\n",
       "      <td>  17.974620</td>\n",
       "      <td>   11.983080</td>\n",
       "      <td>  0.172413</td>\n",
       "    </tr>\n",
       "  </tbody>\n",
       "</table>\n",
       "</div>"
      ],
      "text/plain": [
       "   cycles per deg.  cycles per pixel  cycles per stimulus  fwhm (pix)  \\\n",
       "0         0.010008          0.000288             0.221184  768.000000   \n",
       "1         0.331119          0.009528             7.317760  104.950149   \n",
       "2         0.652230          0.018769            14.414336   53.280290   \n",
       "3         0.973341          0.028009            21.510912   35.702810   \n",
       "4         1.294452          0.037249            28.607488   26.846118   \n",
       "5         1.615562          0.046490            35.704064   21.510156   \n",
       "6         1.936673          0.055730            42.800640   17.943657   \n",
       "7         2.257784          0.064970            49.897216   15.391640   \n",
       "8         2.578895          0.074211            56.993792   13.475152   \n",
       "9         2.900006          0.083451            64.090368   11.983080   \n",
       "\n",
       "        n_pix  pixels per cycle  prf_size (deg)  \n",
       "0  768.000000       3472.222222       11.050042  \n",
       "1  157.425223        104.950149        1.510031  \n",
       "2   79.920435         53.280290        0.766601  \n",
       "3   53.554215         35.702810        0.513695  \n",
       "4   40.269177         26.846118        0.386264  \n",
       "5   32.265235         21.510156        0.309490  \n",
       "6   26.915485         17.943657        0.258175  \n",
       "7   23.087460         15.391640        0.221456  \n",
       "8   20.212728         13.475152        0.193881  \n",
       "9   17.974620         11.983080        0.172413  "
      ]
     },
     "execution_count": 9,
     "metadata": {},
     "output_type": "execute_result"
    }
   ],
   "source": [
    "pixel_per_deg = 34.751\n",
    "pixels_per_stimulus = 768 ##I just know this\n",
    "cycles_per_pixel = np.linspace(0.000288,0.083451,num=10)  ##cyc/pix\n",
    "cycles_per_fwhm = 1.0\n",
    "fwhms_per_kernel = 1.5\n",
    "\n",
    "metrics = {'cycles per pixel':cycles_per_pixel,\n",
    "           'pixels per cycle': 1./cycles_per_pixel,\n",
    "           'cycles per stimulus': cycles_per_pixel*pixels_per_stimulus,\n",
    "           'cycles per deg.': cycles_per_pixel*pixel_per_deg,\n",
    "           'fwhm (pix)': np.clip(cycles_per_fwhm/cycles_per_pixel,0,pixels_per_stimulus),\n",
    "           'prf_size (deg)': np.clip(cycles_per_fwhm/cycles_per_pixel,0,pixels_per_stimulus)/pixel_per_deg/2.,\n",
    "           'n_pix': np.clip(fwhms_per_kernel*cycles_per_fwhm/cycles_per_pixel,0,pixels_per_stimulus)}\n",
    "\n",
    "fm = pd.DataFrame(metrics)\n",
    "fm"
   ]
  },
  {
   "cell_type": "code",
   "execution_count": 81,
   "metadata": {
    "collapsed": false
   },
   "outputs": [
    {
     "data": {
      "text/plain": [
       "(7, 7)"
      ]
     },
     "execution_count": 81,
     "metadata": {},
     "output_type": "execute_result"
    }
   ],
   "source": [
    "foo = gabor_kernel(np.pi/4.,sigma_x=1,sigma_y=1)\n",
    "foo.shape"
   ]
  },
  {
   "cell_type": "code",
   "execution_count": 82,
   "metadata": {
    "collapsed": false
   },
   "outputs": [
    {
     "data": {
      "image/png": "[encoded data removed]",
      "text/plain": [
       "<matplotlib.figure.Figure at 0x7fde2ad25390>"
      ]
     },
     "metadata": {},
     "output_type": "display_data"
    }
   ],
   "source": [
    "plt.imshow(np.real(foo),cmap='gray')\n",
    "plt.show()"
   ]
  },
  {
   "cell_type": "code",
   "execution_count": null,
   "metadata": {
    "collapsed": true
   },
   "outputs": [],
   "source": [
    "ripple_kernels = []\n",
    "for _,row in fm.iterrows():\n",
    "    fwhm = int(row['fwhm (pix)'])\n",
    "    n_pix = int(row['n_pix'])\n",
    "    freq = row['cycles per pixel']*n_pix\n",
    "    ripple_kernels.append(complex_ripple_filter(freq,(0,0),fwhm,n_pix))"
   ]
  },
  {
   "cell_type": "markdown",
   "metadata": {},
   "source": [
    "####Construct a weighting function"
   ]
  },
  {
   "cell_type": "markdown",
   "metadata": {},
   "source": [
    "####Construct prediction function (use tensordot)"
   ]
  },
  {
   "cell_type": "markdown",
   "metadata": {},
   "source": [
    "####Construct a learner"
   ]
  },
  {
   "cell_type": "markdown",
   "metadata": {},
   "source": [
    "####Obtain some images"
   ]
  },
  {
   "cell_type": "markdown",
   "metadata": {
    "collapsed": true
   },
   "source": [
    "####Generate feature maps (use einsum)"
   ]
  },
  {
   "cell_type": "markdown",
   "metadata": {},
   "source": [
    "####Construct fake neural units with fake parameters"
   ]
  },
  {
   "cell_type": "markdown",
   "metadata": {},
   "source": [
    "####Use learner to recover fake parameters."
   ]
  },
  {
   "cell_type": "code",
   "execution_count": null,
   "metadata": {
    "collapsed": true
   },
   "outputs": [],
   "source": []
  }
 ],
 "metadata": {
  "kernelspec": {
   "display_name": "Python 2",
   "language": "python",
   "name": "python2"
  },
  "language_info": {
   "codemirror_mode": {
    "name": "ipython",
    "version": 2
   },
   "file_extension": ".py",
   "mimetype": "text/x-python",
   "name": "python",
   "nbconvert_exporter": "python",
   "pygments_lexer": "ipython2",
   "version": "2.7.10"
  }
 },
 "nbformat": 4,
 "nbformat_minor": 0
}
