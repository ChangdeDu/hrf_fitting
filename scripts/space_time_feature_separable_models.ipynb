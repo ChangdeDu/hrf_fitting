{
 "cells": [
  {
   "cell_type": "markdown",
   "metadata": {},
   "source": [
    "### Feature map models with time-space-feature-seperable weighting functions\n",
    "Here we're going to code up models with the following form:\n",
    "\n",
    "$$r_t = \\sum_{i}\\sum_{\\tau}\\sum_{x,y} \\phi_{i}(s(t-\\tau,x,y))w(\\tau,x,y; \\theta))\\nu_{i}+\\epsilon$$\n",
    "\n",
    "Where $r_t$ is the response of some neural unit at time $t$, $(x,y)$ are spatial coordinates, and $\\phi_i$ is a nonlinear feature map that is a function of a movie $s(t-\\tau,x,y)$. The adjustable parameters are $\\theta$, which specifies the space-time kernel $w$, and a set of independent features weights $\\nu_{i}$.\n",
    "\n",
    "In this model, we assume that the neuron views each feature map through the same spatial and temporal window $w$, but that it weights each feature map $\\phi_i$ according to it's importance $\\nu_i$. This is the fundamental assumption and it seems to be pretty valid, given what I know about vision at least.\n",
    "\n",
    "Our goal will be to infer the space-time kernel and feature weights that best predict measured activity $r$. We can perform this optimization for many voxels/neurons. The feature maps will be the same for each voxel/neuron, but the space-time kernel and feature weights will change according to the characteristics of each.\n",
    "\n",
    "In this version of the model feature and space-time selectivity are separable. Also, the space-time kernel is written as a parameterized function, while the feature weights are completely flexible--i.e., there is one independent feature weight per feature map. We can consider other variants, for example, where space and time are also separable, and where the feature weights are also a parameterized function of the features:\n",
    "\n",
    "$$r_t = \\sum_{i}\\sum_{\\tau}\\sum_{x,y} \\phi_{i}(s(t-\\tau,x,y))g(x,y; \\theta_{space}))f(\\tau; \\theta_{time}) \\nu(i; \\theta_{feature})+\\epsilon$$ \n",
    "\n",
    "where $g$, $f$, and $\\nu$ are functions of space, time, and feature, respectively.\n",
    "\n",
    "An interesting variant would add an activation nonlinearity before application of the feature weights:\n",
    "\n",
    "$$r_t = \\sum_{i}\\sum_{\\tau}\\sum_{x,y} act(\\phi_{i}(s(t-\\tau,x,y))g(x,y; \\theta_{space}))f(\\tau; \\theta_{time}); exponent) \\nu(i; \\theta_{feature})+\\epsilon$$ \n",
    "\n",
    "The more we separate, the more interpretable the model becomes, and the fewer parameters we have to fit. The crucial separation is space/feature, so that the number of parameters = *number of pixels* + *number of features*, instead of the product of these two terms. The more we separate, of course, the more likely we are to miss potentially important interactions between space, time, and feature.\n",
    "\n",
    "Currently the code is being designed to accomodate two kinds of optimiziation: a brute force grid search (the G dimension below) and some kind of regression or gradient-based procedure. The idea is that there are only a few RF kernel parameters so we can probably optimize these via a stupid brute-force search. Meanwhile, there are likely to be many feature map weights, so we optimize these using regression or gradient methods. The potentially nice thing about brute-forcing the RF params is that we won't have to do an iterative optimization procedure (in principle). Instead we regress over all possible RFkernels, and take the best one. It's an empirical question what params are best brute-forced, and which are best folded into the gradient descent procedure. The goal, however, is to not resort to an iterative, EM-like scheme where we have to assume values of one set of parameters in order to optimize the other set, and so forth."
   ]
  },
  {
   "cell_type": "code",
   "execution_count": 1,
   "metadata": {
    "collapsed": false
   },
   "outputs": [
    {
     "name": "stdout",
     "output_type": "stream",
     "text": [
      "Populating the interactive namespace from numpy and matplotlib\n"
     ]
    },
    {
     "name": "stderr",
     "output_type": "stream",
     "text": [
      "Using gpu device 0: GeForce GTX 760\n"
     ]
    }
   ],
   "source": [
    "%pylab inline\n",
    "%load_ext autoreload\n",
    "%autoreload 2\n",
    "import numpy as np\n",
    "import pandas as pd\n",
    "import matplotlib.pyplot as plt\n",
    "from theano import tensor as tnsr\n",
    "from theano import function, scan\n",
    "from time import time\n",
    "from scipy.signal import convolve2d as conv2d\n",
    "from hrf_fitting.src.features import make_gaussian, construct_placement_grid\n",
    "\n",
    "\n",
    "from hrf_fitting.src.features import make_complex_gabor as gaborme"
   ]
  },
  {
   "cell_type": "markdown",
   "metadata": {},
   "source": [
    "### Dimensions of the problem"
   ]
  },
  {
   "cell_type": "code",
   "execution_count": 2,
   "metadata": {
    "collapsed": true
   },
   "outputs": [],
   "source": [
    "D = 9  ##number of feature maps\n",
    "T = 1000  ##number of data samples\n",
    "Gx,Gy,Gw = 8,8,D   ##coarse grid of r.f. params (centers/widths)\n",
    "V = 10   ##voxels (chunksize)\n",
    "stim_size = 32 ##number of pixels in stimuli (on a side)\n",
    "n_image_channels = 1 ##could be 3 for color images.\n",
    "stim_tnsr_shape = (T,n_image_channels,stim_size,stim_size)\n",
    "filter_stack_shape = (D,n_image_channels,stim_size,stim_size)\n",
    "\n"
   ]
  },
  {
   "cell_type": "markdown",
   "metadata": {},
   "source": [
    "### Fake random stimuli"
   ]
  },
  {
   "cell_type": "code",
   "execution_count": 3,
   "metadata": {
    "collapsed": true
   },
   "outputs": [],
   "source": [
    "stimuli = np.random.rand(T,n_image_channels, stim_size,stim_size).astype('float32')"
   ]
  },
  {
   "cell_type": "markdown",
   "metadata": {},
   "source": [
    "### Gabor features\n"
   ]
  },
  {
   "cell_type": "code",
   "execution_count": 4,
   "metadata": {
    "collapsed": false
   },
   "outputs": [
    {
     "data": {
      "text/html": [
       "<div>\n",
       "<table border=\"1\" class=\"dataframe\">\n",
       "  <thead>\n",
       "    <tr style=\"text-align: right;\">\n",
       "      <th></th>\n",
       "      <th>cycles per deg.</th>\n",
       "      <th>cycles per pixel</th>\n",
       "      <th>cycles per stimulus</th>\n",
       "      <th>fwhm (pix)</th>\n",
       "      <th>n_pix</th>\n",
       "      <th>pixels per cycle</th>\n",
       "      <th>prf_size (deg)</th>\n",
       "    </tr>\n",
       "  </thead>\n",
       "  <tbody>\n",
       "    <tr>\n",
       "      <th>0</th>\n",
       "      <td>0.000417</td>\n",
       "      <td>0.000288</td>\n",
       "      <td>0.009216</td>\n",
       "      <td>32.000000</td>\n",
       "      <td>32.000000</td>\n",
       "      <td>3472.222222</td>\n",
       "      <td>11.050042</td>\n",
       "    </tr>\n",
       "    <tr>\n",
       "      <th>1</th>\n",
       "      <td>0.015469</td>\n",
       "      <td>0.010683</td>\n",
       "      <td>0.341868</td>\n",
       "      <td>32.000000</td>\n",
       "      <td>32.000000</td>\n",
       "      <td>93.603379</td>\n",
       "      <td>11.050042</td>\n",
       "    </tr>\n",
       "    <tr>\n",
       "      <th>2</th>\n",
       "      <td>0.030521</td>\n",
       "      <td>0.021079</td>\n",
       "      <td>0.674520</td>\n",
       "      <td>32.000000</td>\n",
       "      <td>32.000000</td>\n",
       "      <td>47.441143</td>\n",
       "      <td>11.050042</td>\n",
       "    </tr>\n",
       "    <tr>\n",
       "      <th>3</th>\n",
       "      <td>0.045573</td>\n",
       "      <td>0.031474</td>\n",
       "      <td>1.007172</td>\n",
       "      <td>31.772130</td>\n",
       "      <td>32.000000</td>\n",
       "      <td>31.772130</td>\n",
       "      <td>10.971355</td>\n",
       "    </tr>\n",
       "    <tr>\n",
       "      <th>4</th>\n",
       "      <td>0.060625</td>\n",
       "      <td>0.041869</td>\n",
       "      <td>1.339824</td>\n",
       "      <td>23.883734</td>\n",
       "      <td>32.000000</td>\n",
       "      <td>23.883734</td>\n",
       "      <td>8.247383</td>\n",
       "    </tr>\n",
       "    <tr>\n",
       "      <th>5</th>\n",
       "      <td>0.075677</td>\n",
       "      <td>0.052265</td>\n",
       "      <td>1.672476</td>\n",
       "      <td>19.133309</td>\n",
       "      <td>32.000000</td>\n",
       "      <td>19.133309</td>\n",
       "      <td>6.606996</td>\n",
       "    </tr>\n",
       "    <tr>\n",
       "      <th>6</th>\n",
       "      <td>0.090729</td>\n",
       "      <td>0.062660</td>\n",
       "      <td>2.005128</td>\n",
       "      <td>15.959081</td>\n",
       "      <td>31.918162</td>\n",
       "      <td>15.959081</td>\n",
       "      <td>5.510891</td>\n",
       "    </tr>\n",
       "    <tr>\n",
       "      <th>7</th>\n",
       "      <td>0.105782</td>\n",
       "      <td>0.073056</td>\n",
       "      <td>2.337780</td>\n",
       "      <td>13.688200</td>\n",
       "      <td>27.376400</td>\n",
       "      <td>13.688200</td>\n",
       "      <td>4.726724</td>\n",
       "    </tr>\n",
       "    <tr>\n",
       "      <th>8</th>\n",
       "      <td>0.120834</td>\n",
       "      <td>0.083451</td>\n",
       "      <td>2.670432</td>\n",
       "      <td>11.983080</td>\n",
       "      <td>23.966160</td>\n",
       "      <td>11.983080</td>\n",
       "      <td>4.137923</td>\n",
       "    </tr>\n",
       "  </tbody>\n",
       "</table>\n",
       "</div>"
      ],
      "text/plain": [
       "   cycles per deg.  cycles per pixel  cycles per stimulus  fwhm (pix)  \\\n",
       "0         0.000417          0.000288             0.009216   32.000000   \n",
       "1         0.015469          0.010683             0.341868   32.000000   \n",
       "2         0.030521          0.021079             0.674520   32.000000   \n",
       "3         0.045573          0.031474             1.007172   31.772130   \n",
       "4         0.060625          0.041869             1.339824   23.883734   \n",
       "5         0.075677          0.052265             1.672476   19.133309   \n",
       "6         0.090729          0.062660             2.005128   15.959081   \n",
       "7         0.105782          0.073056             2.337780   13.688200   \n",
       "8         0.120834          0.083451             2.670432   11.983080   \n",
       "\n",
       "       n_pix  pixels per cycle  prf_size (deg)  \n",
       "0  32.000000       3472.222222       11.050042  \n",
       "1  32.000000         93.603379       11.050042  \n",
       "2  32.000000         47.441143       11.050042  \n",
       "3  32.000000         31.772130       10.971355  \n",
       "4  32.000000         23.883734        8.247383  \n",
       "5  32.000000         19.133309        6.606996  \n",
       "6  31.918162         15.959081        5.510891  \n",
       "7  27.376400         13.688200        4.726724  \n",
       "8  23.966160         11.983080        4.137923  "
      ]
     },
     "execution_count": 4,
     "metadata": {},
     "output_type": "execute_result"
    }
   ],
   "source": [
    "##parameters for designing gabor feature maps\n",
    "##specify frequencies in cycles_per_pixel, use to determine size of prf.\n",
    "##should probably specify in cycles per deg.\n",
    "pixel_per_deg = 34.751*(stim_size/768.)    ##determined by experiment 34.751 = match/nonmatch exp.\n",
    "pixels_per_stimulus = stim_size ##det. by exp. 768 = match/nonmatch exp.\n",
    "cycles_per_pixel = np.linspace(0.000288,0.083451,num=D)  ##cyc/pix\n",
    "cycles_per_fwhm = 1.0\n",
    "fwhms_per_kernel = 2.0 ##determines how big the picture of the gabor will be.\n",
    "\n",
    "metrics = {'cycles per pixel':cycles_per_pixel,\n",
    "           'pixels per cycle': 1./cycles_per_pixel,\n",
    "           'cycles per stimulus': cycles_per_pixel*pixels_per_stimulus,\n",
    "           'cycles per deg.': cycles_per_pixel*pixel_per_deg,\n",
    "           'fwhm (pix)': np.clip(cycles_per_fwhm/cycles_per_pixel,0,pixels_per_stimulus),\n",
    "           'prf_size (deg)': np.clip(cycles_per_fwhm/cycles_per_pixel,0,pixels_per_stimulus)/pixel_per_deg/2.,\n",
    "           'n_pix': np.clip(fwhms_per_kernel*cycles_per_fwhm/cycles_per_pixel,0,pixels_per_stimulus)}\n",
    "\n",
    "fm = pd.DataFrame(metrics)\n",
    "fm"
   ]
  },
  {
   "cell_type": "code",
   "execution_count": 5,
   "metadata": {
    "collapsed": false
   },
   "outputs": [],
   "source": [
    "idx = 8\n",
    "ori = np.pi/2.\n",
    "center = (0,0)\n",
    "freq = fm.loc[idx,'cycles per stimulus']\n",
    "fwhm = fm.loc[idx,'fwhm (pix)']\n",
    "n_pix = int(fm.loc[idx,'n_pix'])"
   ]
  },
  {
   "cell_type": "code",
   "execution_count": 6,
   "metadata": {
    "collapsed": false
   },
   "outputs": [
    {
     "name": "stdout",
     "output_type": "stream",
     "text": [
      "(32, 32)\n"
     ]
    },
    {
     "data": {
      "image/png": "[encoded data removed]",
      "text/plain": [
       "<matplotlib.figure.Figure at 0x7fbacc3cd350>"
      ]
     },
     "metadata": {},
     "output_type": "display_data"
    }
   ],
   "source": [
    "foo = gaborme(freq,ori,center,fwhm,stim_size)\n",
    "plt.imshow(np.real(foo),cmap='gray')\n",
    "print foo.shape"
   ]
  },
  {
   "cell_type": "code",
   "execution_count": 7,
   "metadata": {
    "collapsed": false
   },
   "outputs": [
    {
     "data": {
      "text/plain": [
       "<matplotlib.image.AxesImage at 0x7fba87eb1990>"
      ]
     },
     "execution_count": 7,
     "metadata": {},
     "output_type": "execute_result"
    },
    {
     "data": {
      "image/png": "[encoded data removed]",
      "text/plain": [
       "<matplotlib.figure.Figure at 0x7fba87fd1390>"
      ]
     },
     "metadata": {},
     "output_type": "display_data"
    }
   ],
   "source": [
    "##create filter stack, but separate real/imag parts because theano doesn't like complex numbers\n",
    "filter_channels = 2\n",
    "filter_stack = np.zeros((D, filter_channels, stim_size, stim_size)).astype('float32')\n",
    "for d in range(D):\n",
    "    ori = np.pi\n",
    "    center = (0,0)\n",
    "    freq = fm.loc[d,'cycles per stimulus']\n",
    "    fwhm = fm.loc[d,'fwhm (pix)']\n",
    "    n_pix = stim_size\n",
    "    tmp_filter = gaborme(freq,ori,center,fwhm,n_pix)\n",
    "    filter_stack[d,0,:,:] = np.real(tmp_filter).astype('float32')\n",
    "    filter_stack[d,1,:,:] = np.imag(tmp_filter).astype('float32')\n",
    "\n",
    "##show imag. part of some filter    \n",
    "plt.imshow(filter_stack[-1,1,:,:],cmap='gray')\n"
   ]
  },
  {
   "cell_type": "markdown",
   "metadata": {},
   "source": [
    "### Feature maps (apply Gabors to stimuli)\n",
    "This stage produces the feature maps =  T x D x stim_size x stim_size tensor.\n",
    "How to apply all filters at once when they have different sizes?\n",
    "Perhaps set all filter to largest size.\n",
    "\n",
    "Question: normalize w.r.t. feature maps, or w.r.t. pixels within feature maps?"
   ]
  },
  {
   "cell_type": "code",
   "execution_count": 8,
   "metadata": {
    "collapsed": false
   },
   "outputs": [],
   "source": [
    "##theano symbolic variables\n",
    "stim_tnsr = tnsr.tensor4('stim_tnsr')  ##T x n_image_channels x stim_size x stim_size\n",
    "real_filter_stack_tnsr = tnsr.tensor4('real_feature_map_tnsr') ##D x n_image_channels x stim_size x stim_size. complex\n",
    "imag_filter_stack_tnsr = tnsr.tensor4('imag_feature_map_tnsr') ##D x n_image_channels x stim_size x stim_size. complex\n",
    "real_feature_map_tnsr = tnsr.nnet.conv2d(stim_tnsr,\n",
    "                                 real_filter_stack_tnsr,\n",
    "                                 image_shape = stim_tnsr_shape,\n",
    "                                 filter_shape = filter_stack_shape,\n",
    "                                 border_mode = 'full')  ##produces T x D x stim_size x stim_size maps\n",
    "imag_feature_map_tnsr = tnsr.nnet.conv2d(stim_tnsr,\n",
    "                                 imag_filter_stack_tnsr,\n",
    "                                 image_shape = stim_tnsr_shape,\n",
    "                                 filter_shape = filter_stack_shape,\n",
    "                                 border_mode = 'full')  ##produces T x D x stim_size x stim_size maps\n",
    "\n",
    "##for filtering with complex gabors, we need an operation for squaring/summing real/imag parts\n",
    "\n",
    "abs_value = tnsr.sqrt(tnsr.sqr(real_feature_map_tnsr) + tnsr.sqr(imag_feature_map_tnsr))\n"
   ]
  },
  {
   "cell_type": "code",
   "execution_count": 9,
   "metadata": {
    "collapsed": false
   },
   "outputs": [],
   "source": [
    "##functionize feature mapping\n",
    "make_feature_maps = function(inputs = [stim_tnsr,real_filter_stack_tnsr,imag_filter_stack_tnsr],\n",
    "                             outputs = abs_value)"
   ]
  },
  {
   "cell_type": "code",
   "execution_count": 10,
   "metadata": {
    "collapsed": false,
    "scrolled": true
   },
   "outputs": [
    {
     "name": "stdout",
     "output_type": "stream",
     "text": [
      "5.25673317909\n",
      "(1000, 9, 63, 63)\n"
     ]
    }
   ],
   "source": [
    "##create feature maps\n",
    "##only applying real parts of the filters.\n",
    "##will have to loop or scan over extra dimension for complex filtering\n",
    "start = time()\n",
    "feature_maps = make_feature_maps(stimuli,\n",
    "                                 np.reshape(filter_stack[:,0,:,:], (D,n_image_channels,stim_size,stim_size)),\n",
    "                                 np.reshape(filter_stack[:,1,:,:], (D,n_image_channels,stim_size,stim_size)))\n",
    "\n",
    "print time()-start\n",
    "\n",
    "print feature_maps.shape\n",
    "new_size = feature_maps.shape[2]\n",
    "crop_start = np.round((new_size-stim_size)/2.).astype('int')\n",
    "crop_stop = crop_start+stim_size\n",
    "feature_maps = feature_maps[:, :, crop_start:crop_stop, crop_start:crop_stop]"
   ]
  },
  {
   "cell_type": "code",
   "execution_count": 11,
   "metadata": {
    "collapsed": false
   },
   "outputs": [
    {
     "name": "stdout",
     "output_type": "stream",
     "text": [
      "(1000, 9, 32, 32)\n"
     ]
    },
    {
     "data": {
      "text/plain": [
       "<matplotlib.image.AxesImage at 0x7fba878f7e50>"
      ]
     },
     "execution_count": 11,
     "metadata": {},
     "output_type": "execute_result"
    },
    {
     "data": {
      "image/png": "[encoded data removed]",
      "text/plain": [
       "<matplotlib.figure.Figure at 0x7fba8c7ae850>"
      ]
     },
     "metadata": {},
     "output_type": "display_data"
    }
   ],
   "source": [
    "print feature_maps.shape\n",
    "plt.imshow(feature_maps[2,-1,:,:],cmap='gray')\n",
    "###notice nasty edge artifact"
   ]
  },
  {
   "cell_type": "code",
   "execution_count": 12,
   "metadata": {
    "collapsed": false
   },
   "outputs": [
    {
     "name": "stdout",
     "output_type": "stream",
     "text": [
      "14.0818369389\n"
     ]
    }
   ],
   "source": [
    "##check against scipy...get x20 speeedup.\n",
    "start = time()\n",
    "for t in range(T/10):\n",
    "    for d in range(D):\n",
    "        np.sqrt(conv2d(stimuli[t,0,:,:], filter_stack[d,0,:,:])**2+conv2d(stimuli[t,0,:,:], filter_stack[d,0,:,:])**2)\n",
    "print time()-start"
   ]
  },
  {
   "cell_type": "markdown",
   "metadata": {},
   "source": [
    "#### Space-time kernel function"
   ]
  },
  {
   "cell_type": "code",
   "execution_count": 13,
   "metadata": {
    "collapsed": true
   },
   "outputs": [],
   "source": [
    "def space_time_kernel(center, fwhm, n_pix, time_kernel):\n",
    "    '''\n",
    "    a separable space-time kernel.\n",
    "    space kernel is gaussian\n",
    "    time kernel is an array of length T\n",
    "    returns a 3-D volume that is (n_pix,n_pix,T)\n",
    "    slice it to see what it does.\n",
    "    '''\n",
    "    space_kernel = np.atleast_3d(make_gaussian(center,fwhm,n_pix))\n",
    "    return time_kernel*space_kernel\n",
    "    \n",
    "    "
   ]
  },
  {
   "cell_type": "markdown",
   "metadata": {},
   "source": [
    "#### construct a brute-force grid over spatial and temporal kernel and activation function params."
   ]
  },
  {
   "cell_type": "code",
   "execution_count": 17,
   "metadata": {
    "collapsed": false
   },
   "outputs": [
    {
     "data": {
      "text/plain": [
       "<matplotlib.image.AxesImage at 0x7fba87f27e90>"
      ]
     },
     "execution_count": 17,
     "metadata": {},
     "output_type": "execute_result"
    },
    {
     "data": {
      "image/png": "[encoded data removed]",
      "text/plain": [
       "<matplotlib.figure.Figure at 0x7fba85cece10>"
      ]
     },
     "metadata": {},
     "output_type": "display_data"
    }
   ],
   "source": [
    "##dumb grid\n",
    "##create filter stack, but separate real/imag parts because theano doesn't like complex numbers\n",
    "g_counter = 0\n",
    "half_stim_size = np.round(stim_size/2.).astype('int')\n",
    "g_rows, g_cols = construct_placement_grid([-half_stim_size,half_stim_size,-half_stim_size,half_stim_size],np.round(stim_size/Gx).astype('int'))\n",
    "rf_stack = np.zeros((Gx*Gy*Gw, stim_size, stim_size)).astype('float32')\n",
    "for gw in fm['fwhm (pix)']:\n",
    "    for gx,gy in zip(g_rows.ravel(),g_cols.ravel()):\n",
    "            center = (gx,gy)\n",
    "            fwhm = gw\n",
    "            rf_stack[g_counter,:,:] = np.squeeze(space_time_kernel(center, fwhm, stim_size, 1)).astype('float32')\n",
    "            g_counter += 1\n",
    "plt.imshow(rf_stack[64*5+28,:,:])"
   ]
  },
  {
   "cell_type": "code",
   "execution_count": 18,
   "metadata": {
    "collapsed": false
   },
   "outputs": [
    {
     "data": {
      "text/plain": [
       "(576, 32, 32)"
      ]
     },
     "execution_count": 18,
     "metadata": {},
     "output_type": "execute_result"
    }
   ],
   "source": [
    "rf_stack.shape"
   ]
  },
  {
   "cell_type": "code",
   "execution_count": 19,
   "metadata": {
    "collapsed": false
   },
   "outputs": [
    {
     "data": {
      "text/plain": [
       "(1000, 9, 32, 32)"
      ]
     },
     "execution_count": 19,
     "metadata": {},
     "output_type": "execute_result"
    }
   ],
   "source": [
    "feature_maps.shape"
   ]
  },
  {
   "cell_type": "markdown",
   "metadata": {},
   "source": [
    "### Model space\n",
    "\n",
    "Apply rf filters to feature maps"
   ]
  },
  {
   "cell_type": "code",
   "execution_count": 20,
   "metadata": {
    "collapsed": false
   },
   "outputs": [],
   "source": [
    "rf_stack_tnsr = tnsr.tensor3('rf_stack_tnsr') ##G x stim_size x stim_size\n",
    "feature_map_tnsr = tnsr.tensor4('feature_map_tnsr') ##T x D x stim_size x stim_size\n",
    "\n",
    "apply_rf_to_feature_maps = function(inputs = [rf_stack_tnsr,feature_map_tnsr],\n",
    "                                    outputs = tnsr.tensordot(rf_stack_tnsr,\n",
    "                                                                     feature_map_tnsr,\n",
    "                                                                     axes=[[1,2], [2,3]]))"
   ]
  },
  {
   "cell_type": "code",
   "execution_count": 21,
   "metadata": {
    "collapsed": false,
    "scrolled": true
   },
   "outputs": [],
   "source": [
    "model_space = apply_rf_to_feature_maps(rf_stack, feature_maps)"
   ]
  },
  {
   "cell_type": "code",
   "execution_count": 22,
   "metadata": {
    "collapsed": false
   },
   "outputs": [
    {
     "name": "stdout",
     "output_type": "stream",
     "text": [
      "(576, 1000, 9)\n"
     ]
    }
   ],
   "source": [
    "print model_space.shape  ##G x T x D"
   ]
  },
  {
   "cell_type": "code",
   "execution_count": 23,
   "metadata": {
    "collapsed": false
   },
   "outputs": [
    {
     "data": {
      "text/plain": [
       "dtype('float32')"
      ]
     },
     "execution_count": 23,
     "metadata": {},
     "output_type": "execute_result"
    }
   ],
   "source": [
    "model_space.dtype"
   ]
  },
  {
   "cell_type": "markdown",
   "metadata": {},
   "source": [
    "### Application of feature-weight tensor to model-space tensor in Theano*\n",
    "Something like this is what we'd need to generate predictions before we've decided what\n",
    "the RF params are going to be. So this code generates predictions for all RFs, all voxels."
   ]
  },
  {
   "cell_type": "code",
   "execution_count": 38,
   "metadata": {
    "collapsed": false
   },
   "outputs": [],
   "source": [
    "model_space_tnsr = tnsr.tensor3('X')    ##model-space tensor: G x T x D\n",
    "feature_weight_tnsr = tnsr.tensor3('NU')  ##feature weight tensor: G x D x V\n",
    "prediction_menu_tnsr = tnsr.batched_tensordot(model_space_tnsr,\n",
    "                                              feature_weight_tnsr,\n",
    "                                              axes=[[2],[1]]) ##prediction tensor: G x T x V\n",
    "bigmult = function([model_space_tnsr,feature_weight_tnsr], prediction_menu_tnsr)\n"
   ]
  },
  {
   "cell_type": "code",
   "execution_count": 39,
   "metadata": {
    "collapsed": false
   },
   "outputs": [],
   "source": [
    "feature_weights = np.random.rand(Gx*Gy*Gw,D,V).astype('float32') ##RFparams x Dimensions x Voxels"
   ]
  },
  {
   "cell_type": "code",
   "execution_count": null,
   "metadata": {
    "collapsed": false
   },
   "outputs": [],
   "source": [
    "start = time()\n",
    "print np.einsum('gtd,gdv->gtv',model_space,feature_weights).shape  ##RFparams x Trials x Voxels\n",
    "print time()-start"
   ]
  },
  {
   "cell_type": "code",
   "execution_count": 40,
   "metadata": {
    "collapsed": false,
    "scrolled": false
   },
   "outputs": [
    {
     "name": "stdout",
     "output_type": "stream",
     "text": [
      "(576, 1000, 10)\n",
      "0.183428049088\n"
     ]
    }
   ],
   "source": [
    "start = time()\n",
    "prediction_menu = bigmult(model_space,feature_weights)  ##G x T x V\n",
    "print prediction_menu.shape\n",
    "print time()-start"
   ]
  },
  {
   "cell_type": "markdown",
   "metadata": {
    "collapsed": true
   },
   "source": [
    "^^^ For basic operation (data x weights) theano can be about x100 faster, although this seems to depend upon what else you're doing with the computer at the time. Seems important to start \"fresh\", with nothing else in memory.\n",
    "\n",
    "For 400K voxels and grid size of (centers x widths x activation exponent) = (64^2 x 8 x 8) we're looking at at least 190hrs on the GPU. Probably will take more time because this doesn't include the feature-weight optimization.\n",
    "\n",
    "If we are going to do grad. desc. on the feature weights we could potentially fold some of the RF or activation function parameters into the gradient..."
   ]
  },
  {
   "cell_type": "markdown",
   "metadata": {},
   "source": [
    "### Fake voxels\n",
    "Random feature weights, random"
   ]
  },
  {
   "cell_type": "code",
   "execution_count": 41,
   "metadata": {
    "collapsed": false
   },
   "outputs": [
    {
     "name": "stdout",
     "output_type": "stream",
     "text": [
      "noise level: 10869.009375\n",
      "(1000, 10)\n"
     ]
    },
    {
     "name": "stderr",
     "output_type": "stream",
     "text": [
      "/home/tnaselar/anaconda/lib/python2.7/site-packages/ipykernel/__main__.py:6: DeprecationWarning: using a non-integer number instead of an integer will result in an error in the future\n"
     ]
    }
   ],
   "source": [
    "voxel_data = np.zeros((T,V)).astype('float32')\n",
    "voxel_ids = np.linspace(0, Gx*Gy*Gw, num=V,endpoint=False)\n",
    "noise_level = 0.1*np.mean(prediction_menu)\n",
    "print 'noise level: %f' %(noise_level)\n",
    "for v in range(V):\n",
    "    voxel_data[:,v] = prediction_menu[voxel_ids[v],:,v]+np.random.randn(T)*noise_level\n",
    "voxel_data = voxel_data.astype('float32')    \n",
    "print voxel_data.shape"
   ]
  },
  {
   "cell_type": "markdown",
   "metadata": {},
   "source": [
    "### Error function (G)\n",
    "Calculate error over model space, then argmax over rf grid to select final model for each voxel."
   ]
  },
  {
   "cell_type": "markdown",
   "metadata": {},
   "source": [
    "#### the error function"
   ]
  },
  {
   "cell_type": "code",
   "execution_count": 43,
   "metadata": {
    "collapsed": false
   },
   "outputs": [],
   "source": [
    "voxel_data_tnsr = tnsr.matrix('voxel_data_tnsr')  ##voxel data tensor: T x V\n",
    "\n",
    "diff = voxel_data_tnsr-prediction_menu_tnsr  ##difference tensor: (T x V) - (G x T x V) = (G x T x V)\n",
    "sq_diff = (diff*diff).sum(axis=1) ##sum-sqaured-diffs tensor: G x V\n",
    "sq_diff_func = function(inputs=[voxel_data_tnsr,prediction_menu_tnsr],\n",
    "                        outputs = sq_diff)  "
   ]
  },
  {
   "cell_type": "code",
   "execution_count": 44,
   "metadata": {
    "collapsed": false
   },
   "outputs": [
    {
     "name": "stdout",
     "output_type": "stream",
     "text": [
      "(576, 10)\n"
     ]
    }
   ],
   "source": [
    "error_menu = sq_diff_func(voxel_data,prediction_menu)\n",
    "print error_menu.shape"
   ]
  },
  {
   "cell_type": "markdown",
   "metadata": {},
   "source": [
    "#### model selection"
   ]
  },
  {
   "cell_type": "code",
   "execution_count": 45,
   "metadata": {
    "collapsed": false
   },
   "outputs": [
    {
     "data": {
      "text/plain": [
       "(10,)"
      ]
     },
     "execution_count": 45,
     "metadata": {},
     "output_type": "execute_result"
    }
   ],
   "source": [
    "best_model_idx = error_menu.argmax(axis=0)\n",
    "best_model_idx.shape"
   ]
  },
  {
   "cell_type": "markdown",
   "metadata": {
    "collapsed": true
   },
   "source": [
    "### Gradient w.r.t. feature weights for many voxels choices of rf params (at once).\n"
   ]
  },
  {
   "cell_type": "markdown",
   "metadata": {},
   "source": [
    "#### define a gradient\n",
    "Theano only takes gradients of functions with scalar outputs. Here we have G x V outputs of the cost function and we want to take gradient with respect to the weights that are specific to each (rf_param,voxel). Instead of doing a scan over all such pairs, we exploit fact that gradient w.r.t. weights not used to compute error for each (rf_param,voxel) are just zero. So we can take gradient of the SUM of the cost matrix w.r.t. entire matrix of feature weights. "
   ]
  },
  {
   "cell_type": "code",
   "execution_count": 46,
   "metadata": {
    "collapsed": true
   },
   "outputs": [],
   "source": [
    "SQD_sum = sq_diff.sum()  ##<<this is critical\n",
    "grad_SQD_wrt_NU = tnsr.grad(SQD_sum,feature_weight_tnsr) ##<<the summing trick above makes this easy. "
   ]
  },
  {
   "cell_type": "code",
   "execution_count": 47,
   "metadata": {
    "collapsed": true
   },
   "outputs": [],
   "source": [
    "compute_grad = function(inputs = [voxel_data_tnsr,model_space_tnsr,feature_weight_tnsr],\n",
    "                        outputs=grad_SQD_wrt_NU)"
   ]
  },
  {
   "cell_type": "markdown",
   "metadata": {},
   "source": [
    "#### clock and check against explicit gradient"
   ]
  },
  {
   "cell_type": "code",
   "execution_count": 48,
   "metadata": {
    "collapsed": false
   },
   "outputs": [
    {
     "name": "stdout",
     "output_type": "stream",
     "text": [
      "(576, 9, 10)\n",
      "0.174582004547\n"
     ]
    }
   ],
   "source": [
    "start = time()\n",
    "grrrr = compute_grad(voxel_data,model_space,feature_weights)\n",
    "print grrrr.shape\n",
    "print time()-start"
   ]
  },
  {
   "cell_type": "code",
   "execution_count": 50,
   "metadata": {
    "collapsed": false
   },
   "outputs": [
    {
     "name": "stdout",
     "output_type": "stream",
     "text": [
      "40.4406738281\n"
     ]
    }
   ],
   "source": [
    "##check for one voxel/rf combo\n",
    "guh = np.zeros(model_space[0,0,:].shape)\n",
    "prediction_menu = bigmult(model_space,feature_weights)\n",
    "start = time()\n",
    "\n",
    "##compute one gradient\n",
    "for t in range(T):\n",
    "    guh += 2*(voxel_data[t,0]-prediction_menu[0,t,0])*model_space[0,t,:]\n",
    "\n",
    "##best possible timing\n",
    "print (time()-start)*Gx*Gy*Gw*V  "
   ]
  },
  {
   "cell_type": "code",
   "execution_count": 54,
   "metadata": {
    "collapsed": false
   },
   "outputs": [
    {
     "data": {
      "text/plain": [
       "array([  8.29274465e-07,   9.81533978e-07,   7.27431369e-07,\n",
       "         2.19216465e-06,   3.19800281e-07,   5.10232427e-07,\n",
       "         4.46723169e-07,   1.18704305e-06,   5.09242112e-07])"
      ]
     },
     "execution_count": 54,
     "metadata": {},
     "output_type": "execute_result"
    }
   ],
   "source": [
    "##they don't match exactly, but differences are 6-7 orders of mag smaller than errors\n",
    "abs(guh+grrrr[0,:,0])/abs(guh)"
   ]
  },
  {
   "cell_type": "markdown",
   "metadata": {},
   "source": [
    "### Training loop with early stopping, mini-batch sgd\n",
    "http://deeplearning.net/tutorial/gettingstarted.html"
   ]
  },
  {
   "cell_type": "code",
   "execution_count": 55,
   "metadata": {
    "collapsed": true
   },
   "outputs": [],
   "source": [
    "#### partition data"
   ]
  },
  {
   "cell_type": "code",
   "execution_count": null,
   "metadata": {
    "collapsed": true
   },
   "outputs": [],
   "source": [
    "validation_fraction = 0.1\n",
    "training_model_space\n",
    "training_voxel_data\n",
    "validation_model_space\n",
    "validation_voxel_data"
   ]
  },
  {
   "cell_type": "code",
   "execution_count": null,
   "metadata": {
    "collapsed": true
   },
   "outputs": [],
   "source": [
    "#specify number of training batches\n",
    "n_train_batches = ...\n",
    "\n",
    "# early-stopping parameters\n",
    "patience = 5000  # look as this many examples regardless\n",
    "patience_increase = 2     # wait this much longer when a new best is\n",
    "                              # found\n",
    "improvement_threshold = 0.995  # a relative improvement of this much is\n",
    "                               # considered significant\n",
    "validation_frequency = min(n_train_batches, patience/2)\n",
    "                              # go through this many\n",
    "                              # minibatches before checking the network\n",
    "                              # on the validation set; in this case we\n",
    "                              # check every epoch\n",
    "\n",
    "                \n",
    "best_params = None\n",
    "best_validation_loss = numpy.inf\n",
    "test_score = 0.\n",
    "start_time = time.clock()\n",
    "\n",
    "done_looping = False\n",
    "epoch = 0\n",
    "while (epoch < n_epochs) and (not done_looping):\n",
    "    # Report \"1\" for first epoch, \"n_epochs\" for last epoch\n",
    "    epoch = epoch + 1\n",
    "    for minibatch_index in xrange(n_train_batches):\n",
    "\n",
    "        d_loss_wrt_params = compute_grad(voxel_data, model_space, feature_weights)  ##<<must supply minibatch index\n",
    "        params -= learning_rate * d_loss_wrt_params # gradient descent\n",
    "\n",
    "        # iteration number. We want it to start at 0.\n",
    "        iter = (epoch - 1) * n_train_batches + minibatch_index\n",
    "        # note that if we do `iter % validation_frequency` it will be\n",
    "        # true for iter = 0 which we do not want. We want it true for\n",
    "        # iter = validation_frequency - 1.\n",
    "        if (iter + 1) % validation_frequency == 0:\n",
    "            \n",
    "            prediction_menu = bigmult(validation_voxel_data,best_params)\n",
    "            this_validation_loss = sq_diff_func(voxel_data,prediction_menu) # compute zero-one loss on validation set\n",
    "\n",
    "            if this_validation_loss < best_validation_loss: ##must distribute condition across all voxels\n",
    "\n",
    "                # improve patience if loss improvement is good enough\n",
    "                if this_validation_loss < best_validation_loss * improvement_threshold:\n",
    "\n",
    "                    patience = max(patience, iter * patience_increase)\n",
    "                best_params = copy.deepcopy(params)\n",
    "                best_validation_loss = this_validation_loss\n",
    "\n",
    "        if patience <= iter:\n",
    "            done_looping = True\n",
    "            break\n",
    "\n",
    "# POSTCONDITION:\n",
    "# best_params refers to the best out-of-sample parameters observed during the optimization\n"
   ]
  },
  {
   "cell_type": "code",
   "execution_count": null,
   "metadata": {
    "collapsed": true
   },
   "outputs": [],
   "source": []
  }
 ],
 "metadata": {
  "kernelspec": {
   "display_name": "Python 2",
   "language": "python",
   "name": "python2"
  },
  "language_info": {
   "codemirror_mode": {
    "name": "ipython",
    "version": 2
   },
   "file_extension": ".py",
   "mimetype": "text/x-python",
   "name": "python",
   "nbconvert_exporter": "python",
   "pygments_lexer": "ipython2",
   "version": "2.7.11"
  }
 },
 "nbformat": 4,
 "nbformat_minor": 0
}
