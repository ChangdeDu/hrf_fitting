{
 "cells": [
  {
   "cell_type": "code",
   "execution_count": null,
   "metadata": {
    "collapsed": true
   },
   "outputs": [],
   "source": [
    "#### load / create a feature dictionary\n",
    "#### load / create a model space\n",
    "#### built a routine for unraveling the feature space\n",
    "#### build theano method for generating model-space tensors from unraveled feature spaces\n",
    "#### build theano method for generating predictions from unraveled fs\n",
    "#### build theano method for predicted/measured error across *voxels*, not trials\n",
    "#### build theano method for gradient w.r.t flattened feature maps\n",
    "#### refactor model-training machinery to run decoding with voxel resampling and early stopping."
   ]
  },
  {
   "cell_type": "code",
   "execution_count": 1,
   "metadata": {
    "collapsed": false
   },
   "outputs": [
    {
     "name": "stderr",
     "output_type": "stream",
     "text": [
      "Using gpu device 0: GeForce GTX TITAN X\n"
     ]
    }
   ],
   "source": [
    "import numpy as np\n",
    "import pandas as pd\n",
    "import matplotlib.pyplot as plt\n",
    "import h5py\n",
    "from time import time\n",
    "from glob import glob\n",
    "from scipy.io import loadmat\n",
    "from PIL import Image\n",
    "from scipy.stats import pearsonr\n",
    "from hrf_fitting.src.feature_weighted_rf_models import make_rf_table,receptive_fields, model_space, prediction_menu, bigmult\n",
    "from hrf_fitting.src.feature_weighted_rf_models import train_fwrf_model\n",
    "from hrf_fitting.src.gabor_feature_dictionaries import gabor_feature_maps\n",
    "\n",
    "%load_ext autoreload\n",
    "%autoreload 2\n",
    "%matplotlib inline"
   ]
  },
  {
   "cell_type": "code",
   "execution_count": 2,
   "metadata": {
    "collapsed": true
   },
   "outputs": [],
   "source": [
    "##fake features"
   ]
  },
  {
   "cell_type": "code",
   "execution_count": 6,
   "metadata": {
    "collapsed": true
   },
   "outputs": [],
   "source": [
    "\n",
    "T = 10 \n",
    "feature_dict = {}\n",
    "feature_dict['f1'] = np.random.rand(T,2,32,32) #T x Di x Si x Si\n",
    "feature_dict['f2'] = np.random.rand(T, 4, 16,16)\n",
    "feature_dict['f3'] = np.random.rand(T, 8, 8, 8)\n"
   ]
  },
  {
   "cell_type": "code",
   "execution_count": 7,
   "metadata": {
    "collapsed": true
   },
   "outputs": [],
   "source": [
    "##receptive fields"
   ]
  },
  {
   "cell_type": "code",
   "execution_count": 8,
   "metadata": {
    "collapsed": true
   },
   "outputs": [],
   "source": [
    "deg_per_stimulus = 20\n",
    "deg_per_radius = (.5, 8, 8) ##rf sizes in degrees (smallest, largest, number of sizes)\n",
    "spacing = 1. ##spacing between rf's in degrees\n",
    "rf = receptive_fields(deg_per_stimulus,deg_per_radius,spacing)"
   ]
  },
  {
   "cell_type": "code",
   "execution_count": 9,
   "metadata": {
    "collapsed": true
   },
   "outputs": [],
   "source": [
    "##model space"
   ]
  },
  {
   "cell_type": "code",
   "execution_count": 11,
   "metadata": {
    "collapsed": false
   },
   "outputs": [],
   "source": [
    "##construct the model space\n",
    "ms = model_space(feature_dict, rf)"
   ]
  },
  {
   "cell_type": "code",
   "execution_count": null,
   "metadata": {
    "collapsed": true
   },
   "outputs": [],
   "source": [
    "##construct model space tensor via single application of weight matrix, not using a loop over stuff.\n",
    "fwrf_population:\n",
    "    mask\n",
    "    refvolume\n",
    "    voxel_ids\n",
    "    model_space\n",
    "    voxel_rfs\n",
    "    voxel_weights\n",
    "    prediction_function\n",
    "        __feature_dictionary_unraveler: feature maps have to be unraveled because they might have different\n",
    "            resolutions.\n",
    "        __theano_prediction_kernel(feature_array, activation_function, weights)\n",
    "    \n",
    "leave_k_out_decoding\n"
   ]
  },
  {
   "cell_type": "code",
   "execution_count": null,
   "metadata": {
    "collapsed": true
   },
   "outputs": [],
   "source": [
    "##flatten feature dict into a big matrix\n",
    "##format weights for direct application\n",
    "##theano expression for the activation( normalization (model space) ) ) function\n"
   ]
  }
 ],
 "metadata": {
  "kernelspec": {
   "display_name": "Python 2",
   "language": "python",
   "name": "python2"
  },
  "language_info": {
   "codemirror_mode": {
    "name": "ipython",
    "version": 2
   },
   "file_extension": ".py",
   "mimetype": "text/x-python",
   "name": "python",
   "nbconvert_exporter": "python",
   "pygments_lexer": "ipython2",
   "version": "2.7.11"
  }
 },
 "nbformat": 4,
 "nbformat_minor": 0
}
